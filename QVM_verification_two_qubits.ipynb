{
 "cells": [
  {
   "cell_type": "code",
   "execution_count": 48,
   "metadata": {},
   "outputs": [
    {
     "name": "stdout",
     "output_type": "stream",
     "text": [
      "Defaulting to user installation because normal site-packages is not writeable\n",
      "Collecting graphviz\n",
      "  Downloading graphviz-0.20.3-py3-none-any.whl (47 kB)\n",
      "\u001b[2K     \u001b[38;2;114;156;31m━━━━━━━━━━━━━━━━━━━━━━━━━━━━━━━━━━━━━━━\u001b[0m \u001b[32m47.1/47.1 KB\u001b[0m \u001b[31m159.8 kB/s\u001b[0m eta \u001b[36m0:00:00\u001b[0m MB/s\u001b[0m eta \u001b[36m0:00:01\u001b[0m\n",
      "\u001b[?25hInstalling collected packages: graphviz\n",
      "Successfully installed graphviz-0.20.3\n"
     ]
    }
   ],
   "source": [
    "!pip install graphviz\n"
   ]
  },
  {
   "cell_type": "code",
   "execution_count": 1,
   "metadata": {},
   "outputs": [
    {
     "data": {
      "text/plain": [
       "'workflow_diagram_compact.png'"
      ]
     },
     "execution_count": 1,
     "metadata": {},
     "output_type": "execute_result"
    }
   ],
   "source": [
    "from graphviz import Digraph\n",
    "\n",
    "# Crear el grafo dirigido\n",
    "g = Digraph('Workflow', format='png', node_attr={'shape': 'box', 'style': 'rounded,filled', 'fillcolor': 'lightblue', 'fontsize': '17'}, edge_attr={'fontsize': '10'})\n",
    "\n",
    "# Inicio\n",
    "g.node('A', 'Start', fillcolor='lightgreen')\n",
    "g.edge('A', 'A', label='<<b>GitHub repository for reproducibility</b>>', style='', color='black',fontsize='16', penwidth='2')\n",
    "# Paso A: Feature Generation\n",
    "g.node('B', '''Step A: Feature Generation\n",
    "- /IMAGES/ with subfolders\n",
    "- A1: Image Visualization\n",
    "- A2: Extraction of 13 Features\n",
    "- CSV generation in /FEATURE_RESULTS/\n",
    "- Binary concatenation of CSV files''', fillcolor='#FF99FF')  # Nodo fusionado\n",
    "g.edge('A', 'B')\n",
    "g.edge('B', 'B', label='<<b>Binary_features_generation.ipynb</b>>', style='', color='black',fontsize='16',penwidth='2')\n",
    "\n",
    "# Paso B: Optimization of QVM Model Parameters\n",
    "g.node('H', '''Step B: Optimization of QVM Model Parameters\n",
    "- Import libraries (qiskit, etc.)\n",
    "- Define functions: ZZFeatureMap\n",
    "- Load and normalize data\n",
    "- Define circuit and cost function\n",
    "- Optimization with COBYLA''', fillcolor='#FF99FF')  # Nodo fusionado\n",
    "g.edge('B', 'H')\n",
    "g.edge('H', 'H', label='<<b>FIT_DP_NODP_CIRCUIT.ipynb</b>>', style='', color='black',penwidth='2',fontsize='16')\n",
    "\n",
    "# Paso C: Verification on Real Quantum Hardware or Simulation\n",
    "g.node('R', '''Step C: Verification on Quantum Hardware/Simulation\n",
    "- Environment setup\n",
    "- Backend selection\n",
    "- Load data and optimized parameters\n",
    "- Transpile and execute circuits\n",
    "- Results analysis and accuracy''', fillcolor='#FF99FF')  # Nodo fusionado\n",
    "g.edge('H', 'R')\n",
    "g.edge('R', 'R', label='<<b>QVM_verification_two_qubits.ipynb</b>>', color='black',fontsize='16',penwidth='2')\n",
    "\n",
    "# Paso D: Execution of QKM Model\n",
    "g.node('ZA', '''Step D: Execution of QKM Model\n",
    "- Real quantum computer execution\n",
    "- Estimation Quantum Kernel''', fillcolor='#FF99FF')  # Nodo fusionado\n",
    "g.edge('R', 'ZA')\n",
    "g.edge('ZA', 'ZA', label='<<b>Git_Hub.</b>>', style='', color='black',fontsize='16',penwidth='2')\n",
    "# Final\n",
    "g.node('END', 'End', fillcolor='lightgreen')\n",
    "g.edge('ZA', 'END')\n",
    "\n",
    "# Renderizar y mostrar el gráfico\n",
    "g.render('workflow_diagram_compact', view=True)\n"
   ]
  },
  {
   "cell_type": "code",
   "execution_count": 21,
   "metadata": {},
   "outputs": [
    {
     "name": "stdout",
     "output_type": "stream",
     "text": [
      "Defaulting to user installation because normal site-packages is not writeable\n",
      "Collecting kroki\n",
      "  Downloading kroki-0.1.2.tar.gz (8.8 kB)\n",
      "  Preparing metadata (setup.py) ... \u001b[?25ldone\n",
      "\u001b[?25hRequirement already satisfied: IPython in /home/josemiguel/.local/lib/python3.10/site-packages (from kroki) (8.26.0)\n",
      "Collecting i2\n",
      "  Downloading i2-0.1.45-py3-none-any.whl (202 kB)\n",
      "\u001b[2K     \u001b[38;2;114;156;31m━━━━━━━━━━━━━━━━━━━━━━━━━━━━━━━━━━━━━\u001b[0m \u001b[32m202.8/202.8 KB\u001b[0m \u001b[31m310.7 kB/s\u001b[0m eta \u001b[36m0:00:00\u001b[0m1m400.3 kB/s\u001b[0m eta \u001b[36m0:00:01\u001b[0m\n",
      "\u001b[?25hRequirement already satisfied: requests in /home/josemiguel/.local/lib/python3.10/site-packages (from kroki) (2.32.3)\n",
      "Requirement already satisfied: pygments>=2.4.0 in /home/josemiguel/.local/lib/python3.10/site-packages (from IPython->kroki) (2.18.0)\n",
      "Requirement already satisfied: stack-data in /home/josemiguel/.local/lib/python3.10/site-packages (from IPython->kroki) (0.6.3)\n",
      "Requirement already satisfied: exceptiongroup in /home/josemiguel/.local/lib/python3.10/site-packages (from IPython->kroki) (1.2.2)\n",
      "Requirement already satisfied: matplotlib-inline in /home/josemiguel/.local/lib/python3.10/site-packages (from IPython->kroki) (0.1.7)\n",
      "Requirement already satisfied: prompt-toolkit<3.1.0,>=3.0.41 in /home/josemiguel/.local/lib/python3.10/site-packages (from IPython->kroki) (3.0.47)\n",
      "Requirement already satisfied: typing-extensions>=4.6 in /home/josemiguel/.local/lib/python3.10/site-packages (from IPython->kroki) (4.12.2)\n",
      "Requirement already satisfied: traitlets>=5.13.0 in /home/josemiguel/.local/lib/python3.10/site-packages (from IPython->kroki) (5.14.3)\n",
      "Requirement already satisfied: pexpect>4.3 in /usr/lib/python3/dist-packages (from IPython->kroki) (4.8.0)\n",
      "Requirement already satisfied: jedi>=0.16 in /home/josemiguel/.local/lib/python3.10/site-packages (from IPython->kroki) (0.19.1)\n",
      "Requirement already satisfied: decorator in /home/josemiguel/.local/lib/python3.10/site-packages (from IPython->kroki) (5.1.1)\n",
      "Requirement already satisfied: urllib3<3,>=1.21.1 in /home/josemiguel/.local/lib/python3.10/site-packages (from requests->kroki) (2.2.2)\n",
      "Requirement already satisfied: charset-normalizer<4,>=2 in /home/josemiguel/.local/lib/python3.10/site-packages (from requests->kroki) (3.3.2)\n",
      "Requirement already satisfied: idna<4,>=2.5 in /usr/lib/python3/dist-packages (from requests->kroki) (3.3)\n",
      "Requirement already satisfied: certifi>=2017.4.17 in /usr/lib/python3/dist-packages (from requests->kroki) (2020.6.20)\n",
      "Requirement already satisfied: parso<0.9.0,>=0.8.3 in /home/josemiguel/.local/lib/python3.10/site-packages (from jedi>=0.16->IPython->kroki) (0.8.4)\n",
      "Requirement already satisfied: wcwidth in /home/josemiguel/.local/lib/python3.10/site-packages (from prompt-toolkit<3.1.0,>=3.0.41->IPython->kroki) (0.2.13)\n",
      "Requirement already satisfied: asttokens>=2.1.0 in /home/josemiguel/.local/lib/python3.10/site-packages (from stack-data->IPython->kroki) (2.4.1)\n",
      "Requirement already satisfied: executing>=1.2.0 in /home/josemiguel/.local/lib/python3.10/site-packages (from stack-data->IPython->kroki) (2.0.1)\n",
      "Requirement already satisfied: pure-eval in /home/josemiguel/.local/lib/python3.10/site-packages (from stack-data->IPython->kroki) (0.2.3)\n",
      "Requirement already satisfied: six>=1.12.0 in /usr/lib/python3/dist-packages (from asttokens>=2.1.0->stack-data->IPython->kroki) (1.16.0)\n",
      "Building wheels for collected packages: kroki\n",
      "  Building wheel for kroki (setup.py) ... \u001b[?25ldone\n",
      "\u001b[?25h  Created wheel for kroki: filename=kroki-0.1.2-py3-none-any.whl size=9066 sha256=e702d541090f136e332e8d8222e5d2de9e16c7a00f0de3031d89b8285dcb7e40\n",
      "  Stored in directory: /home/josemiguel/.cache/pip/wheels/5e/31/e5/3be72bc7a0710c313efdfdf6b5616598741bd49ef9735b435b\n",
      "Successfully built kroki\n",
      "Installing collected packages: i2, kroki\n",
      "Successfully installed i2-0.1.45 kroki-0.1.2\n"
     ]
    }
   ],
   "source": [
    "!pip install kroki"
   ]
  },
  {
   "cell_type": "code",
   "execution_count": null,
   "metadata": {
    "id": "XgCGMp0B6p6G"
   },
   "outputs": [],
   "source": [
    "#https://www.fisicacuantica.es/el-entrelazamiento-cuantico/"
   ]
  },
  {
   "cell_type": "code",
   "execution_count": 5,
   "metadata": {
    "colab": {
     "base_uri": "https://localhost:8080/"
    },
    "id": "YCt81tKdAbIw",
    "outputId": "e1760766-140a-4ca5-f834-87aa54744e77"
   },
   "outputs": [
    {
     "name": "stdout",
     "output_type": "stream",
     "text": [
      "Defaulting to user installation because normal site-packages is not writeable\n",
      "Requirement already satisfied: qiskit-ibm-runtime in /home/josemiguel/.local/lib/python3.10/site-packages (0.27.0)\n",
      "Requirement already satisfied: python-dateutil>=2.8.0 in /home/josemiguel/.local/lib/python3.10/site-packages (from qiskit-ibm-runtime) (2.9.0.post0)\n",
      "Requirement already satisfied: websocket-client>=1.5.1 in /home/josemiguel/.local/lib/python3.10/site-packages (from qiskit-ibm-runtime) (1.8.0)\n",
      "Requirement already satisfied: urllib3>=1.21.1 in /home/josemiguel/.local/lib/python3.10/site-packages (from qiskit-ibm-runtime) (2.2.2)\n",
      "Requirement already satisfied: pydantic>=2.5.0 in /home/josemiguel/.local/lib/python3.10/site-packages (from qiskit-ibm-runtime) (2.8.2)\n",
      "Requirement already satisfied: ibm-platform-services>=0.22.6 in /home/josemiguel/.local/lib/python3.10/site-packages (from qiskit-ibm-runtime) (0.55.3)\n",
      "Requirement already satisfied: requests>=2.19 in /home/josemiguel/.local/lib/python3.10/site-packages (from qiskit-ibm-runtime) (2.32.3)\n",
      "Requirement already satisfied: numpy>=1.13 in /home/josemiguel/.local/lib/python3.10/site-packages (from qiskit-ibm-runtime) (1.26.4)\n",
      "Requirement already satisfied: qiskit>=1.1.0 in /home/josemiguel/.local/lib/python3.10/site-packages (from qiskit-ibm-runtime) (1.1.2)\n",
      "Requirement already satisfied: requests-ntlm>=1.1.0 in /home/josemiguel/.local/lib/python3.10/site-packages (from qiskit-ibm-runtime) (1.3.0)\n",
      "Requirement already satisfied: ibm-cloud-sdk-core<4.0.0,>=3.20.6 in /home/josemiguel/.local/lib/python3.10/site-packages (from ibm-platform-services>=0.22.6->qiskit-ibm-runtime) (3.20.6)\n",
      "Requirement already satisfied: typing-extensions>=4.6.1 in /home/josemiguel/.local/lib/python3.10/site-packages (from pydantic>=2.5.0->qiskit-ibm-runtime) (4.12.2)\n",
      "Requirement already satisfied: annotated-types>=0.4.0 in /home/josemiguel/.local/lib/python3.10/site-packages (from pydantic>=2.5.0->qiskit-ibm-runtime) (0.7.0)\n",
      "Requirement already satisfied: pydantic-core==2.20.1 in /home/josemiguel/.local/lib/python3.10/site-packages (from pydantic>=2.5.0->qiskit-ibm-runtime) (2.20.1)\n",
      "Requirement already satisfied: six>=1.5 in /usr/lib/python3/dist-packages (from python-dateutil>=2.8.0->qiskit-ibm-runtime) (1.16.0)\n",
      "Requirement already satisfied: scipy>=1.5 in /home/josemiguel/.local/lib/python3.10/site-packages (from qiskit>=1.1.0->qiskit-ibm-runtime) (1.14.0)\n",
      "Requirement already satisfied: dill>=0.3 in /home/josemiguel/.local/lib/python3.10/site-packages (from qiskit>=1.1.0->qiskit-ibm-runtime) (0.3.8)\n",
      "Requirement already satisfied: sympy>=1.3 in /home/josemiguel/.local/lib/python3.10/site-packages (from qiskit>=1.1.0->qiskit-ibm-runtime) (1.13.1)\n",
      "Requirement already satisfied: rustworkx>=0.14.0 in /home/josemiguel/.local/lib/python3.10/site-packages (from qiskit>=1.1.0->qiskit-ibm-runtime) (0.15.1)\n",
      "Requirement already satisfied: stevedore>=3.0.0 in /home/josemiguel/.local/lib/python3.10/site-packages (from qiskit>=1.1.0->qiskit-ibm-runtime) (5.2.0)\n",
      "Requirement already satisfied: symengine>=0.11 in /home/josemiguel/.local/lib/python3.10/site-packages (from qiskit>=1.1.0->qiskit-ibm-runtime) (0.11.0)\n",
      "Requirement already satisfied: charset-normalizer<4,>=2 in /home/josemiguel/.local/lib/python3.10/site-packages (from requests>=2.19->qiskit-ibm-runtime) (3.3.2)\n",
      "Requirement already satisfied: idna<4,>=2.5 in /usr/lib/python3/dist-packages (from requests>=2.19->qiskit-ibm-runtime) (3.3)\n",
      "Requirement already satisfied: certifi>=2017.4.17 in /usr/lib/python3/dist-packages (from requests>=2.19->qiskit-ibm-runtime) (2020.6.20)\n",
      "Requirement already satisfied: pyspnego>=0.4.0 in /home/josemiguel/.local/lib/python3.10/site-packages (from requests-ntlm>=1.1.0->qiskit-ibm-runtime) (0.11.1)\n",
      "Requirement already satisfied: cryptography>=1.3 in /usr/lib/python3/dist-packages (from requests-ntlm>=1.1.0->qiskit-ibm-runtime) (3.4.8)\n",
      "Requirement already satisfied: PyJWT<3.0.0,>=2.8.0 in /home/josemiguel/.local/lib/python3.10/site-packages (from ibm-cloud-sdk-core<4.0.0,>=3.20.6->ibm-platform-services>=0.22.6->qiskit-ibm-runtime) (2.9.0)\n",
      "Requirement already satisfied: pbr!=2.1.0,>=2.0.0 in /home/josemiguel/.local/lib/python3.10/site-packages (from stevedore>=3.0.0->qiskit>=1.1.0->qiskit-ibm-runtime) (6.0.0)\n",
      "Requirement already satisfied: mpmath<1.4,>=1.1.0 in /home/josemiguel/.local/lib/python3.10/site-packages (from sympy>=1.3->qiskit>=1.1.0->qiskit-ibm-runtime) (1.3.0)\n"
     ]
    }
   ],
   "source": [
    "!pip install qiskit-ibm-runtime"
   ]
  },
  {
   "cell_type": "code",
   "execution_count": null,
   "metadata": {
    "colab": {
     "base_uri": "https://localhost:8080/"
    },
    "id": "nHfWS2pFxNe8",
    "outputId": "25571832-6958-467c-89a0-2cab705ec541"
   },
   "outputs": [
    {
     "name": "stdout",
     "output_type": "stream",
     "text": [
      "Mounted at /content/drive\n"
     ]
    }
   ],
   "source": [
    "from google.colab import drive\n",
    "drive.mount('/content/drive')"
   ]
  },
  {
   "cell_type": "code",
   "execution_count": 6,
   "metadata": {
    "colab": {
     "base_uri": "https://localhost:8080/"
    },
    "id": "KXIwG2O16lsl",
    "outputId": "8cb11593-8c70-4799-8764-609ce1bcc457"
   },
   "outputs": [
    {
     "name": "stdout",
     "output_type": "stream",
     "text": [
      "Defaulting to user installation because normal site-packages is not writeable\n",
      "Requirement already satisfied: qiskit in /home/josemiguel/.local/lib/python3.10/site-packages (1.1.2)\n",
      "Requirement already satisfied: dill>=0.3 in /home/josemiguel/.local/lib/python3.10/site-packages (from qiskit) (0.3.8)\n",
      "Requirement already satisfied: sympy>=1.3 in /home/josemiguel/.local/lib/python3.10/site-packages (from qiskit) (1.13.1)\n",
      "Requirement already satisfied: numpy<3,>=1.17 in /home/josemiguel/.local/lib/python3.10/site-packages (from qiskit) (1.26.4)\n",
      "Requirement already satisfied: scipy>=1.5 in /home/josemiguel/.local/lib/python3.10/site-packages (from qiskit) (1.14.0)\n",
      "Requirement already satisfied: typing-extensions in /home/josemiguel/.local/lib/python3.10/site-packages (from qiskit) (4.12.2)\n",
      "Requirement already satisfied: symengine>=0.11 in /home/josemiguel/.local/lib/python3.10/site-packages (from qiskit) (0.11.0)\n",
      "Requirement already satisfied: python-dateutil>=2.8.0 in /home/josemiguel/.local/lib/python3.10/site-packages (from qiskit) (2.9.0.post0)\n",
      "Requirement already satisfied: rustworkx>=0.14.0 in /home/josemiguel/.local/lib/python3.10/site-packages (from qiskit) (0.15.1)\n",
      "Requirement already satisfied: stevedore>=3.0.0 in /home/josemiguel/.local/lib/python3.10/site-packages (from qiskit) (5.2.0)\n",
      "Requirement already satisfied: six>=1.5 in /usr/lib/python3/dist-packages (from python-dateutil>=2.8.0->qiskit) (1.16.0)\n",
      "Requirement already satisfied: pbr!=2.1.0,>=2.0.0 in /home/josemiguel/.local/lib/python3.10/site-packages (from stevedore>=3.0.0->qiskit) (6.0.0)\n",
      "Requirement already satisfied: mpmath<1.4,>=1.1.0 in /home/josemiguel/.local/lib/python3.10/site-packages (from sympy>=1.3->qiskit) (1.3.0)\n"
     ]
    }
   ],
   "source": [
    "!pip install qiskit\n"
   ]
  },
  {
   "cell_type": "code",
   "execution_count": 8,
   "metadata": {
    "colab": {
     "base_uri": "https://localhost:8080/"
    },
    "id": "jk4Dy8eg7IKm",
    "outputId": "e03230c2-f202-4d8a-dd0c-6eb715fcbd3a"
   },
   "outputs": [
    {
     "name": "stdout",
     "output_type": "stream",
     "text": [
      "Defaulting to user installation because normal site-packages is not writeable\n",
      "Requirement already satisfied: qiskit_algorithms in /home/josemiguel/.local/lib/python3.10/site-packages (0.3.0)\n",
      "Requirement already satisfied: qiskit>=0.44 in /home/josemiguel/.local/lib/python3.10/site-packages (from qiskit_algorithms) (1.1.2)\n",
      "Requirement already satisfied: scipy>=1.4 in /home/josemiguel/.local/lib/python3.10/site-packages (from qiskit_algorithms) (1.14.0)\n",
      "Requirement already satisfied: numpy>=1.17 in /home/josemiguel/.local/lib/python3.10/site-packages (from qiskit_algorithms) (1.26.4)\n",
      "Requirement already satisfied: stevedore>=3.0.0 in /home/josemiguel/.local/lib/python3.10/site-packages (from qiskit>=0.44->qiskit_algorithms) (5.2.0)\n",
      "Requirement already satisfied: symengine>=0.11 in /home/josemiguel/.local/lib/python3.10/site-packages (from qiskit>=0.44->qiskit_algorithms) (0.11.0)\n",
      "Requirement already satisfied: python-dateutil>=2.8.0 in /home/josemiguel/.local/lib/python3.10/site-packages (from qiskit>=0.44->qiskit_algorithms) (2.9.0.post0)\n",
      "Requirement already satisfied: dill>=0.3 in /home/josemiguel/.local/lib/python3.10/site-packages (from qiskit>=0.44->qiskit_algorithms) (0.3.8)\n",
      "Requirement already satisfied: rustworkx>=0.14.0 in /home/josemiguel/.local/lib/python3.10/site-packages (from qiskit>=0.44->qiskit_algorithms) (0.15.1)\n",
      "Requirement already satisfied: sympy>=1.3 in /home/josemiguel/.local/lib/python3.10/site-packages (from qiskit>=0.44->qiskit_algorithms) (1.13.1)\n",
      "Requirement already satisfied: typing-extensions in /home/josemiguel/.local/lib/python3.10/site-packages (from qiskit>=0.44->qiskit_algorithms) (4.12.2)\n",
      "Requirement already satisfied: six>=1.5 in /usr/lib/python3/dist-packages (from python-dateutil>=2.8.0->qiskit>=0.44->qiskit_algorithms) (1.16.0)\n",
      "Requirement already satisfied: pbr!=2.1.0,>=2.0.0 in /home/josemiguel/.local/lib/python3.10/site-packages (from stevedore>=3.0.0->qiskit>=0.44->qiskit_algorithms) (6.0.0)\n",
      "Requirement already satisfied: mpmath<1.4,>=1.1.0 in /home/josemiguel/.local/lib/python3.10/site-packages (from sympy>=1.3->qiskit>=0.44->qiskit_algorithms) (1.3.0)\n"
     ]
    }
   ],
   "source": [
    "!pip install qiskit_algorithms"
   ]
  },
  {
   "cell_type": "code",
   "execution_count": 4,
   "metadata": {
    "colab": {
     "base_uri": "https://localhost:8080/"
    },
    "id": "JC0couR476J4",
    "outputId": "a19e16a0-b78a-426b-ec8b-f3297cb26417"
   },
   "outputs": [
    {
     "name": "stdout",
     "output_type": "stream",
     "text": [
      "Defaulting to user installation because normal site-packages is not writeable\n",
      "Requirement already satisfied: qiskit-aer in /home/josemiguel/.local/lib/python3.10/site-packages (0.14.2)\n",
      "Requirement already satisfied: psutil>=5 in /home/josemiguel/.local/lib/python3.10/site-packages (from qiskit-aer) (6.0.0)\n",
      "Requirement already satisfied: scipy>=1.0 in /home/josemiguel/.local/lib/python3.10/site-packages (from qiskit-aer) (1.14.0)\n",
      "Requirement already satisfied: qiskit>=0.45.2 in /home/josemiguel/.local/lib/python3.10/site-packages (from qiskit-aer) (1.1.2)\n",
      "Requirement already satisfied: numpy>=1.16.3 in /home/josemiguel/.local/lib/python3.10/site-packages (from qiskit-aer) (1.26.4)\n",
      "Requirement already satisfied: python-dateutil>=2.8.0 in /home/josemiguel/.local/lib/python3.10/site-packages (from qiskit>=0.45.2->qiskit-aer) (2.9.0.post0)\n",
      "Requirement already satisfied: typing-extensions in /home/josemiguel/.local/lib/python3.10/site-packages (from qiskit>=0.45.2->qiskit-aer) (4.12.2)\n",
      "Requirement already satisfied: rustworkx>=0.14.0 in /home/josemiguel/.local/lib/python3.10/site-packages (from qiskit>=0.45.2->qiskit-aer) (0.15.1)\n",
      "Requirement already satisfied: stevedore>=3.0.0 in /home/josemiguel/.local/lib/python3.10/site-packages (from qiskit>=0.45.2->qiskit-aer) (5.2.0)\n",
      "Requirement already satisfied: symengine>=0.11 in /home/josemiguel/.local/lib/python3.10/site-packages (from qiskit>=0.45.2->qiskit-aer) (0.11.0)\n",
      "Requirement already satisfied: sympy>=1.3 in /home/josemiguel/.local/lib/python3.10/site-packages (from qiskit>=0.45.2->qiskit-aer) (1.13.1)\n",
      "Requirement already satisfied: dill>=0.3 in /home/josemiguel/.local/lib/python3.10/site-packages (from qiskit>=0.45.2->qiskit-aer) (0.3.8)\n",
      "Requirement already satisfied: six>=1.5 in /usr/lib/python3/dist-packages (from python-dateutil>=2.8.0->qiskit>=0.45.2->qiskit-aer) (1.16.0)\n",
      "Requirement already satisfied: pbr!=2.1.0,>=2.0.0 in /home/josemiguel/.local/lib/python3.10/site-packages (from stevedore>=3.0.0->qiskit>=0.45.2->qiskit-aer) (6.0.0)\n",
      "Requirement already satisfied: mpmath<1.4,>=1.1.0 in /home/josemiguel/.local/lib/python3.10/site-packages (from sympy>=1.3->qiskit>=0.45.2->qiskit-aer) (1.3.0)\n"
     ]
    }
   ],
   "source": [
    "!pip install qiskit-aer"
   ]
  },
  {
   "cell_type": "code",
   "execution_count": 9,
   "metadata": {
    "colab": {
     "base_uri": "https://localhost:8080/"
    },
    "id": "3BUljzSr8DIY",
    "outputId": "6d84ee1b-bf45-4785-a7f3-e2f187a560c1"
   },
   "outputs": [
    {
     "name": "stdout",
     "output_type": "stream",
     "text": [
      "Defaulting to user installation because normal site-packages is not writeable\n",
      "Requirement already satisfied: pylatexenc in /home/josemiguel/.local/lib/python3.10/site-packages (2.10)\n"
     ]
    }
   ],
   "source": [
    "!pip install pylatexenc"
   ]
  },
  {
   "cell_type": "code",
   "execution_count": 7,
   "metadata": {
    "colab": {
     "base_uri": "https://localhost:8080/",
     "height": 403
    },
    "id": "AoE57TqS8fYe",
    "outputId": "6a8eeda6-d189-466a-e305-574035789ef3"
   },
   "outputs": [],
   "source": [
    "from qiskit_aer import AerSimulator,Aer# ojo son distintos AerSimulator y Aer  AerSimulator es para entrar en estadisticas de IBM\n",
    "import pennylane as qml\n",
    "from pennylane import numpy as np\n",
    "import matplotlib.pyplot as plt\n",
    "from time import time\n",
    "from sklearn import svm\n",
    "import scipy\n"
   ]
  },
  {
   "cell_type": "code",
   "execution_count": 6,
   "metadata": {
    "colab": {
     "base_uri": "https://localhost:8080/"
    },
    "id": "nW8CCPwC9CfC",
    "outputId": "94bcca5c-a626-45e5-8e87-6836b7b0d945"
   },
   "outputs": [
    {
     "name": "stdout",
     "output_type": "stream",
     "text": [
      "Defaulting to user installation because normal site-packages is not writeable\n",
      "Requirement already satisfied: pennylane in /home/josemiguel/.local/lib/python3.10/site-packages (0.37.0)\n",
      "Requirement already satisfied: cachetools in /home/josemiguel/.local/lib/python3.10/site-packages (from pennylane) (5.5.0)\n",
      "Requirement already satisfied: semantic-version>=2.7 in /home/josemiguel/.local/lib/python3.10/site-packages (from pennylane) (2.10.0)\n",
      "Requirement already satisfied: appdirs in /home/josemiguel/.local/lib/python3.10/site-packages (from pennylane) (1.4.4)\n",
      "Requirement already satisfied: networkx in /home/josemiguel/.local/lib/python3.10/site-packages (from pennylane) (3.3)\n",
      "Requirement already satisfied: numpy<2.0 in /home/josemiguel/.local/lib/python3.10/site-packages (from pennylane) (1.26.4)\n",
      "Requirement already satisfied: requests in /home/josemiguel/.local/lib/python3.10/site-packages (from pennylane) (2.32.3)\n",
      "Requirement already satisfied: packaging in /home/josemiguel/.local/lib/python3.10/site-packages (from pennylane) (24.1)\n",
      "Requirement already satisfied: scipy in /home/josemiguel/.local/lib/python3.10/site-packages (from pennylane) (1.14.0)\n",
      "Requirement already satisfied: toml in /home/josemiguel/.local/lib/python3.10/site-packages (from pennylane) (0.10.2)\n",
      "Requirement already satisfied: autograd in /home/josemiguel/.local/lib/python3.10/site-packages (from pennylane) (1.7.0)\n",
      "Requirement already satisfied: pennylane-lightning>=0.37 in /home/josemiguel/.local/lib/python3.10/site-packages (from pennylane) (0.37.0)\n",
      "Requirement already satisfied: typing-extensions in /home/josemiguel/.local/lib/python3.10/site-packages (from pennylane) (4.12.2)\n",
      "Requirement already satisfied: rustworkx in /home/josemiguel/.local/lib/python3.10/site-packages (from pennylane) (0.15.1)\n",
      "Requirement already satisfied: autoray>=0.6.11 in /home/josemiguel/.local/lib/python3.10/site-packages (from pennylane) (0.6.12)\n",
      "Requirement already satisfied: urllib3<3,>=1.21.1 in /home/josemiguel/.local/lib/python3.10/site-packages (from requests->pennylane) (2.2.2)\n",
      "Requirement already satisfied: charset-normalizer<4,>=2 in /home/josemiguel/.local/lib/python3.10/site-packages (from requests->pennylane) (3.3.2)\n",
      "Requirement already satisfied: idna<4,>=2.5 in /usr/lib/python3/dist-packages (from requests->pennylane) (3.3)\n",
      "Requirement already satisfied: certifi>=2017.4.17 in /usr/lib/python3/dist-packages (from requests->pennylane) (2020.6.20)\n"
     ]
    }
   ],
   "source": [
    "get_ipython().system('pip install pennylane')"
   ]
  },
  {
   "cell_type": "code",
   "execution_count": 44,
   "metadata": {
    "id": "eYz7spiZ9FYb"
   },
   "outputs": [],
   "source": [
    "import numpy as np\n",
    "import pandas as pd\n",
    "import matplotlib.pyplot as plt\n",
    "\n",
    "from sklearn.preprocessing import MinMaxScaler\n",
    "from sklearn.model_selection import train_test_split\n",
    "from sklearn.utils import shuffle\n",
    "\n",
    "import warnings\n",
    "warnings.filterwarnings(\"ignore\")\n",
    "# constants\n",
    "n = 2\n",
    "RANDOM_STATE = 42\n",
    "LR = 1e-3\n",
    "class_labels = ['0', '1']\n",
    "\n",
    "def normalizeData(DATA_PATH = \"./FEATURE_RESULTS/FEATURE_resultante_DP_NODP.csv\"):\n",
    "    \"\"\"\n",
    "    Normalizes the data\n",
    "    \"\"\"\n",
    "    # Reads the data\n",
    "    data = pd.read_csv(DATA_PATH)\n",
    "    data = shuffle(data, random_state=RANDOM_STATE)\n",
    "    X, Y = data[['area_pixels', ' mean_coords_x']].values, data[' class'].values\n",
    "\n",
    "    # normalize the data\n",
    "    scaler = MinMaxScaler(feature_range=(-0 * np.pi, 2 * np.pi))\n",
    "    X = scaler.fit_transform(X)\n",
    "    X_train, X_test, Y_train, Y_test = train_test_split(X, Y, test_size=0.2, random_state=RANDOM_STATE)\n",
    "    return X_train, X_test, Y_train, Y_test\n",
    "\n",
    "\n",
    "# In[5]:\n",
    "\n",
    "\n",
    "import qiskit_algorithms\n",
    "from qiskit_algorithms.optimizers import SPSA\n",
    "\n",
    "from qiskit import QuantumCircuit\n",
    "\n",
    "from qiskit.circuit.library import ZZFeatureMap, RealAmplitudes\n",
    "from qiskit.quantum_info import Statevector\n",
    "\n",
    "import numpy as np\n",
    "import pandas as pd\n",
    "import matplotlib.pyplot as plt\n",
    "\n",
    "from sklearn.preprocessing import MinMaxScaler\n",
    "from sklearn.model_selection import train_test_split\n",
    "\n",
    "from sklearn.utils import shuffle\n",
    "\n",
    "import warnings\n",
    "warnings.filterwarnings(\"ignore\")\n",
    "\n",
    "TRAIN_DATA, TEST_DATA, TRAIN_LABELS, TEST_LABELS = normalizeData()\n",
    "# Replace all occurrences of 2 with 0\n",
    "TRAIN_LABELS = np.where(TRAIN_LABELS == 2, 0, TRAIN_LABELS)\n",
    "TEST_LABELS = np.where(TEST_LABELS == 2, 0, TEST_LABELS)\n",
    "#print(TRAIN_DATA)\n"
   ]
  },
  {
   "cell_type": "code",
   "execution_count": 9,
   "metadata": {
    "id": "FMzLvynz7pae"
   },
   "outputs": [],
   "source": [
    "# OJO OJO OJO\n",
    "\n",
    "\n",
    "\n",
    "from qiskit_aer import AerSimulator,Aer # ojo son distintos AerSimulator y Aer  AerSimulator es para entrar en estadisticas de IBM\n",
    "#import pennylane as qml\n",
    "#from pennylane import numpy as np\n",
    "import matplotlib.pyplot as plt\n",
    "from time import time\n",
    "from sklearn import svm\n",
    "import scipy"
   ]
  },
  {
   "cell_type": "code",
   "execution_count": 10,
   "metadata": {
    "colab": {
     "base_uri": "https://localhost:8080/"
    },
    "id": "3RyAavqntNmJ",
    "outputId": "20d0378c-881c-456c-a528-d8c63df47360"
   },
   "outputs": [
    {
     "data": {
      "text/plain": [
       "array([1, 0, 1, 1, 1, 0, 0, 1, 1, 0, 0, 1, 1, 0, 0, 0, 0, 0, 0, 0, 0, 0,\n",
       "       0, 1, 1, 1, 0, 0, 0, 0, 0, 0, 0, 1, 1, 0, 0, 1, 0, 1, 1, 1, 1, 0,\n",
       "       1, 0, 0, 1, 0, 0, 1, 1, 1, 1, 1, 1, 0, 1, 0, 1, 1, 0, 0, 1, 0, 0,\n",
       "       1, 1, 0, 1, 0, 1, 1, 0, 1, 0, 0, 0, 0, 1, 0, 0, 0, 0, 0, 1, 0, 0,\n",
       "       1, 0, 0, 0, 1, 0, 0, 0, 0, 1, 0, 1, 1, 1, 0, 0, 1, 0, 1, 1, 0, 1,\n",
       "       0, 0, 1, 0, 0, 1, 0, 1, 1, 0, 0, 0, 1, 0, 0, 0, 0, 0, 0, 0, 1, 0,\n",
       "       0, 1, 1, 1, 0, 1, 1, 1, 0, 0, 0, 1, 0, 1, 0, 1, 1, 0, 1, 0, 1, 1,\n",
       "       1, 1, 1, 0, 0, 0, 1, 1, 0, 1, 0, 0, 0, 1, 0, 0, 0, 1, 1, 1, 1, 0,\n",
       "       0, 1, 0, 1, 0, 0, 1, 1, 1, 0, 0, 1, 0, 1, 1, 1, 1, 0, 1, 1, 1, 0,\n",
       "       1, 1, 1, 0, 1, 0, 1, 1, 1, 0, 1, 1, 0, 0, 0, 0, 1, 1, 1, 0, 1, 1,\n",
       "       0, 0, 0, 1, 0, 1, 0, 0, 0, 0, 1, 1, 1, 1, 1, 0, 0, 1, 1, 1, 1, 1,\n",
       "       0, 0, 1, 1, 1, 1, 0, 0, 1, 0, 0, 0, 0, 0, 1, 0, 1, 1, 0, 0, 0, 1,\n",
       "       0, 1, 0, 0, 1, 1, 1, 0, 0, 0, 0, 0, 0, 1, 0, 1, 1, 0, 0, 0, 1, 1,\n",
       "       0, 1, 1, 0, 0, 1, 1, 1, 1, 1, 0, 0, 0, 1, 0, 1, 0, 1, 0, 0, 0, 1,\n",
       "       1, 1, 0, 1, 0, 1, 0, 0, 0, 0, 0, 0, 0, 0, 0, 1, 1, 0, 0, 0, 0, 0,\n",
       "       0, 1, 0, 0, 0, 1, 0, 0, 1, 1, 0, 1, 0, 0, 1, 1, 0, 1, 0, 0, 0, 0,\n",
       "       1, 0, 1, 0, 0, 0, 1, 0, 0, 0, 0, 1, 1, 1, 1, 0, 0, 0, 0, 1, 0, 0,\n",
       "       0, 0, 0, 1, 0, 0, 1, 0, 1, 0, 1, 0, 0, 0, 1, 1, 0, 1, 1, 0, 0, 0,\n",
       "       1, 0, 1, 0, 0, 0, 0, 0, 1, 0, 1, 1, 1, 1, 1, 0, 1, 0, 1, 0, 1, 0,\n",
       "       0, 1, 1, 1, 0, 0, 0, 1, 0, 0, 1, 1, 1, 1, 1, 0, 1, 0, 0, 1, 0, 0,\n",
       "       1, 0, 1, 0, 1, 1, 0, 0, 0, 1, 0, 0, 0, 0, 0, 1, 0, 0, 1, 0, 0, 0,\n",
       "       0, 0, 0, 0, 1, 0, 0, 0, 1, 1, 1, 1, 1, 1, 0, 1, 0, 0, 1, 1, 0, 0,\n",
       "       1, 0, 1, 0, 0, 1, 0, 0, 1, 0, 1, 0, 0, 1, 0, 0, 0, 0, 1, 1, 0, 0,\n",
       "       0, 0, 1, 0, 1, 1, 0, 0, 0, 0, 0, 1, 1, 0, 1, 1, 1, 1, 0, 0, 1, 1,\n",
       "       0, 0, 0, 1, 1, 1, 0, 0, 0, 1, 0, 0, 1, 1, 0, 1, 0, 0, 0, 0, 1, 0,\n",
       "       0, 0, 1, 1, 0, 1, 1, 1, 1, 1, 0, 0, 0, 0, 0, 0, 1, 0, 1, 0, 0, 0,\n",
       "       1, 1, 0, 0, 1, 1, 0, 0, 1, 1, 0, 1, 0, 1, 1, 0, 0, 0, 1, 0, 1, 0,\n",
       "       0, 0, 0, 0, 1, 1, 0, 1, 1, 0, 0, 1, 0, 0, 0, 1, 0, 0, 0, 1, 1, 0,\n",
       "       0, 0, 0, 0, 1, 0, 0, 1, 0, 0, 0, 1, 0, 1, 1, 1, 0, 1, 0, 0, 0, 1,\n",
       "       0, 0, 0, 1, 1, 0, 0, 0, 0, 0, 0, 0, 1, 0, 0, 0, 1, 0, 1, 0, 1, 0,\n",
       "       0, 0, 0, 0, 0, 0, 0, 0, 0, 1, 0, 1, 1, 0, 1, 0, 0, 0, 0, 0, 0, 0,\n",
       "       0, 0, 1, 0, 0, 0, 0, 0, 1, 0, 0])"
      ]
     },
     "execution_count": 10,
     "metadata": {},
     "output_type": "execute_result"
    }
   ],
   "source": [
    "TRAIN_LABELS\n"
   ]
  },
  {
   "cell_type": "code",
   "execution_count": 11,
   "metadata": {
    "colab": {
     "base_uri": "https://localhost:8080/"
    },
    "id": "yQWYPvLx5bMP",
    "outputId": "27b21733-91b9-4b40-d573-2408d4481dd9"
   },
   "outputs": [
    {
     "data": {
      "text/plain": [
       "array([1, 1, 0, 0, 1, 1, 0, 1, 0, 0, 1, 1, 1, 1, 0, 0, 1, 0, 1, 0, 0, 1,\n",
       "       0, 1, 0, 1, 1, 0, 1, 0, 0, 1, 1, 1, 1, 1, 0, 0, 0, 0, 0, 1, 0, 1,\n",
       "       1, 0, 1, 0, 1, 0, 1, 1, 1, 0, 1, 0, 0, 0, 1, 0, 1, 0, 1, 1, 1, 1,\n",
       "       0, 0, 0, 0, 0, 1, 1, 1, 1, 0, 0, 1, 0, 1, 1, 0, 1, 0, 0, 1, 0, 1,\n",
       "       0, 0, 1, 0, 1, 0, 1, 1, 1, 0, 0, 0, 1, 0, 1, 0, 0, 0, 0, 0, 0, 0,\n",
       "       0, 1, 0, 0, 0, 1, 0, 0, 0, 0, 1, 1, 0, 0, 1, 1, 0, 0, 0, 0, 1, 1,\n",
       "       1, 0, 1, 0, 1, 0, 1, 0, 0, 1, 1, 1, 1, 1, 0, 0, 0, 0, 1, 0, 0, 0,\n",
       "       1, 1, 0, 1, 1, 0, 0, 1, 0, 0, 1, 0, 0, 1, 0, 1, 0, 0, 0, 1])"
      ]
     },
     "execution_count": 11,
     "metadata": {},
     "output_type": "execute_result"
    }
   ],
   "source": [
    "TEST_LABELS"
   ]
  },
  {
   "cell_type": "code",
   "execution_count": 45,
   "metadata": {
    "colab": {
     "base_uri": "https://localhost:8080/"
    },
    "id": "oAbdP6u9jZaa",
    "outputId": "6a3b5c48-fad1-4295-d36f-739b863304d4"
   },
   "outputs": [
    {
     "name": "stdout",
     "output_type": "stream",
     "text": [
      "(174,)\n"
     ]
    }
   ],
   "source": [
    "print(TEST_LABELS.shape)\n"
   ]
  },
  {
   "cell_type": "code",
   "execution_count": 13,
   "metadata": {
    "colab": {
     "base_uri": "https://localhost:8080/",
     "height": 35
    },
    "id": "HMKZu58yF109",
    "outputId": "65929caf-9b1c-4f14-f243-d5571dd617ba"
   },
   "outputs": [
    {
     "data": {
      "text/plain": [
       "'ibm_brisbane'"
      ]
     },
     "execution_count": 13,
     "metadata": {},
     "output_type": "execute_result"
    }
   ],
   "source": [
    "#Or, optionally use the save_account() method to save your credentials for easy access later on, before initializing the service.\n",
    "from qiskit_ibm_runtime import QiskitRuntimeService\n",
    "\n",
    "# Save an IBM Quantum account and set it as your default account.\n",
    "\n",
    "\n",
    "\n",
    "# Load saved credentials\n",
    "QiskitRuntimeService.save_account(channel=\"ibm_quantum\", token=\"......f8a50f104a0ea070104db339580e2611293f672831a5b......\", overwrite=True, set_as_default=True)\n",
    "\n",
    "\n",
    "\n",
    "#to run on a real quantum computer\n",
    "\n",
    "service = QiskitRuntimeService()\n",
    "backend = service.least_busy(operational=True, simulator=False)\n",
    "backend.name"
   ]
  },
  {
   "cell_type": "code",
   "execution_count": 14,
   "metadata": {
    "id": "W-tcSyBAESGB"
   },
   "outputs": [],
   "source": [
    "#Or, optionally use the save_account() method to save your credentials for easy access later on, before initializing the service.\n",
    "from qiskit_ibm_runtime import QiskitRuntimeService\n",
    "\n",
    "# Save an IBM Quantum account and set it as your default account.\n",
    "\n",
    "# Save an IBM Quantum account and set it as your default account.\n",
    "QiskitRuntimeService.save_account(channel=\"ibm_quantum\", token=\"...........57f8a50f104a0ea070104db339...........\", overwrite=True, set_as_default=True)\n",
    "\n",
    "service = QiskitRuntimeService()\n",
    "#backend = service.least_busy(operational=True, simulator=False)\n",
    "#backend.name\n",
    "\n",
    "\n",
    "from qiskit_ibm_runtime.fake_provider import FakeManilaV2,FakeBrisbane,FakeKyoto,FakeOsaka\n",
    "\n",
    "# If you want simulation with updated errors from real computer\n",
    "\n",
    "backend =FakeOsaka()\n",
    "\n",
    "\n",
    "from qiskit.circuit import QuantumCircuit\n",
    "from qiskit.transpiler.preset_passmanagers import generate_preset_pass_manager\n",
    "from qiskit_ibm_runtime import SamplerV2 as Sampler\n",
    "from qiskit_ibm_runtime.fake_provider import FakeManilaV2\n",
    "\n"
   ]
  },
  {
   "cell_type": "code",
   "execution_count": null,
   "metadata": {
    "id": "72DugSU1EobM"
   },
   "outputs": [],
   "source": [
    "from qiskit_ibm_runtime.fake_provider import FakeManilaV2,FakeBrisbane,FakeKyoto,FakeOsaka\n",
    "backend =FakeOsaka()\n",
    "\n",
    "\n",
    "from qiskit.circuit import QuantumCircuit\n",
    "from qiskit.transpiler.preset_passmanagers import generate_preset_pass_manager\n",
    "from qiskit_ibm_runtime import SamplerV2 as Sampler\n",
    "from qiskit_ibm_runtime.fake_provider import FakeManilaV2\n"
   ]
  },
  {
   "cell_type": "code",
   "execution_count": 15,
   "metadata": {
    "colab": {
     "base_uri": "https://localhost:8080/"
    },
    "id": "LHlJbF01MG_h",
    "outputId": "2791f8b8-8d7c-4fbc-f680-31e4cab816a1"
   },
   "outputs": [
    {
     "data": {
      "text/plain": [
       "'fake_osaka'"
      ]
     },
     "execution_count": 15,
     "metadata": {},
     "output_type": "execute_result"
    }
   ],
   "source": [
    "backend.name"
   ]
  },
  {
   "cell_type": "code",
   "execution_count": 17,
   "metadata": {
    "id": "2ghdFsoH5HqV"
   },
   "outputs": [],
   "source": [
    "\n",
    "\n",
    "#variable to store all transpiled circuits\n",
    "counts= []\n",
    "circuits_a = []\n",
    "circuits_aa = []\n",
    "\n",
    "#function to obtain the all transpiled circuit \n",
    "def VARIA_circuitos_DP_NODP(data, opt_var):\n",
    "    \"\"\"\n",
    "    \"\"\"\n",
    "    #backend = Aer.get_backend('statevector_simulator')\n",
    "    #feature_map = ZZFeatureMap_11_parametros_MODI(feature_dimension=2, reps=1, x=data,teta=opt_var)\n",
    "    feature_map=ZZFeatureMap_10_parametros(feature_dimension=2, reps=1, theta_param=2, x=data, teta=opt_var)\n",
    "    #backend = FakeOsaka()\n",
    "    passmanager = generate_preset_pass_manager(optimization_level=3, backend=backend)\n",
    "    \n",
    "    transpiled_circuit = passmanager.run(feature_map)\n",
    "    circuits_aa.append(transpiled_circuit)\n",
    "\n",
    "\n",
    "\n",
    "    return 1\n"
   ]
  },
  {
   "cell_type": "code",
   "execution_count": 58,
   "metadata": {
    "colab": {
     "base_uri": "https://localhost:8080/"
    },
    "id": "XRu-xNIp7Jfx",
    "outputId": "37c81673-40db-4d41-9799-e858e13e28f3"
   },
   "outputs": [],
   "source": [
    "\n",
    "\n",
    "\n",
    "import numpy as np\n",
    "from qiskit.circuit import ParameterVector\n",
    "from qiskit import QuantumCircuit\n",
    "import numpy as np\n",
    "\n",
    "from qiskit import QuantumCircuit\n",
    "\n",
    "\"\"\"\n",
    "\n",
    "\"\"\"\n",
    "\n",
    "x = ParameterVector('x', 2)\n",
    "teta=ParameterVector('teta',10)\n",
    "# define your parameters\n",
    "def ZZFeatureMap_10_parametros(feature_dimension=2, reps=1, theta_param=np.pi/2, x=x, teta=teta):\n",
    "    circuit = QuantumCircuit(feature_dimension)\n",
    "#1.06324998,  0.49609634\n",
    "    for i in range(reps):\n",
    "        if i == 0:\n",
    "            circuit.h(range(feature_dimension))\n",
    "\n",
    "        for j in range(feature_dimension):\n",
    "            circuit.p(theta_param * x[j] * 1, j)\n",
    "\n",
    "        circuit.cx(0, 1)\n",
    "\n",
    "        circuit.p(theta_param * (np.pi - x[0] *0.49609634) * (np.pi - x[1] *1.06324998), 1)\n",
    "\n",
    "        circuit.cx(0, 1)\n",
    "\n",
    "        # Ensure that the indices are within the range of feature_dimension\n",
    "        if feature_dimension > 1:\n",
    "            circuit.ry(teta[0], 0)\n",
    "            circuit.ry(teta[1], 1)\n",
    "\n",
    "        if feature_dimension > 1:\n",
    "            circuit.cx(0, 1)\n",
    "            circuit.ry(teta[2], 0)\n",
    "            circuit.ry(teta[3], 1)\n",
    "        if feature_dimension > 1:\n",
    "            circuit.cx(0, 1)\n",
    "            circuit.ry(teta[4], 0)\n",
    "            circuit.ry(teta[5], 1)\n",
    "            circuit.cx(0, 1)\n",
    "        if feature_dimension > 1:\n",
    "            circuit.cx(0, 1)\n",
    "            circuit.ry(teta[6], 0)\n",
    "            circuit.ry(teta[7], 1)\n",
    "            circuit.cx(0, 1)\n",
    "            circuit.ry(teta[8], 0)\n",
    "            circuit.ry(teta[9], 1)\n",
    "            circuit.cx(0, 1)\n",
    "            circuit.measure_all()\n",
    "\n",
    "    return circuit\n",
    "\n",
    "feature_map = ZZFeatureMap_10_parametros(feature_dimension=2, reps=1, theta_param=2, x=x,teta=teta)\n",
    "\n",
    "\n",
    "#   OPTIMUM VALUES FOR:\n",
    "\n",
    "# DP_BREAK\n",
    "\n",
    "opt_var=np.array([-0.45369495, 3.01307608, 0.34955593, -0.42861045, -3.038998 , -5.66827399, 1.69208433,\n",
    "                  6.0084911 , 5.83775323, 2.25658061, 1.55460149])\n",
    "\n",
    "\n",
    "# DP_NODP\n",
    "\n",
    "opt_var=np.array([-1.36465941,  0.72901008,  0.46274449, -0.22550087,  0.71628267,\n",
    "       -5.0369175 ,  0.25267942,  3.20192607,  2.22427876,  2.87675972])\n",
    "\n",
    "\n",
    "counts= []\n",
    "circuits_a = []\n",
    "circuits_aa = []\n",
    "\n",
    "# 136 circuits random circuits for this combination PD_NOPD\n",
    "\n",
    "n_iterations =136\n",
    "\n",
    "for i in range(n_iterations):\n",
    "    # Get the ith element of training data\n",
    "    #train_data_element = TRAIN_DATA[i]\n",
    "    train_data_element =TRAIN_DATA[i]\n",
    "    # Call the function with the current training data element and opt_var\n",
    "    VARIA_circuitos_DP_NODP(train_data_element, opt_var)\n",
    "\n",
    "\n",
    "\n",
    "\n",
    "\n",
    "\n",
    "\n",
    "\n",
    "\n",
    "\n",
    "\n"
   ]
  },
  {
   "cell_type": "code",
   "execution_count": 56,
   "metadata": {
    "colab": {
     "base_uri": "https://localhost:8080/"
    },
    "id": "iWeZncBF4rqu",
    "outputId": "e0d9b4fc-611d-40dc-efd6-873a6147baf0"
   },
   "outputs": [
    {
     "data": {
      "image/png": "[encoded data removed]",
      "text/plain": [
       "<Figure size 2252.61x618.722 with 1 Axes>"
      ]
     },
     "execution_count": 56,
     "metadata": {},
     "output_type": "execute_result"
    }
   ],
   "source": [
    "len(TEST_DATA)\n",
    "\n",
    "feature_map = ZZFeatureMap_10_parametros(feature_dimension=2, reps=1, theta_param=2, x=x,teta=teta)\n",
    "#print(feature_map)\n",
    "feature_map.decompose().draw(\"mpl\")"
   ]
  },
  {
   "cell_type": "code",
   "execution_count": 19,
   "metadata": {
    "colab": {
     "base_uri": "https://localhost:8080/"
    },
    "id": "11adFUbwL76K",
    "outputId": "86251daf-9ad1-44d1-a541-9436b9341dd5"
   },
   "outputs": [
    {
     "data": {
      "text/plain": [
       "<qiskit_ibm_runtime.fake_provider.backends.osaka.fake_osaka.FakeOsaka at 0x70dfff497a60>"
      ]
     },
     "execution_count": 19,
     "metadata": {},
     "output_type": "execute_result"
    }
   ],
   "source": [
    "backend"
   ]
  },
  {
   "cell_type": "code",
   "execution_count": 47,
   "metadata": {
    "colab": {
     "base_uri": "https://localhost:8080/",
     "height": 367
    },
    "id": "L5R1nd8lIaU9",
    "outputId": "3ff9da3b-5772-4cdd-f25c-29668bae415b"
   },
   "outputs": [
    {
     "name": "stdout",
     "output_type": "stream",
     "text": [
      " > Counts for pub 0: {'11': 416, '01': 160, '00': 347, '10': 101}\n",
      " > Counts for pub 1: {'10': 387, '01': 279, '00': 278, '11': 80}\n",
      " > Counts for pub 2: {'11': 560, '00': 389, '01': 60, '10': 15}\n",
      " > Counts for pub 3: {'11': 536, '01': 83, '00': 391, '10': 14}\n",
      " > Counts for pub 4: {'00': 409, '01': 67, '11': 537, '10': 11}\n",
      " > Counts for pub 5: {'10': 569, '00': 128, '01': 293, '11': 34}\n",
      " > Counts for pub 6: {'00': 239, '01': 130, '11': 194, '10': 461}\n",
      " > Counts for pub 7: {'01': 110, '00': 364, '11': 497, '10': 53}\n",
      " > Counts for pub 8: {'11': 520, '00': 416, '01': 66, '10': 22}\n",
      " > Counts for pub 9: {'01': 517, '10': 320, '00': 168, '11': 19}\n",
      " > Counts for pub 10: {'00': 297, '10': 566, '01': 99, '11': 62}\n",
      " > Counts for pub 11: {'00': 339, '11': 482, '01': 138, '10': 65}\n",
      " > Counts for pub 12: {'00': 387, '11': 559, '01': 55, '10': 23}\n",
      " > Counts for pub 13: {'10': 657, '00': 157, '01': 166, '11': 44}\n",
      " > Counts for pub 14: {'01': 321, '10': 566, '00': 109, '11': 28}\n",
      " > Counts for pub 15: {'01': 720, '00': 159, '10': 49, '11': 96}\n",
      " > Counts for pub 16: {'00': 321, '11': 535, '10': 101, '01': 67}\n",
      " > Counts for pub 17: {'10': 610, '00': 183, '11': 176, '01': 55}\n",
      " > Counts for pub 18: {'10': 518, '01': 174, '00': 229, '11': 103}\n",
      " > Counts for pub 19: {'10': 446, '01': 192, '11': 111, '00': 275}\n",
      " > Counts for pub 20: {'00': 193, '11': 59, '01': 186, '10': 586}\n",
      " > Counts for pub 21: {'10': 20, '01': 640, '11': 103, '00': 261}\n",
      " > Counts for pub 22: {'01': 73, '11': 331, '10': 407, '00': 213}\n",
      " > Counts for pub 23: {'11': 548, '00': 390, '01': 66, '10': 20}\n",
      " > Counts for pub 24: {'01': 159, '11': 447, '00': 359, '10': 59}\n",
      " > Counts for pub 25: {'11': 402, '10': 120, '00': 347, '01': 155}\n",
      " > Counts for pub 26: {'10': 682, '00': 261, '01': 51, '11': 30}\n",
      " > Counts for pub 27: {'01': 510, '10': 358, '00': 125, '11': 31}\n",
      " > Counts for pub 28: {'01': 306, '10': 411, '00': 244, '11': 63}\n",
      " > Counts for pub 29: {'01': 167, '10': 230, '11': 348, '00': 279}\n",
      " > Counts for pub 30: {'00': 340, '01': 424, '11': 58, '10': 202}\n",
      " > Counts for pub 31: {'11': 103, '10': 76, '01': 518, '00': 327}\n",
      " > Counts for pub 32: {'10': 381, '01': 530, '11': 8, '00': 105}\n",
      " > Counts for pub 33: {'11': 529, '00': 394, '10': 26, '01': 75}\n",
      " > Counts for pub 34: {'11': 499, '00': 333, '01': 133, '10': 59}\n",
      " > Counts for pub 35: {'01': 407, '00': 343, '11': 200, '10': 74}\n",
      " > Counts for pub 36: {'00': 282, '01': 98, '10': 625, '11': 19}\n",
      " > Counts for pub 37: {'00': 357, '11': 402, '10': 119, '01': 146}\n",
      " > Counts for pub 38: {'11': 232, '01': 358, '00': 373, '10': 61}\n",
      " > Counts for pub 39: {'00': 370, '01': 161, '11': 430, '10': 63}\n",
      " > Counts for pub 40: {'11': 425, '10': 110, '00': 337, '01': 152}\n",
      " > Counts for pub 41: {'11': 541, '01': 60, '00': 408, '10': 15}\n",
      " > Counts for pub 42: {'00': 313, '01': 157, '11': 443, '10': 111}\n",
      " > Counts for pub 43: {'01': 586, '10': 261, '00': 138, '11': 39}\n",
      " > Counts for pub 44: {'10': 140, '01': 187, '11': 387, '00': 310}\n",
      " > Counts for pub 45: {'01': 772, '00': 179, '11': 57, '10': 16}\n",
      " > Counts for pub 46: {'11': 511, '01': 93, '00': 308, '10': 112}\n",
      " > Counts for pub 47: {'00': 394, '10': 15, '11': 548, '01': 67}\n",
      " > Counts for pub 48: {'00': 280, '10': 448, '01': 156, '11': 140}\n",
      " > Counts for pub 49: {'01': 16, '10': 651, '00': 212, '11': 145}\n",
      " > Counts for pub 50: {'00': 418, '11': 506, '01': 80, '10': 20}\n",
      " > Counts for pub 51: {'00': 332, '11': 450, '10': 104, '01': 138}\n",
      " > Counts for pub 52: {'00': 405, '11': 528, '01': 66, '10': 25}\n",
      " > Counts for pub 53: {'00': 308, '11': 403, '01': 188, '10': 125}\n",
      " > Counts for pub 54: {'01': 80, '11': 550, '00': 376, '10': 18}\n",
      " > Counts for pub 55: {'11': 498, '00': 348, '01': 130, '10': 48}\n",
      " > Counts for pub 56: {'10': 309, '11': 144, '00': 282, '01': 289}\n",
      " > Counts for pub 57: {'11': 528, '00': 400, '01': 75, '10': 21}\n",
      " > Counts for pub 58: {'11': 298, '00': 447, '01': 227, '10': 52}\n",
      " > Counts for pub 59: {'11': 566, '00': 376, '01': 62, '10': 20}\n",
      " > Counts for pub 60: {'10': 78, '00': 357, '01': 152, '11': 437}\n",
      " > Counts for pub 61: {'11': 45, '10': 542, '01': 109, '00': 328}\n",
      " > Counts for pub 62: {'11': 95, '10': 446, '00': 255, '01': 228}\n",
      " > Counts for pub 63: {'11': 437, '00': 340, '10': 91, '01': 156}\n",
      " > Counts for pub 64: {'00': 115, '01': 661, '10': 239, '11': 9}\n",
      " > Counts for pub 65: {'11': 58, '10': 643, '01': 215, '00': 108}\n",
      " > Counts for pub 66: {'11': 530, '00': 404, '01': 71, '10': 19}\n",
      " > Counts for pub 67: {'11': 516, '00': 428, '01': 62, '10': 18}\n",
      " > Counts for pub 68: {'01': 328, '00': 309, '11': 249, '10': 138}\n",
      " > Counts for pub 69: {'11': 510, '10': 24, '00': 402, '01': 88}\n",
      " > Counts for pub 70: {'01': 290, '10': 526, '00': 144, '11': 64}\n",
      " > Counts for pub 71: {'11': 472, '00': 385, '10': 50, '01': 117}\n",
      " > Counts for pub 72: {'11': 553, '00': 398, '01': 60, '10': 13}\n",
      " > Counts for pub 73: {'10': 520, '00': 287, '01': 149, '11': 68}\n",
      " > Counts for pub 74: {'11': 419, '10': 137, '00': 319, '01': 149}\n",
      " > Counts for pub 75: {'00': 238, '01': 738, '11': 27, '10': 21}\n",
      " > Counts for pub 76: {'01': 425, '00': 365, '10': 163, '11': 71}\n",
      " > Counts for pub 77: {'11': 154, '01': 479, '00': 333, '10': 58}\n",
      " > Counts for pub 78: {'01': 831, '00': 119, '10': 22, '11': 52}\n",
      " > Counts for pub 79: {'00': 374, '11': 471, '01': 124, '10': 55}\n",
      " > Counts for pub 80: {'10': 527, '01': 189, '00': 300, '11': 8}\n",
      " > Counts for pub 81: {'11': 81, '10': 505, '01': 165, '00': 273}\n",
      " > Counts for pub 82: {'00': 297, '11': 59, '10': 537, '01': 131}\n",
      " > Counts for pub 83: {'10': 639, '00': 115, '01': 210, '11': 60}\n",
      " > Counts for pub 84: {'10': 490, '01': 213, '00': 238, '11': 83}\n",
      " > Counts for pub 85: {'11': 544, '00': 399, '01': 67, '10': 14}\n",
      " > Counts for pub 86: {'00': 321, '10': 149, '11': 147, '01': 407}\n",
      " > Counts for pub 87: {'01': 519, '00': 313, '10': 117, '11': 75}\n",
      " > Counts for pub 88: {'00': 412, '11': 526, '10': 23, '01': 63}\n",
      " > Counts for pub 89: {'00': 297, '10': 123, '01': 474, '11': 130}\n",
      " > Counts for pub 90: {'10': 355, '11': 132, '01': 275, '00': 262}\n",
      " > Counts for pub 91: {'00': 176, '10': 672, '11': 153, '01': 23}\n",
      " > Counts for pub 92: {'00': 359, '01': 74, '10': 30, '11': 561}\n",
      " > Counts for pub 93: {'00': 380, '11': 349, '01': 237, '10': 58}\n",
      " > Counts for pub 94: {'00': 186, '10': 538, '11': 232, '01': 68}\n",
      " > Counts for pub 95: {'01': 526, '11': 66, '00': 195, '10': 237}\n",
      " > Counts for pub 96: {'00': 200, '10': 777, '01': 14, '11': 33}\n",
      " > Counts for pub 97: {'00': 384, '11': 549, '01': 73, '10': 18}\n",
      " > Counts for pub 98: {'00': 474, '11': 395, '01': 117, '10': 38}\n",
      " > Counts for pub 99: {'11': 558, '01': 58, '00': 390, '10': 18}\n",
      " > Counts for pub 100: {'00': 400, '11': 527, '01': 77, '10': 20}\n",
      " > Counts for pub 101: {'11': 529, '00': 415, '01': 61, '10': 19}\n",
      " > Counts for pub 102: {'10': 582, '01': 220, '11': 56, '00': 166}\n",
      " > Counts for pub 103: {'01': 578, '00': 334, '11': 102, '10': 10}\n",
      " > Counts for pub 104: {'11': 389, '01': 183, '10': 140, '00': 312}\n",
      " > Counts for pub 105: {'10': 377, '00': 299, '01': 281, '11': 67}\n",
      " > Counts for pub 106: {'00': 374, '11': 550, '01': 75, '10': 25}\n",
      " > Counts for pub 107: {'00': 354, '01': 155, '11': 448, '10': 67}\n",
      " > Counts for pub 108: {'00': 408, '11': 515, '01': 86, '10': 15}\n",
      " > Counts for pub 109: {'11': 424, '00': 381, '10': 55, '01': 164}\n",
      " > Counts for pub 110: {'00': 301, '10': 608, '01': 109, '11': 6}\n",
      " > Counts for pub 111: {'00': 76, '01': 786, '11': 67, '10': 95}\n",
      " > Counts for pub 112: {'11': 538, '00': 403, '01': 67, '10': 16}\n",
      " > Counts for pub 113: {'10': 621, '00': 150, '01': 162, '11': 91}\n",
      " > Counts for pub 114: {'10': 721, '00': 204, '11': 45, '01': 54}\n",
      " > Counts for pub 115: {'01': 65, '00': 411, '11': 525, '10': 23}\n",
      " > Counts for pub 116: {'01': 618, '00': 139, '10': 230, '11': 37}\n",
      " > Counts for pub 117: {'11': 547, '00': 395, '01': 64, '10': 18}\n",
      " > Counts for pub 118: {'00': 396, '01': 72, '11': 545, '10': 11}\n",
      " > Counts for pub 119: {'11': 427, '01': 336, '00': 217, '10': 44}\n",
      " > Counts for pub 120: {'10': 132, '01': 734, '00': 135, '11': 23}\n",
      " > Counts for pub 121: {'01': 185, '10': 655, '00': 154, '11': 30}\n",
      " > Counts for pub 122: {'11': 441, '00': 321, '10': 107, '01': 155}\n",
      " > Counts for pub 123: {'10': 661, '11': 119, '00': 193, '01': 51}\n",
      " > Counts for pub 124: {'11': 106, '00': 355, '10': 406, '01': 157}\n",
      " > Counts for pub 125: {'01': 601, '00': 181, '11': 189, '10': 53}\n",
      " > Counts for pub 126: {'01': 402, '00': 303, '11': 150, '10': 169}\n",
      " > Counts for pub 127: {'01': 562, '00': 129, '10': 309, '11': 24}\n",
      " > Counts for pub 128: {'10': 180, '01': 511, '00': 233, '11': 100}\n",
      " > Counts for pub 129: {'01': 454, '10': 208, '11': 50, '00': 312}\n",
      " > Counts for pub 130: {'11': 531, '00': 415, '01': 57, '10': 21}\n",
      " > Counts for pub 131: {'11': 206, '10': 262, '01': 264, '00': 292}\n",
      " > Counts for pub 132: {'00': 358, '01': 434, '10': 160, '11': 72}\n",
      " > Counts for pub 133: {'01': 156, '11': 423, '10': 130, '00': 315}\n",
      " > Counts for pub 134: {'00': 362, '10': 60, '11': 450, '01': 152}\n",
      " > Counts for pub 135: {'00': 406, '10': 16, '11': 537, '01': 65}\n"
     ]
    }
   ],
   "source": [
    "from qiskit_ibm_runtime import QiskitRuntimeService, SamplerV2 as Sampler\n",
    "\n",
    "# Assuming you have already set up your Qiskit service and backend\n",
    "\n",
    "# Initialize the sampler and run the circuits\n",
    "\n",
    "sampler = Sampler(backend)\n",
    "job = sampler.run(circuits_aa)\n",
    "result = job.result()\n",
    "\n",
    "# Iterate over the results to print and save the counts\n",
    "with open('./FEATURE_RESULTS/variacional_train_136_DP_NODP_IBM_Osaka_results_counts.txt', 'w') as f:\n",
    "    for idx, pub_result in enumerate(result):\n",
    "        counts = pub_result.data.meas.get_counts()\n",
    "        f.write(f\"Counts for pub {idx}: {counts}\\n\")\n",
    "        print(f\" > Counts for pub {idx}: {counts}\")"
   ]
  },
  {
   "cell_type": "code",
   "execution_count": 48,
   "metadata": {},
   "outputs": [
    {
     "name": "stdout",
     "output_type": "stream",
     "text": [
      " > Counts for pub 0: {'11': 416, '01': 160, '00': 347, '10': 101}\n",
      " > Counts for pub 1: {'10': 387, '01': 279, '00': 278, '11': 80}\n",
      " > Counts for pub 2: {'11': 560, '00': 389, '01': 60, '10': 15}\n",
      " > Counts for pub 3: {'11': 536, '01': 83, '00': 391, '10': 14}\n",
      " > Counts for pub 4: {'00': 409, '01': 67, '11': 537, '10': 11}\n",
      " > Counts for pub 5: {'10': 569, '00': 128, '01': 293, '11': 34}\n",
      " > Counts for pub 6: {'00': 239, '01': 130, '11': 194, '10': 461}\n",
      " > Counts for pub 7: {'01': 110, '00': 364, '11': 497, '10': 53}\n",
      " > Counts for pub 8: {'11': 520, '00': 416, '01': 66, '10': 22}\n",
      " > Counts for pub 9: {'01': 517, '10': 320, '00': 168, '11': 19}\n",
      " > Counts for pub 10: {'00': 297, '10': 566, '01': 99, '11': 62}\n",
      " > Counts for pub 11: {'00': 339, '11': 482, '01': 138, '10': 65}\n",
      " > Counts for pub 12: {'00': 387, '11': 559, '01': 55, '10': 23}\n",
      " > Counts for pub 13: {'10': 657, '00': 157, '01': 166, '11': 44}\n",
      " > Counts for pub 14: {'01': 321, '10': 566, '00': 109, '11': 28}\n",
      " > Counts for pub 15: {'01': 720, '00': 159, '10': 49, '11': 96}\n",
      " > Counts for pub 16: {'00': 321, '11': 535, '10': 101, '01': 67}\n",
      " > Counts for pub 17: {'10': 610, '00': 183, '11': 176, '01': 55}\n",
      " > Counts for pub 18: {'10': 518, '01': 174, '00': 229, '11': 103}\n",
      " > Counts for pub 19: {'10': 446, '01': 192, '11': 111, '00': 275}\n",
      " > Counts for pub 20: {'00': 193, '11': 59, '01': 186, '10': 586}\n",
      " > Counts for pub 21: {'10': 20, '01': 640, '11': 103, '00': 261}\n",
      " > Counts for pub 22: {'01': 73, '11': 331, '10': 407, '00': 213}\n",
      " > Counts for pub 23: {'11': 548, '00': 390, '01': 66, '10': 20}\n",
      " > Counts for pub 24: {'01': 159, '11': 447, '00': 359, '10': 59}\n",
      " > Counts for pub 25: {'11': 402, '10': 120, '00': 347, '01': 155}\n",
      " > Counts for pub 26: {'10': 682, '00': 261, '01': 51, '11': 30}\n",
      " > Counts for pub 27: {'01': 510, '10': 358, '00': 125, '11': 31}\n",
      " > Counts for pub 28: {'01': 306, '10': 411, '00': 244, '11': 63}\n",
      " > Counts for pub 29: {'01': 167, '10': 230, '11': 348, '00': 279}\n",
      " > Counts for pub 30: {'00': 340, '01': 424, '11': 58, '10': 202}\n",
      " > Counts for pub 31: {'11': 103, '10': 76, '01': 518, '00': 327}\n",
      " > Counts for pub 32: {'10': 381, '01': 530, '11': 8, '00': 105}\n",
      " > Counts for pub 33: {'11': 529, '00': 394, '10': 26, '01': 75}\n",
      " > Counts for pub 34: {'11': 499, '00': 333, '01': 133, '10': 59}\n",
      " > Counts for pub 35: {'01': 407, '00': 343, '11': 200, '10': 74}\n",
      " > Counts for pub 36: {'00': 282, '01': 98, '10': 625, '11': 19}\n",
      " > Counts for pub 37: {'00': 357, '11': 402, '10': 119, '01': 146}\n",
      " > Counts for pub 38: {'11': 232, '01': 358, '00': 373, '10': 61}\n",
      " > Counts for pub 39: {'00': 370, '01': 161, '11': 430, '10': 63}\n",
      " > Counts for pub 40: {'11': 425, '10': 110, '00': 337, '01': 152}\n",
      " > Counts for pub 41: {'11': 541, '01': 60, '00': 408, '10': 15}\n",
      " > Counts for pub 42: {'00': 313, '01': 157, '11': 443, '10': 111}\n",
      " > Counts for pub 43: {'01': 586, '10': 261, '00': 138, '11': 39}\n",
      " > Counts for pub 44: {'10': 140, '01': 187, '11': 387, '00': 310}\n",
      " > Counts for pub 45: {'01': 772, '00': 179, '11': 57, '10': 16}\n",
      " > Counts for pub 46: {'11': 511, '01': 93, '00': 308, '10': 112}\n",
      " > Counts for pub 47: {'00': 394, '10': 15, '11': 548, '01': 67}\n",
      " > Counts for pub 48: {'00': 280, '10': 448, '01': 156, '11': 140}\n",
      " > Counts for pub 49: {'01': 16, '10': 651, '00': 212, '11': 145}\n",
      " > Counts for pub 50: {'00': 418, '11': 506, '01': 80, '10': 20}\n",
      " > Counts for pub 51: {'00': 332, '11': 450, '10': 104, '01': 138}\n",
      " > Counts for pub 52: {'00': 405, '11': 528, '01': 66, '10': 25}\n",
      " > Counts for pub 53: {'00': 308, '11': 403, '01': 188, '10': 125}\n",
      " > Counts for pub 54: {'01': 80, '11': 550, '00': 376, '10': 18}\n",
      " > Counts for pub 55: {'11': 498, '00': 348, '01': 130, '10': 48}\n",
      " > Counts for pub 56: {'10': 309, '11': 144, '00': 282, '01': 289}\n",
      " > Counts for pub 57: {'11': 528, '00': 400, '01': 75, '10': 21}\n",
      " > Counts for pub 58: {'11': 298, '00': 447, '01': 227, '10': 52}\n",
      " > Counts for pub 59: {'11': 566, '00': 376, '01': 62, '10': 20}\n",
      " > Counts for pub 60: {'10': 78, '00': 357, '01': 152, '11': 437}\n",
      " > Counts for pub 61: {'11': 45, '10': 542, '01': 109, '00': 328}\n",
      " > Counts for pub 62: {'11': 95, '10': 446, '00': 255, '01': 228}\n",
      " > Counts for pub 63: {'11': 437, '00': 340, '10': 91, '01': 156}\n",
      " > Counts for pub 64: {'00': 115, '01': 661, '10': 239, '11': 9}\n",
      " > Counts for pub 65: {'11': 58, '10': 643, '01': 215, '00': 108}\n",
      " > Counts for pub 66: {'11': 530, '00': 404, '01': 71, '10': 19}\n",
      " > Counts for pub 67: {'11': 516, '00': 428, '01': 62, '10': 18}\n",
      " > Counts for pub 68: {'01': 328, '00': 309, '11': 249, '10': 138}\n",
      " > Counts for pub 69: {'11': 510, '10': 24, '00': 402, '01': 88}\n",
      " > Counts for pub 70: {'01': 290, '10': 526, '00': 144, '11': 64}\n",
      " > Counts for pub 71: {'11': 472, '00': 385, '10': 50, '01': 117}\n",
      " > Counts for pub 72: {'11': 553, '00': 398, '01': 60, '10': 13}\n",
      " > Counts for pub 73: {'10': 520, '00': 287, '01': 149, '11': 68}\n",
      " > Counts for pub 74: {'11': 419, '10': 137, '00': 319, '01': 149}\n",
      " > Counts for pub 75: {'00': 238, '01': 738, '11': 27, '10': 21}\n",
      " > Counts for pub 76: {'01': 425, '00': 365, '10': 163, '11': 71}\n",
      " > Counts for pub 77: {'11': 154, '01': 479, '00': 333, '10': 58}\n",
      " > Counts for pub 78: {'01': 831, '00': 119, '10': 22, '11': 52}\n",
      " > Counts for pub 79: {'00': 374, '11': 471, '01': 124, '10': 55}\n",
      " > Counts for pub 80: {'10': 527, '01': 189, '00': 300, '11': 8}\n",
      " > Counts for pub 81: {'11': 81, '10': 505, '01': 165, '00': 273}\n",
      " > Counts for pub 82: {'00': 297, '11': 59, '10': 537, '01': 131}\n",
      " > Counts for pub 83: {'10': 639, '00': 115, '01': 210, '11': 60}\n",
      " > Counts for pub 84: {'10': 490, '01': 213, '00': 238, '11': 83}\n",
      " > Counts for pub 85: {'11': 544, '00': 399, '01': 67, '10': 14}\n",
      " > Counts for pub 86: {'00': 321, '10': 149, '11': 147, '01': 407}\n",
      " > Counts for pub 87: {'01': 519, '00': 313, '10': 117, '11': 75}\n",
      " > Counts for pub 88: {'00': 412, '11': 526, '10': 23, '01': 63}\n",
      " > Counts for pub 89: {'00': 297, '10': 123, '01': 474, '11': 130}\n",
      " > Counts for pub 90: {'10': 355, '11': 132, '01': 275, '00': 262}\n",
      " > Counts for pub 91: {'00': 176, '10': 672, '11': 153, '01': 23}\n",
      " > Counts for pub 92: {'00': 359, '01': 74, '10': 30, '11': 561}\n",
      " > Counts for pub 93: {'00': 380, '11': 349, '01': 237, '10': 58}\n",
      " > Counts for pub 94: {'00': 186, '10': 538, '11': 232, '01': 68}\n",
      " > Counts for pub 95: {'01': 526, '11': 66, '00': 195, '10': 237}\n",
      " > Counts for pub 96: {'00': 200, '10': 777, '01': 14, '11': 33}\n",
      " > Counts for pub 97: {'00': 384, '11': 549, '01': 73, '10': 18}\n",
      " > Counts for pub 98: {'00': 474, '11': 395, '01': 117, '10': 38}\n",
      " > Counts for pub 99: {'11': 558, '01': 58, '00': 390, '10': 18}\n",
      " > Counts for pub 100: {'00': 400, '11': 527, '01': 77, '10': 20}\n",
      " > Counts for pub 101: {'11': 529, '00': 415, '01': 61, '10': 19}\n",
      " > Counts for pub 102: {'10': 582, '01': 220, '11': 56, '00': 166}\n",
      " > Counts for pub 103: {'01': 578, '00': 334, '11': 102, '10': 10}\n",
      " > Counts for pub 104: {'11': 389, '01': 183, '10': 140, '00': 312}\n",
      " > Counts for pub 105: {'10': 377, '00': 299, '01': 281, '11': 67}\n",
      " > Counts for pub 106: {'00': 374, '11': 550, '01': 75, '10': 25}\n",
      " > Counts for pub 107: {'00': 354, '01': 155, '11': 448, '10': 67}\n",
      " > Counts for pub 108: {'00': 408, '11': 515, '01': 86, '10': 15}\n",
      " > Counts for pub 109: {'11': 424, '00': 381, '10': 55, '01': 164}\n",
      " > Counts for pub 110: {'00': 301, '10': 608, '01': 109, '11': 6}\n",
      " > Counts for pub 111: {'00': 76, '01': 786, '11': 67, '10': 95}\n",
      " > Counts for pub 112: {'11': 538, '00': 403, '01': 67, '10': 16}\n",
      " > Counts for pub 113: {'10': 621, '00': 150, '01': 162, '11': 91}\n",
      " > Counts for pub 114: {'10': 721, '00': 204, '11': 45, '01': 54}\n",
      " > Counts for pub 115: {'01': 65, '00': 411, '11': 525, '10': 23}\n",
      " > Counts for pub 116: {'01': 618, '00': 139, '10': 230, '11': 37}\n",
      " > Counts for pub 117: {'11': 547, '00': 395, '01': 64, '10': 18}\n",
      " > Counts for pub 118: {'00': 396, '01': 72, '11': 545, '10': 11}\n",
      " > Counts for pub 119: {'11': 427, '01': 336, '00': 217, '10': 44}\n",
      " > Counts for pub 120: {'10': 132, '01': 734, '00': 135, '11': 23}\n",
      " > Counts for pub 121: {'01': 185, '10': 655, '00': 154, '11': 30}\n",
      " > Counts for pub 122: {'11': 441, '00': 321, '10': 107, '01': 155}\n",
      " > Counts for pub 123: {'10': 661, '11': 119, '00': 193, '01': 51}\n",
      " > Counts for pub 124: {'11': 106, '00': 355, '10': 406, '01': 157}\n",
      " > Counts for pub 125: {'01': 601, '00': 181, '11': 189, '10': 53}\n",
      " > Counts for pub 126: {'01': 402, '00': 303, '11': 150, '10': 169}\n",
      " > Counts for pub 127: {'01': 562, '00': 129, '10': 309, '11': 24}\n",
      " > Counts for pub 128: {'10': 180, '01': 511, '00': 233, '11': 100}\n",
      " > Counts for pub 129: {'01': 454, '10': 208, '11': 50, '00': 312}\n",
      " > Counts for pub 130: {'11': 531, '00': 415, '01': 57, '10': 21}\n",
      " > Counts for pub 131: {'11': 206, '10': 262, '01': 264, '00': 292}\n",
      " > Counts for pub 132: {'00': 358, '01': 434, '10': 160, '11': 72}\n",
      " > Counts for pub 133: {'01': 156, '11': 423, '10': 130, '00': 315}\n",
      " > Counts for pub 134: {'00': 362, '10': 60, '11': 450, '01': 152}\n",
      " > Counts for pub 135: {'00': 406, '10': 16, '11': 537, '01': 65}\n"
     ]
    }
   ],
   "source": [
    "\n",
    "\n",
    "# Extract counts for '00' from each post and calculate the total sum of counts per post\n",
    "# parity calculation is given for each Pub in \"paridad\"\n",
    "counts_00 = []\n",
    "paridad = []\n",
    "\n",
    "\n",
    "counts_data = []\n",
    "for idx, pub_result in enumerate(result):\n",
    "        counts = pub_result.data.meas.get_counts()\n",
    "        counts_data.append(counts)\n",
    "\n",
    "        print(f\" > Counts for pub {idx}: {counts}\")\n",
    "\n",
    "for counts in counts_data:\n",
    "    total_counts = sum(counts.values())\n",
    "    #print(total_counts)\n",
    "    count_00 = counts.get('00', 0)\n",
    "    count_01 = counts.get('01', 0)\n",
    "    count_10 = counts.get('10', 0)\n",
    "    count_11 = counts.get('11', 0)\n",
    "    count_par = count_00 + count_11\n",
    "    count_impar = count_01 + count_10\n",
    "\n",
    "\n",
    "    if count_par > count_impar:\n",
    "        pari = 1  # Paridad impar\n",
    "    elif count_par < count_impar:\n",
    "        pari = 0  # Paridad par\n",
    "    else:\n",
    "        if count_par == 0 or count_impar == 0:\n",
    "            pari = None  # Indicar paridad inconclusa\n",
    "        else:\n",
    "            pari = 0  # Asignar paridad par arbitrariamente\n",
    "\n",
    "    #count_00_pu = count_00 / total_counts if total_counts != 0 else 0  # Evitar división por cero\n",
    "    paridad.append(pari)"
   ]
  },
  {
   "cell_type": "code",
   "execution_count": 49,
   "metadata": {
    "colab": {
     "base_uri": "https://localhost:8080/"
    },
    "id": "otk9Fb6hmlBu",
    "outputId": "8275681b-0c6a-4ce8-cfe9-1a390c63ec6e"
   },
   "outputs": [
    {
     "name": "stdout",
     "output_type": "stream",
     "text": [
      "Accuracy: 0.9118\n"
     ]
    }
   ],
   "source": [
    "def parity(bitstring):\n",
    "    \"\"\"Returns 1 if parity of `bitstring` is even, otherwise 0.\"\"\"\n",
    "    hamming_weight = sum(int(k) for k in list(bitstring))\n",
    "    return (hamming_weight+1) % 2\n",
    "    \n",
    "def label_probability(results):\n",
    "    \"\"\"Converts a dict of bitstrings and their counts,\n",
    "    to parities and their counts\"\"\"\n",
    "    shots = sum(results.values())\n",
    "    probabilities = {0: 0, 1: 0}\n",
    "    for bitstring, counts in results.items():\n",
    "        label = parity(bitstring)\n",
    "        probabilities[label] += counts / shots\n",
    "    return probabilities\n",
    "\n",
    "#Calculates the accuracy of predicting parities based on train labels.\n",
    "def calculate_accuracy(train_labels, parity):\n",
    "    \"\"\"\n",
    "    Calculates the accuracy of predicting parities based on train labels.\n",
    "\n",
    "    Args:\n",
    "        train_labels (list): A list of true parity labels (0 or 1).\n",
    "        parity (list): A list of predicted parity values (0 or 1).\n",
    "\n",
    "    Returns:\n",
    "        float: The accuracy of parity predictions (0.0 to 1.0).\n",
    "    \"\"\"\n",
    "\n",
    "    if len(train_labels) != len(parity):\n",
    "        raise ValueError(\"train_labels and parity must have the same length\")\n",
    "\n",
    "    correct_predictions = sum(1 for true_label, predicted_label in zip(train_labels, parity) if true_label == predicted_label)\n",
    "\n",
    "    accuracy = correct_predictions / len(train_labels)\n",
    "    return accuracy\n",
    "\n",
    "# Example usage (assuming TRAIN_LABELS and parity are populated correctly as lists)\n",
    "#TRAIN_LABELS = [0, 1, 0, 1, 1, 0]  # Example true labels\n",
    "#parity = [0, 1, 0, 0, 1, 0]  # Example predicted parity values\n",
    "\n",
    "accuracy = calculate_accuracy(TRAIN_LABELS[0:136], paridad)\n",
    "print(f\"Accuracy: {accuracy:.4f}\")\n"
   ]
  },
  {
   "cell_type": "code",
   "execution_count": 66,
   "metadata": {},
   "outputs": [
    {
     "data": {
      "image/png": "[encoded data removed]",
      "text/plain": [
       "<Figure size 1200x800 with 1 Axes>"
      ]
     },
     "metadata": {},
     "output_type": "display_data"
    }
   ],
   "source": [
    "import numpy as np\n",
    "import matplotlib.pyplot as plt\n",
    "\n",
    "# Sample data (replace with your actual data)\n",
    "# Assuming TRAIN_LABELS and paridad are already defined\n",
    "# For demonstration, let's create some dummy data:\n",
    "\n",
    "# ... (Rest of your code to calculate 'paridad' and 'accuracy') ...\n",
    "\n",
    "# Calculate accuracy (you should already have this function)\n",
    "def calculate_accuracy(train_labels, parity):\n",
    "    # ... (Your implementation of the function) ...\n",
    "    if len(train_labels) != len(parity):\n",
    "        raise ValueError(\"train_labels and parity must have the same length\")\n",
    "\n",
    "    correct_predictions = sum(1 for true_label, predicted_label in zip(train_labels, parity) if true_label == predicted_label)\n",
    "\n",
    "    accuracy = correct_predictions / len(train_labels)\n",
    "    return accuracy\n",
    "\n",
    "accuracy = calculate_accuracy(TRAIN_LABELS[0:136], paridad)\n",
    "\n",
    "# Verificar que ambas listas tengan la misma longitud\n",
    "if len(TRAIN_LABELS[0:136]) != len(paridad):\n",
    "    raise ValueError(\"TRAIN_LABELS and parity must have the same length\")\n",
    "\n",
    "# Crear una figura y ejes\n",
    "fig, ax = plt.subplots(figsize=(12, 8))\n",
    "\n",
    "# Configurar el gráfico\n",
    "indices = np.arange(len(TRAIN_LABELS[0:136]))\n",
    "\n",
    "# Graficar las etiquetas reales como puntos cuadrados sin relleno\n",
    "ax.scatter(indices, TRAIN_LABELS[0:136], label='True Tags', edgecolors='b', facecolors='none', marker='s', s=50)\n",
    "\n",
    "# Graficar las etiquetas predichas como puntos redondos más pequeños\n",
    "ax.scatter(indices, paridad, label='Predicted Tags', color='r', marker='o', s=20)\n",
    "\n",
    "# Configurar etiquetas y título\n",
    "ax.set_xlabel('Index', fontsize=14, fontweight='bold')\n",
    "ax.set_ylabel('Tag Value', fontsize=14, fontweight='bold')\n",
    "ax.set_title('Comparison of Real and Predicted Labels on IBM Q computer', fontsize=16, fontweight='bold')\n",
    "\n",
    "# Configurar la leyenda\n",
    "# Modificar la leyenda para incluir la precisión\n",
    "legend = ax.legend(fontsize=14, title=f\"Accuracy: {accuracy:.4f}\")  # Add accuracy to legend title\n",
    "plt.setp(legend.get_title(), fontsize=14)  # Set legend title font size\n",
    "\n",
    "# Ajustar los ticks del eje y para que sean solo 0 y 1\n",
    "ax.set_yticks([0, 1])\n",
    "\n",
    "# Mejorar la visualización de la cuadrícula\n",
    "ax.grid(True, linestyle='--', alpha=0.6)\n",
    "\n",
    "# Aumentar el tamaño de los números en los ejes\n",
    "ax.tick_params(axis='x', labelsize=16)\n",
    "ax.tick_params(axis='y', labelsize=16)\n",
    "\n",
    "# Ajustar el espaciado de los elementos\n",
    "plt.tight_layout()\n",
    "\n",
    "# Mostrar el gráfico\n",
    "plt.show()"
   ]
  },
  {
   "cell_type": "code",
   "execution_count": null,
   "metadata": {
    "colab": {
     "base_uri": "https://localhost:8080/"
    },
    "id": "5Hevu_JVHiob",
    "outputId": "fadc65d9-6ee8-4875-ffd5-b64f14d9bb47"
   },
   "outputs": [
    {
     "data": {
      "text/plain": [
       "4096"
      ]
     },
     "execution_count": 50,
     "metadata": {},
     "output_type": "execute_result"
    }
   ],
   "source": [
    "total_counts"
   ]
  },
  {
   "cell_type": "code",
   "execution_count": null,
   "metadata": {
    "colab": {
     "base_uri": "https://localhost:8080/"
    },
    "id": "h-isu5xVZWkD",
    "outputId": "e75c11c6-6711-4b60-d93d-f4d49bfb86fa"
   },
   "outputs": [
    {
     "name": "stdout",
     "output_type": "stream",
     "text": [
      " > Counts for pub 0: {'00': 336, '10': 256, '01': 76, '11': 356}\n",
      " > Counts for pub 1: {'00': 252, '01': 155, '11': 364, '10': 253}\n",
      " > Counts for pub 2: {'00': 369, '11': 316, '10': 234, '01': 105}\n",
      " > Counts for pub 3: {'10': 294, '00': 342, '11': 325, '01': 63}\n",
      " > Counts for pub 4: {'10': 201, '11': 383, '00': 349, '01': 91}\n",
      " > Counts for pub 5: {'00': 263, '10': 199, '01': 320, '11': 242}\n",
      " > Counts for pub 6: {'11': 132, '10': 719, '00': 131, '01': 42}\n",
      " > Counts for pub 7: {'01': 341, '10': 487, '00': 131, '11': 65}\n",
      " > Counts for pub 8: {'00': 339, '10': 284, '01': 83, '11': 318}\n",
      " > Counts for pub 9: {'10': 282, '11': 117, '01': 564, '00': 61}\n",
      " > Counts for pub 10: {'00': 349, '11': 395, '10': 186, '01': 94}\n",
      " > Counts for pub 11: {'10': 495, '01': 319, '11': 125, '00': 85}\n",
      " > Counts for pub 12: {'10': 472, '00': 182, '01': 227, '11': 143}\n",
      " > Counts for pub 13: {'00': 508, '01': 215, '10': 270, '11': 31}\n",
      " > Counts for pub 14: {'11': 350, '10': 240, '01': 97, '00': 337}\n",
      " > Counts for pub 15: {'11': 687, '00': 243, '01': 68, '10': 26}\n",
      " > Counts for pub 16: {'11': 404, '00': 363, '10': 161, '01': 96}\n",
      " > Counts for pub 17: {'01': 498, '10': 349, '00': 140, '11': 37}\n",
      " > Counts for pub 18: {'11': 324, '00': 312, '10': 306, '01': 82}\n",
      " > Counts for pub 19: {'01': 77, '00': 418, '11': 280, '10': 249}\n",
      " > Counts for pub 20: {'00': 366, '11': 353, '10': 215, '01': 90}\n",
      " > Counts for pub 21: {'10': 357, '11': 340, '00': 247, '01': 80}\n",
      " > Counts for pub 22: {'10': 252, '11': 204, '01': 323, '00': 245}\n",
      " > Counts for pub 23: {'10': 523, '01': 55, '11': 256, '00': 190}\n",
      " > Counts for pub 24: {'10': 266, '01': 91, '11': 345, '00': 322}\n",
      " > Counts for pub 25: {'01': 456, '11': 243, '10': 226, '00': 99}\n",
      " > Counts for pub 26: {'10': 490, '11': 170, '01': 138, '00': 226}\n",
      " > Counts for pub 27: {'00': 329, '11': 519, '01': 87, '10': 89}\n",
      " > Counts for pub 28: {'10': 489, '01': 473, '00': 20, '11': 42}\n",
      " > Counts for pub 29: {'10': 465, '00': 77, '01': 417, '11': 65}\n",
      " > Counts for pub 30: {'10': 553, '01': 409, '00': 22, '11': 40}\n",
      " > Counts for pub 31: {'01': 584, '10': 337, '00': 45, '11': 58}\n",
      " > Counts for pub 32: {'10': 515, '00': 128, '01': 357, '11': 24}\n",
      " > Counts for pub 33: {'01': 286, '11': 41, '10': 561, '00': 136}\n",
      " > Counts for pub 34: {'11': 373, '01': 124, '10': 228, '00': 299}\n",
      " > Counts for pub 35: {'10': 719, '00': 121, '11': 151, '01': 33}\n",
      " > Counts for pub 36: {'10': 182, '01': 157, '11': 398, '00': 287}\n",
      " > Counts for pub 37: {'10': 556, '11': 36, '01': 355, '00': 77}\n",
      " > Counts for pub 38: {'11': 376, '00': 339, '10': 227, '01': 82}\n",
      " > Counts for pub 39: {'00': 356, '11': 337, '10': 264, '01': 67}\n",
      " > Counts for pub 40: {'01': 70, '11': 249, '10': 313, '00': 392}\n",
      " > Counts for pub 41: {'11': 376, '01': 89, '10': 197, '00': 362}\n",
      " > Counts for pub 42: {'11': 30, '10': 586, '00': 72, '01': 336}\n",
      " > Counts for pub 43: {'10': 278, '11': 93, '01': 588, '00': 65}\n",
      " > Counts for pub 44: {'10': 194, '00': 631, '11': 169, '01': 30}\n",
      " > Counts for pub 45: {'10': 248, '11': 356, '00': 336, '01': 84}\n",
      " > Counts for pub 46: {'10': 482, '01': 438, '00': 49, '11': 55}\n",
      " > Counts for pub 47: {'10': 542, '01': 387, '11': 47, '00': 48}\n",
      " > Counts for pub 48: {'01': 102, '11': 373, '00': 345, '10': 204}\n",
      " > Counts for pub 49: {'10': 509, '01': 411, '11': 62, '00': 42}\n",
      " > Counts for pub 50: {'01': 234, '10': 656, '11': 78, '00': 56}\n",
      " > Counts for pub 51: {'10': 683, '00': 123, '11': 174, '01': 44}\n",
      " > Counts for pub 52: {'01': 361, '10': 475, '11': 77, '00': 111}\n",
      " > Counts for pub 53: {'01': 543, '10': 252, '11': 178, '00': 51}\n",
      " > Counts for pub 54: {'10': 257, '11': 296, '00': 388, '01': 83}\n",
      " > Counts for pub 55: {'11': 270, '01': 359, '00': 194, '10': 201}\n",
      " > Counts for pub 56: {'11': 398, '10': 258, '01': 157, '00': 211}\n",
      " > Counts for pub 57: {'01': 377, '10': 524, '00': 103, '11': 20}\n",
      " > Counts for pub 58: {'01': 381, '11': 28, '10': 520, '00': 95}\n",
      " > Counts for pub 59: {'10': 484, '00': 112, '01': 378, '11': 50}\n",
      " > Counts for pub 60: {'11': 404, '10': 188, '00': 351, '01': 81}\n",
      " > Counts for pub 61: {'00': 323, '11': 347, '10': 276, '01': 78}\n",
      " > Counts for pub 62: {'01': 303, '10': 525, '00': 161, '11': 35}\n",
      " > Counts for pub 63: {'00': 334, '11': 383, '10': 219, '01': 88}\n",
      " > Counts for pub 64: {'00': 161, '10': 679, '11': 139, '01': 45}\n",
      " > Counts for pub 65: {'10': 657, '11': 201, '00': 121, '01': 45}\n",
      " > Counts for pub 66: {'11': 686, '01': 97, '10': 192, '00': 49}\n",
      " > Counts for pub 67: {'00': 413, '11': 301, '10': 226, '01': 84}\n",
      " > Counts for pub 68: {'00': 381, '10': 273, '11': 299, '01': 71}\n",
      " > Counts for pub 69: {'11': 714, '00': 53, '10': 75, '01': 182}\n",
      " > Counts for pub 70: {'10': 454, '01': 512, '00': 41, '11': 17}\n",
      " > Counts for pub 71: {'10': 734, '00': 161, '11': 112, '01': 17}\n",
      " > Counts for pub 72: {'10': 390, '00': 32, '01': 580, '11': 22}\n",
      " > Counts for pub 73: {'01': 357, '10': 519, '11': 41, '00': 107}\n",
      " > Counts for pub 74: {'11': 339, '10': 298, '00': 328, '01': 59}\n",
      " > Counts for pub 75: {'01': 457, '10': 480, '11': 69, '00': 18}\n",
      " > Counts for pub 76: {'00': 606, '11': 398, '01': 13, '10': 7}\n",
      " > Counts for pub 77: {'01': 623, '10': 291, '11': 91, '00': 19}\n",
      " > Counts for pub 78: {'10': 490, '01': 326, '11': 15, '00': 193}\n",
      " > Counts for pub 79: {'01': 433, '10': 467, '11': 16, '00': 108}\n",
      " > Counts for pub 80: {'00': 71, '01': 469, '10': 472, '11': 12}\n",
      " > Counts for pub 81: {'00': 362, '10': 208, '11': 372, '01': 82}\n",
      " > Counts for pub 82: {'00': 207, '10': 414, '01': 377, '11': 26}\n",
      " > Counts for pub 83: {'10': 392, '01': 583, '11': 34, '00': 15}\n",
      " > Counts for pub 84: {'10': 178, '11': 397, '01': 80, '00': 369}\n",
      " > Counts for pub 85: {'01': 481, '10': 478, '11': 57, '00': 8}\n",
      " > Counts for pub 86: {'11': 267, '00': 422, '10': 269, '01': 66}\n",
      " > Counts for pub 87: {'00': 137, '11': 126, '10': 746, '01': 15}\n",
      " > Counts for pub 88: {'10': 531, '11': 82, '01': 339, '00': 72}\n",
      " > Counts for pub 89: {'01': 479, '10': 296, '11': 161, '00': 88}\n",
      " > Counts for pub 90: {'11': 377, '00': 383, '10': 170, '01': 94}\n",
      " > Counts for pub 91: {'11': 261, '10': 275, '01': 102, '00': 386}\n",
      " > Counts for pub 92: {'00': 331, '11': 389, '10': 208, '01': 96}\n",
      " > Counts for pub 93: {'00': 377, '11': 348, '10': 193, '01': 106}\n",
      " > Counts for pub 94: {'11': 335, '10': 215, '00': 382, '01': 92}\n",
      " > Counts for pub 95: {'10': 508, '11': 51, '01': 396, '00': 69}\n",
      " > Counts for pub 96: {'00': 713, '11': 261, '10': 29, '01': 21}\n",
      " > Counts for pub 97: {'10': 216, '00': 358, '11': 369, '01': 81}\n",
      " > Counts for pub 98: {'10': 348, '00': 243, '01': 285, '11': 148}\n",
      " > Counts for pub 99: {'10': 446, '01': 475, '00': 91, '11': 12}\n",
      " > Counts for pub 100: {'10': 512, '01': 369, '00': 114, '11': 29}\n",
      " > Counts for pub 101: {'00': 334, '10': 268, '11': 352, '01': 70}\n",
      " > Counts for pub 102: {'10': 246, '01': 94, '00': 408, '11': 276}\n",
      " > Counts for pub 103: {'01': 364, '10': 513, '00': 100, '11': 47}\n",
      " > Counts for pub 104: {'10': 570, '01': 297, '11': 29, '00': 128}\n",
      " > Counts for pub 105: {'00': 93, '10': 491, '01': 390, '11': 50}\n",
      " > Counts for pub 106: {'10': 498, '01': 463, '00': 40, '11': 23}\n",
      " > Counts for pub 107: {'10': 252, '01': 85, '00': 374, '11': 313}\n",
      " > Counts for pub 108: {'00': 142, '10': 457, '01': 353, '11': 72}\n",
      " > Counts for pub 109: {'10': 225, '01': 619, '11': 161, '00': 19}\n",
      " > Counts for pub 110: {'00': 362, '11': 411, '01': 92, '10': 159}\n",
      " > Counts for pub 111: {'01': 583, '10': 333, '11': 67, '00': 41}\n",
      " > Counts for pub 112: {'10': 458, '01': 434, '00': 117, '11': 15}\n",
      " > Counts for pub 113: {'01': 74, '10': 302, '00': 344, '11': 304}\n",
      " > Counts for pub 114: {'10': 792, '00': 140, '11': 83, '01': 9}\n",
      " > Counts for pub 115: {'11': 329, '10': 291, '00': 330, '01': 74}\n",
      " > Counts for pub 116: {'01': 74, '00': 384, '10': 274, '11': 292}\n",
      " > Counts for pub 117: {'11': 362, '10': 192, '00': 376, '01': 94}\n",
      " > Counts for pub 118: {'00': 347, '11': 323, '10': 265, '01': 89}\n",
      " > Counts for pub 119: {'10': 201, '00': 416, '11': 303, '01': 104}\n",
      " > Counts for pub 120: {'11': 325, '00': 325, '10': 288, '01': 86}\n",
      " > Counts for pub 121: {'10': 381, '01': 568, '11': 39, '00': 36}\n",
      " > Counts for pub 122: {'01': 363, '10': 509, '00': 114, '11': 38}\n",
      " > Counts for pub 123: {'01': 538, '10': 455, '00': 18, '11': 13}\n",
      " > Counts for pub 124: {'10': 305, '11': 76, '01': 618, '00': 25}\n",
      " > Counts for pub 125: {'11': 332, '10': 274, '00': 341, '01': 77}\n",
      " > Counts for pub 126: {'01': 88, '00': 327, '11': 365, '10': 244}\n",
      " > Counts for pub 127: {'10': 522, '01': 362, '00': 102, '11': 38}\n",
      " > Counts for pub 128: {'11': 268, '01': 91, '00': 410, '10': 255}\n",
      " > Counts for pub 129: {'01': 264, '10': 628, '11': 44, '00': 88}\n",
      " > Counts for pub 130: {'10': 316, '00': 373, '11': 263, '01': 72}\n",
      " > Counts for pub 131: {'11': 546, '01': 352, '10': 99, '00': 27}\n",
      " > Counts for pub 132: {'11': 456, '01': 104, '10': 163, '00': 301}\n",
      " > Counts for pub 133: {'10': 481, '00': 135, '01': 360, '11': 48}\n",
      " > Counts for pub 134: {'00': 208, '10': 344, '11': 373, '01': 99}\n",
      " > Counts for pub 135: {'01': 93, '10': 281, '00': 367, '11': 283}\n",
      " > Counts for pub 136: {'10': 411, '01': 229, '00': 215, '11': 169}\n",
      " > Counts for pub 137: {'11': 466, '00': 341, '01': 99, '10': 118}\n",
      " > Counts for pub 138: {'01': 367, '00': 275, '11': 149, '10': 233}\n",
      " > Counts for pub 139: {'11': 198, '00': 200, '10': 580, '01': 46}\n",
      " > Counts for pub 140: {'01': 310, '10': 579, '11': 82, '00': 53}\n",
      " > Counts for pub 141: {'10': 590, '01': 331, '11': 64, '00': 39}\n",
      " > Counts for pub 142: {'11': 471, '10': 160, '00': 316, '01': 77}\n",
      " > Counts for pub 143: {'11': 345, '00': 331, '01': 101, '10': 247}\n",
      " > Counts for pub 144: {'10': 143, '00': 327, '11': 448, '01': 106}\n",
      " > Counts for pub 145: {'10': 195, '01': 297, '00': 188, '11': 344}\n",
      " > Counts for pub 146: {'10': 261, '11': 322, '00': 370, '01': 71}\n",
      " > Counts for pub 147: {'01': 540, '00': 84, '10': 266, '11': 134}\n",
      " > Counts for pub 148: {'10': 659, '01': 211, '00': 70, '11': 84}\n",
      " > Counts for pub 149: {'00': 342, '01': 74, '11': 335, '10': 273}\n",
      " > Counts for pub 150: {'01': 178, '11': 741, '10': 55, '00': 50}\n",
      " > Counts for pub 151: {'10': 483, '00': 125, '11': 69, '01': 347}\n",
      " > Counts for pub 152: {'01': 85, '00': 385, '11': 282, '10': 272}\n",
      " > Counts for pub 153: {'00': 366, '01': 210, '11': 37, '10': 411}\n",
      " > Counts for pub 154: {'01': 80, '11': 288, '00': 385, '10': 271}\n",
      " > Counts for pub 155: {'11': 327, '10': 207, '00': 386, '01': 104}\n",
      " > Counts for pub 156: {'10': 260, '00': 346, '11': 324, '01': 94}\n",
      " > Counts for pub 157: {'11': 264, '10': 536, '00': 147, '01': 77}\n",
      " > Counts for pub 158: {'00': 246, '10': 387, '11': 324, '01': 67}\n",
      " > Counts for pub 159: {'10': 495, '01': 350, '00': 109, '11': 70}\n",
      " > Counts for pub 160: {'11': 333, '01': 81, '00': 354, '10': 256}\n",
      " > Counts for pub 161: {'10': 781, '11': 87, '00': 137, '01': 19}\n",
      " > Counts for pub 162: {'00': 398, '11': 245, '10': 308, '01': 73}\n",
      " > Counts for pub 163: {'00': 124, '10': 502, '11': 89, '01': 309}\n",
      " > Counts for pub 164: {'01': 584, '10': 320, '11': 62, '00': 58}\n",
      " > Counts for pub 165: {'10': 222, '11': 357, '00': 364, '01': 81}\n",
      " > Counts for pub 166: {'10': 606, '01': 230, '00': 148, '11': 40}\n",
      " > Counts for pub 167: {'01': 300, '11': 271, '00': 262, '10': 191}\n",
      " > Counts for pub 168: {'01': 490, '10': 448, '11': 73, '00': 13}\n",
      " > Counts for pub 169: {'00': 327, '01': 183, '10': 195, '11': 319}\n",
      " > Counts for pub 170: {'01': 439, '11': 88, '10': 419, '00': 78}\n",
      " > Counts for pub 171: {'01': 351, '10': 505, '00': 103, '11': 65}\n",
      " > Counts for pub 172: {'10': 497, '01': 412, '11': 55, '00': 60}\n",
      " > Counts for pub 173: {'11': 424, '00': 362, '10': 145, '01': 93}\n",
      " > Counts for pub 174: {'10': 511, '01': 352, '00': 117, '11': 44}\n",
      " > Counts for pub 175: {'11': 87, '01': 471, '10': 440, '00': 26}\n",
      " > Counts for pub 176: {'10': 362, '01': 386, '11': 131, '00': 145}\n",
      " > Counts for pub 177: {'00': 383, '11': 371, '10': 190, '01': 80}\n",
      " > Counts for pub 178: {'10': 229, '00': 366, '11': 349, '01': 80}\n",
      " > Counts for pub 179: {'10': 706, '01': 96, '00': 147, '11': 75}\n",
      " > Counts for pub 180: {'01': 527, '10': 424, '00': 14, '11': 59}\n",
      " > Counts for pub 181: {'00': 412, '10': 267, '11': 266, '01': 79}\n",
      " > Counts for pub 182: {'10': 450, '11': 25, '01': 373, '00': 176}\n",
      " > Counts for pub 183: {'10': 253, '00': 354, '11': 345, '01': 72}\n",
      " > Counts for pub 184: {'00': 135, '10': 744, '01': 22, '11': 123}\n",
      " > Counts for pub 185: {'11': 301, '00': 406, '10': 225, '01': 92}\n",
      " > Counts for pub 186: {'11': 58, '10': 653, '01': 227, '00': 86}\n",
      " > Counts for pub 187: {'11': 364, '10': 366, '00': 200, '01': 94}\n",
      " > Counts for pub 188: {'10': 192, '11': 339, '01': 244, '00': 249}\n",
      " > Counts for pub 189: {'00': 461, '11': 530, '01': 23, '10': 10}\n",
      " > Counts for pub 190: {'00': 111, '10': 712, '11': 165, '01': 36}\n",
      " > Counts for pub 191: {'00': 339, '01': 107, '11': 447, '10': 131}\n",
      " > Counts for pub 192: {'10': 206, '00': 369, '01': 91, '11': 358}\n",
      " > Counts for pub 193: {'11': 370, '01': 116, '00': 370, '10': 168}\n",
      " > Counts for pub 194: {'01': 354, '10': 463, '11': 71, '00': 136}\n",
      " > Counts for pub 195: {'00': 66, '11': 51, '10': 502, '01': 405}\n",
      " > Counts for pub 196: {'01': 584, '11': 146, '00': 57, '10': 237}\n",
      " > Counts for pub 197: {'00': 700, '11': 128, '10': 157, '01': 39}\n",
      " > Counts for pub 198: {'10': 395, '11': 93, '01': 486, '00': 50}\n",
      " > Counts for pub 199: {'11': 404, '00': 346, '01': 104, '10': 170}\n"
     ]
    }
   ],
   "source": [
    "counts_data = []\n",
    "for idx, pub_result in enumerate(result):\n",
    "        counts = pub_result.data.meas.get_counts()\n",
    "        counts_data.append(counts)\n",
    "\n",
    "        print(f\" > Counts for pub {idx}: {counts}\")"
   ]
  },
  {
   "cell_type": "code",
   "execution_count": null,
   "metadata": {
    "colab": {
     "base_uri": "https://localhost:8080/",
     "height": 1000
    },
    "id": "xoUXQB9CLKLr",
    "outputId": "cf4e3d53-28a8-4273-eebd-e50c2f1b1a32"
   },
   "outputs": [
    {
     "name": "stdout",
     "output_type": "stream",
     "text": [
      " > Counts for pub 0: {'00': 393, '11': 538, '01': 74, '10': 19}\n",
      " > Counts for pub 1: {'00': 388, '11': 563, '01': 53, '10': 20}\n",
      " > Counts for pub 2: {'01': 472, '00': 305, '10': 151, '11': 96}\n",
      " > Counts for pub 3: {'00': 399, '10': 303, '01': 280, '11': 42}\n",
      " > Counts for pub 4: {'11': 425, '01': 166, '00': 361, '10': 72}\n",
      " > Counts for pub 5: {'11': 534, '00': 410, '01': 57, '10': 23}\n",
      " > Counts for pub 6: {'00': 236, '11': 240, '10': 400, '01': 148}\n",
      " > Counts for pub 7: {'11': 447, '10': 126, '00': 311, '01': 140}\n",
      " > Counts for pub 8: {'01': 535, '00': 187, '10': 237, '11': 65}\n",
      " > Counts for pub 9: {'11': 378, '10': 377, '00': 191, '01': 78}\n",
      " > Counts for pub 10: {'00': 332, '10': 110, '01': 146, '11': 436}\n",
      " > Counts for pub 11: {'00': 342, '11': 452, '10': 70, '01': 160}\n",
      " > Counts for pub 12: {'01': 294, '11': 245, '10': 441, '00': 44}\n",
      " > Counts for pub 13: {'00': 399, '11': 537, '01': 71, '10': 17}\n",
      " > Counts for pub 14: {'10': 499, '00': 312, '11': 85, '01': 128}\n",
      " > Counts for pub 15: {'01': 811, '00': 151, '11': 30, '10': 32}\n",
      " > Counts for pub 16: {'01': 140, '11': 444, '00': 369, '10': 71}\n",
      " > Counts for pub 17: {'10': 479, '11': 38, '00': 281, '01': 226}\n",
      " > Counts for pub 18: {'11': 537, '00': 396, '01': 71, '10': 20}\n",
      " > Counts for pub 19: {'10': 310, '00': 220, '01': 328, '11': 166}\n",
      " > Counts for pub 20: {'01': 682, '00': 94, '10': 236, '11': 12}\n",
      " > Counts for pub 21: {'00': 366, '11': 553, '01': 82, '10': 23}\n",
      " > Counts for pub 22: {'10': 724, '00': 107, '01': 80, '11': 113}\n",
      " > Counts for pub 23: {'00': 347, '11': 510, '01': 121, '10': 46}\n",
      " > Counts for pub 24: {'10': 441, '01': 248, '00': 237, '11': 98}\n",
      " > Counts for pub 25: {'10': 76, '11': 432, '01': 155, '00': 361}\n",
      " > Counts for pub 26: {'11': 553, '01': 53, '00': 403, '10': 15}\n",
      " > Counts for pub 27: {'01': 714, '00': 191, '10': 32, '11': 87}\n",
      " > Counts for pub 28: {'00': 413, '11': 521, '01': 74, '10': 16}\n",
      " > Counts for pub 29: {'01': 785, '00': 122, '10': 94, '11': 23}\n",
      " > Counts for pub 30: {'01': 865, '00': 113, '11': 35, '10': 11}\n",
      " > Counts for pub 31: {'11': 576, '01': 68, '00': 360, '10': 20}\n",
      " > Counts for pub 32: {'00': 359, '11': 494, '01': 131, '10': 40}\n",
      " > Counts for pub 33: {'00': 339, '11': 462, '01': 141, '10': 82}\n",
      " > Counts for pub 34: {'00': 375, '11': 538, '01': 85, '10': 26}\n",
      " > Counts for pub 35: {'11': 554, '00': 379, '01': 72, '10': 19}\n",
      " > Counts for pub 36: {'10': 275, '01': 584, '00': 140, '11': 25}\n",
      " > Counts for pub 37: {'01': 704, '00': 117, '10': 160, '11': 43}\n",
      " > Counts for pub 38: {'10': 453, '00': 247, '01': 237, '11': 87}\n",
      " > Counts for pub 39: {'00': 126, '01': 515, '11': 323, '10': 60}\n",
      " > Counts for pub 40: {'10': 496, '00': 276, '01': 161, '11': 91}\n",
      " > Counts for pub 41: {'11': 530, '00': 396, '10': 16, '01': 82}\n",
      " > Counts for pub 42: {'10': 433, '00': 243, '11': 145, '01': 203}\n",
      " > Counts for pub 43: {'11': 467, '00': 382, '10': 52, '01': 123}\n",
      " > Counts for pub 44: {'11': 519, '00': 397, '01': 82, '10': 26}\n",
      " > Counts for pub 45: {'10': 462, '01': 162, '11': 105, '00': 295}\n",
      " > Counts for pub 46: {'11': 524, '00': 406, '01': 60, '10': 34}\n",
      " > Counts for pub 47: {'01': 285, '00': 261, '11': 341, '10': 137}\n",
      " > Counts for pub 48: {'11': 411, '00': 342, '01': 158, '10': 113}\n",
      " > Counts for pub 49: {'01': 536, '10': 332, '00': 138, '11': 18}\n",
      " > Counts for pub 50: {'00': 390, '01': 122, '11': 459, '10': 53}\n",
      " > Counts for pub 51: {'11': 542, '00': 388, '01': 72, '10': 22}\n",
      " > Counts for pub 52: {'11': 451, '00': 325, '01': 137, '10': 111}\n",
      " > Counts for pub 53: {'01': 94, '10': 425, '11': 291, '00': 214}\n",
      " > Counts for pub 54: {'00': 394, '11': 532, '01': 78, '10': 20}\n",
      " > Counts for pub 55: {'10': 60, '00': 343, '01': 520, '11': 101}\n",
      " > Counts for pub 56: {'00': 271, '10': 326, '01': 405, '11': 22}\n",
      " > Counts for pub 57: {'11': 162, '10': 258, '01': 323, '00': 281}\n",
      " > Counts for pub 58: {'11': 381, '01': 193, '00': 317, '10': 133}\n",
      " > Counts for pub 59: {'10': 450, '00': 281, '11': 143, '01': 150}\n",
      " > Counts for pub 60: {'00': 368, '01': 72, '11': 562, '10': 22}\n",
      " > Counts for pub 61: {'10': 668, '11': 183, '01': 46, '00': 127}\n",
      " > Counts for pub 62: {'11': 557, '00': 391, '01': 56, '10': 20}\n",
      " > Counts for pub 63: {'10': 106, '01': 139, '00': 331, '11': 448}\n",
      " > Counts for pub 64: {'11': 428, '01': 167, '10': 113, '00': 316}\n",
      " > Counts for pub 65: {'11': 526, '00': 419, '01': 62, '10': 17}\n",
      " > Counts for pub 66: {'11': 528, '00': 352, '10': 40, '01': 104}\n",
      " > Counts for pub 67: {'01': 171, '10': 436, '00': 391, '11': 26}\n",
      " > Counts for pub 68: {'11': 33, '10': 775, '01': 70, '00': 146}\n",
      " > Counts for pub 69: {'01': 243, '10': 446, '11': 109, '00': 226}\n",
      " > Counts for pub 70: {'10': 614, '01': 148, '00': 210, '11': 52}\n",
      " > Counts for pub 71: {'01': 70, '00': 405, '11': 526, '10': 23}\n",
      " > Counts for pub 72: {'00': 379, '11': 562, '01': 63, '10': 20}\n",
      " > Counts for pub 73: {'11': 428, '00': 370, '01': 164, '10': 62}\n",
      " > Counts for pub 74: {'11': 572, '00': 352, '01': 79, '10': 21}\n",
      " > Counts for pub 75: {'00': 162, '01': 191, '10': 605, '11': 66}\n",
      " > Counts for pub 76: {'11': 79, '01': 489, '00': 287, '10': 169}\n",
      " > Counts for pub 77: {'01': 76, '11': 526, '00': 394, '10': 28}\n",
      " > Counts for pub 78: {'10': 294, '00': 226, '01': 451, '11': 53}\n",
      " > Counts for pub 79: {'11': 443, '01': 142, '00': 374, '10': 65}\n",
      " > Counts for pub 80: {'11': 534, '00': 403, '01': 71, '10': 16}\n",
      " > Counts for pub 81: {'00': 299, '01': 163, '10': 472, '11': 90}\n",
      " > Counts for pub 82: {'11': 508, '00': 426, '01': 67, '10': 23}\n",
      " > Counts for pub 83: {'00': 172, '01': 685, '10': 148, '11': 19}\n",
      " > Counts for pub 84: {'10': 232, '00': 374, '01': 361, '11': 57}\n",
      " > Counts for pub 85: {'11': 434, '00': 357, '01': 154, '10': 79}\n",
      " > Counts for pub 86: {'01': 74, '00': 249, '10': 690, '11': 11}\n",
      " > Counts for pub 87: {'00': 379, '11': 541, '01': 81, '10': 23}\n",
      " > Counts for pub 88: {'10': 129, '00': 313, '01': 487, '11': 95}\n",
      " > Counts for pub 89: {'10': 378, '01': 238, '11': 87, '00': 321}\n",
      " > Counts for pub 90: {'11': 440, '01': 149, '10': 72, '00': 363}\n",
      " > Counts for pub 91: {'00': 270, '01': 590, '10': 114, '11': 50}\n",
      " > Counts for pub 92: {'01': 72, '11': 537, '00': 398, '10': 17}\n",
      " > Counts for pub 93: {'00': 550, '10': 233, '11': 96, '01': 145}\n",
      " > Counts for pub 94: {'11': 529, '00': 404, '01': 71, '10': 20}\n",
      " > Counts for pub 95: {'00': 397, '11': 543, '01': 64, '10': 20}\n",
      " > Counts for pub 96: {'11': 451, '10': 90, '00': 341, '01': 142}\n",
      " > Counts for pub 97: {'11': 241, '01': 344, '00': 425, '10': 14}\n",
      " > Counts for pub 98: {'10': 748, '00': 193, '11': 55, '01': 28}\n",
      " > Counts for pub 99: {'00': 534, '10': 211, '11': 228, '01': 51}\n",
      " > Counts for pub 100: {'00': 432, '11': 499, '10': 27, '01': 66}\n",
      " > Counts for pub 101: {'11': 70, '01': 614, '00': 283, '10': 57}\n",
      " > Counts for pub 102: {'11': 526, '00': 408, '01': 72, '10': 18}\n",
      " > Counts for pub 103: {'00': 339, '10': 351, '01': 260, '11': 74}\n",
      " > Counts for pub 104: {'01': 322, '00': 380, '11': 306, '10': 16}\n",
      " > Counts for pub 105: {'01': 524, '00': 87, '10': 403, '11': 10}\n",
      " > Counts for pub 106: {'01': 331, '10': 310, '11': 32, '00': 351}\n",
      " > Counts for pub 107: {'10': 515, '11': 36, '01': 313, '00': 160}\n",
      " > Counts for pub 108: {'10': 269, '01': 468, '11': 81, '00': 206}\n",
      " > Counts for pub 109: {'00': 298, '01': 398, '10': 247, '11': 81}\n",
      " > Counts for pub 110: {'11': 313, '01': 515, '00': 173, '10': 23}\n",
      " > Counts for pub 111: {'11': 460, '00': 314, '01': 136, '10': 114}\n",
      " > Counts for pub 112: {'11': 56, '01': 225, '10': 638, '00': 105}\n",
      " > Counts for pub 113: {'01': 418, '00': 266, '11': 129, '10': 211}\n",
      " > Counts for pub 114: {'00': 335, '10': 583, '01': 63, '11': 43}\n",
      " > Counts for pub 115: {'00': 363, '11': 454, '10': 56, '01': 151}\n",
      " > Counts for pub 116: {'11': 17, '01': 642, '10': 241, '00': 124}\n",
      " > Counts for pub 117: {'00': 381, '10': 262, '01': 332, '11': 49}\n",
      " > Counts for pub 118: {'01': 412, '10': 490, '00': 108, '11': 14}\n",
      " > Counts for pub 119: {'00': 329, '11': 383, '01': 218, '10': 94}\n",
      " > Counts for pub 120: {'11': 548, '00': 401, '01': 58, '10': 17}\n",
      " > Counts for pub 121: {'11': 534, '01': 58, '00': 415, '10': 17}\n",
      " > Counts for pub 122: {'11': 399, '00': 141, '10': 429, '01': 55}\n",
      " > Counts for pub 123: {'01': 351, '11': 125, '10': 258, '00': 290}\n",
      " > Counts for pub 124: {'00': 364, '11': 513, '10': 60, '01': 87}\n",
      " > Counts for pub 125: {'11': 450, '00': 348, '10': 60, '01': 166}\n",
      " > Counts for pub 126: {'10': 762, '00': 203, '01': 17, '11': 42}\n",
      " > Counts for pub 127: {'10': 693, '00': 137, '11': 172, '01': 22}\n",
      " > Counts for pub 128: {'01': 706, '00': 184, '10': 82, '11': 52}\n",
      " > Counts for pub 129: {'00': 266, '10': 604, '01': 127, '11': 27}\n",
      " > Counts for pub 130: {'00': 379, '11': 552, '01': 72, '10': 21}\n",
      " > Counts for pub 131: {'11': 567, '00': 359, '01': 71, '10': 27}\n",
      " > Counts for pub 132: {'11': 520, '00': 403, '01': 79, '10': 22}\n",
      " > Counts for pub 133: {'00': 170, '01': 760, '10': 80, '11': 14}\n",
      " > Counts for pub 134: {'01': 155, '00': 367, '11': 423, '10': 79}\n",
      " > Counts for pub 135: {'11': 316, '00': 283, '01': 182, '10': 243}\n"
     ]
    },
    {
     "data": {
      "application/vnd.google.colaboratory.intrinsic+json": {
       "type": "string"
      },
      "text/plain": [
       "'\\n# Imprimir los recuentos de \\'00\\' en p.u. para verificar\\nfor idx, count in enumerate(counts_00):\\n    print(f\"Counts of \\'00\\' in p.u. for pub {idx}: {count:.4f}\")\\n'"
      ]
     },
     "execution_count": 22,
     "metadata": {},
     "output_type": "execute_result"
    }
   ],
   "source": [
    "import matplotlib.pyplot as plt\n",
    "\n",
    "# Suponiendo que ya tienes los resultados en la variable `result`\n",
    "counts_data = []\n",
    "for idx, pub_result in enumerate(result):\n",
    "    counts = pub_result.data.meas.get_counts()\n",
    "    counts_data.append(counts)\n",
    "    print(f\" > Counts for pub {idx}: {counts}\")\n",
    "\n",
    "# Extraer los recuentos para '00' de cada publicación y calcular la suma total de recuentos por publicación\n",
    "counts_00 = []\n",
    "for counts in counts_data:\n",
    "    total_counts = sum(counts.values())\n",
    "    count_00 = counts.get('00', 0)\n",
    "    count_00_pu = count_00 / total_counts if total_counts != 0 else 0  # Evitar división por cero\n",
    "    counts_00.append(count_00_pu)\n",
    "\"\"\"\n",
    "# Imprimir los recuentos de '00' en p.u. para verificar\n",
    "for idx, count in enumerate(counts_00):\n",
    "    print(f\"Counts of '00' in p.u. for pub {idx}: {count:.4f}\")\n",
    "\"\"\""
   ]
  },
  {
   "cell_type": "code",
   "execution_count": null,
   "metadata": {
    "id": "argxc3ubWAy2"
   },
   "outputs": [],
   "source": []
  }
 ],
 "metadata": {
  "colab": {
   "provenance": []
  },
  "kernelspec": {
   "display_name": "Python 3 (ipykernel)",
   "language": "python",
   "name": "python3"
  },
  "language_info": {
   "codemirror_mode": {
    "name": "ipython",
    "version": 3
   },
   "file_extension": ".py",
   "mimetype": "text/x-python",
   "name": "python",
   "nbconvert_exporter": "python",
   "pygments_lexer": "ipython3",
   "version": "3.10.12"
  }
 },
 "nbformat": 4,
 "nbformat_minor": 4
}
