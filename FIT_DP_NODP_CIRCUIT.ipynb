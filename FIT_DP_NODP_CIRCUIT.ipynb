{
 "cells": [
  {
   "cell_type": "code",
   "execution_count": 4,
   "metadata": {
    "colab": {
     "base_uri": "https://localhost:8080/"
    },
    "id": "KbHJw8BHtMex",
    "outputId": "dd3f1bc0-b5ea-413a-e445-818b3a7960fa"
   },
   "outputs": [
    {
     "name": "stdout",
     "output_type": "stream",
     "text": [
      "Collecting qiskit_ibm_provider\n",
      "  Downloading qiskit_ibm_provider-0.11.0-py3-none-any.whl.metadata (7.6 kB)\n",
      "Collecting qiskit>=0.45.0 (from qiskit_ibm_provider)\n",
      "  Downloading qiskit-1.3.1-cp39-abi3-manylinux_2_17_x86_64.manylinux2014_x86_64.whl.metadata (12 kB)\n",
      "Requirement already satisfied: requests>=2.19 in /usr/local/lib/python3.10/dist-packages (from qiskit_ibm_provider) (2.32.3)\n",
      "Collecting requests-ntlm>=1.1.0 (from qiskit_ibm_provider)\n",
      "  Downloading requests_ntlm-1.3.0-py3-none-any.whl.metadata (2.4 kB)\n",
      "Requirement already satisfied: numpy>=1.13 in /usr/local/lib/python3.10/dist-packages (from qiskit_ibm_provider) (1.26.4)\n",
      "Requirement already satisfied: urllib3>=1.21.1 in /usr/local/lib/python3.10/dist-packages (from qiskit_ibm_provider) (2.2.3)\n",
      "Requirement already satisfied: python-dateutil>=2.8.0 in /usr/local/lib/python3.10/dist-packages (from qiskit_ibm_provider) (2.8.2)\n",
      "Requirement already satisfied: websocket-client>=1.5.1 in /usr/local/lib/python3.10/dist-packages (from qiskit_ibm_provider) (1.8.0)\n",
      "Requirement already satisfied: websockets>=10.0 in /usr/local/lib/python3.10/dist-packages (from qiskit_ibm_provider) (14.1)\n",
      "Requirement already satisfied: typing-extensions>=4.3 in /usr/local/lib/python3.10/dist-packages (from qiskit_ibm_provider) (4.12.2)\n",
      "Requirement already satisfied: six>=1.5 in /usr/local/lib/python3.10/dist-packages (from python-dateutil>=2.8.0->qiskit_ibm_provider) (1.17.0)\n",
      "Collecting rustworkx>=0.15.0 (from qiskit>=0.45.0->qiskit_ibm_provider)\n",
      "  Downloading rustworkx-0.15.1-cp38-abi3-manylinux_2_17_x86_64.manylinux2014_x86_64.whl.metadata (9.9 kB)\n",
      "Requirement already satisfied: scipy>=1.5 in /usr/local/lib/python3.10/dist-packages (from qiskit>=0.45.0->qiskit_ibm_provider) (1.13.1)\n",
      "Requirement already satisfied: sympy>=1.3 in /usr/local/lib/python3.10/dist-packages (from qiskit>=0.45.0->qiskit_ibm_provider) (1.13.1)\n",
      "Collecting dill>=0.3 (from qiskit>=0.45.0->qiskit_ibm_provider)\n",
      "  Downloading dill-0.3.9-py3-none-any.whl.metadata (10 kB)\n",
      "Collecting stevedore>=3.0.0 (from qiskit>=0.45.0->qiskit_ibm_provider)\n",
      "  Downloading stevedore-5.4.0-py3-none-any.whl.metadata (2.3 kB)\n",
      "Collecting symengine<0.14,>=0.11 (from qiskit>=0.45.0->qiskit_ibm_provider)\n",
      "  Downloading symengine-0.13.0-cp310-cp310-manylinux_2_17_x86_64.manylinux2014_x86_64.whl.metadata (1.2 kB)\n",
      "Requirement already satisfied: charset-normalizer<4,>=2 in /usr/local/lib/python3.10/dist-packages (from requests>=2.19->qiskit_ibm_provider) (3.4.0)\n",
      "Requirement already satisfied: idna<4,>=2.5 in /usr/local/lib/python3.10/dist-packages (from requests>=2.19->qiskit_ibm_provider) (3.10)\n",
      "Requirement already satisfied: certifi>=2017.4.17 in /usr/local/lib/python3.10/dist-packages (from requests>=2.19->qiskit_ibm_provider) (2024.12.14)\n",
      "Requirement already satisfied: cryptography>=1.3 in /usr/local/lib/python3.10/dist-packages (from requests-ntlm>=1.1.0->qiskit_ibm_provider) (43.0.3)\n",
      "Collecting pyspnego>=0.4.0 (from requests-ntlm>=1.1.0->qiskit_ibm_provider)\n",
      "  Downloading pyspnego-0.11.2-py3-none-any.whl.metadata (5.4 kB)\n",
      "Requirement already satisfied: cffi>=1.12 in /usr/local/lib/python3.10/dist-packages (from cryptography>=1.3->requests-ntlm>=1.1.0->qiskit_ibm_provider) (1.17.1)\n",
      "Collecting pbr>=2.0.0 (from stevedore>=3.0.0->qiskit>=0.45.0->qiskit_ibm_provider)\n",
      "  Downloading pbr-6.1.0-py2.py3-none-any.whl.metadata (3.4 kB)\n",
      "Requirement already satisfied: mpmath<1.4,>=1.1.0 in /usr/local/lib/python3.10/dist-packages (from sympy>=1.3->qiskit>=0.45.0->qiskit_ibm_provider) (1.3.0)\n",
      "Requirement already satisfied: pycparser in /usr/local/lib/python3.10/dist-packages (from cffi>=1.12->cryptography>=1.3->requests-ntlm>=1.1.0->qiskit_ibm_provider) (2.22)\n",
      "Downloading qiskit_ibm_provider-0.11.0-py3-none-any.whl (249 kB)\n",
      "\u001b[2K   \u001b[90m━━━━━━━━━━━━━━━━━━━━━━━━━━━━━━━━━━━━━━━━\u001b[0m \u001b[32m249.9/249.9 kB\u001b[0m \u001b[31m7.7 MB/s\u001b[0m eta \u001b[36m0:00:00\u001b[0m\n",
      "\u001b[?25hDownloading qiskit-1.3.1-cp39-abi3-manylinux_2_17_x86_64.manylinux2014_x86_64.whl (6.7 MB)\n",
      "\u001b[2K   \u001b[90m━━━━━━━━━━━━━━━━━━━━━━━━━━━━━━━━━━━━━━━━\u001b[0m \u001b[32m6.7/6.7 MB\u001b[0m \u001b[31m69.7 MB/s\u001b[0m eta \u001b[36m0:00:00\u001b[0m\n",
      "\u001b[?25hDownloading requests_ntlm-1.3.0-py3-none-any.whl (6.6 kB)\n",
      "Downloading dill-0.3.9-py3-none-any.whl (119 kB)\n",
      "\u001b[2K   \u001b[90m━━━━━━━━━━━━━━━━━━━━━━━━━━━━━━━━━━━━━━━━\u001b[0m \u001b[32m119.4/119.4 kB\u001b[0m \u001b[31m9.6 MB/s\u001b[0m eta \u001b[36m0:00:00\u001b[0m\n",
      "\u001b[?25hDownloading pyspnego-0.11.2-py3-none-any.whl (130 kB)\n",
      "\u001b[2K   \u001b[90m━━━━━━━━━━━━━━━━━━━━━━━━━━━━━━━━━━━━━━━━\u001b[0m \u001b[32m130.5/130.5 kB\u001b[0m \u001b[31m9.9 MB/s\u001b[0m eta \u001b[36m0:00:00\u001b[0m\n",
      "\u001b[?25hDownloading rustworkx-0.15.1-cp38-abi3-manylinux_2_17_x86_64.manylinux2014_x86_64.whl (2.0 MB)\n",
      "\u001b[2K   \u001b[90m━━━━━━━━━━━━━━━━━━━━━━━━━━━━━━━━━━━━━━━━\u001b[0m \u001b[32m2.0/2.0 MB\u001b[0m \u001b[31m58.3 MB/s\u001b[0m eta \u001b[36m0:00:00\u001b[0m\n",
      "\u001b[?25hDownloading stevedore-5.4.0-py3-none-any.whl (49 kB)\n",
      "\u001b[2K   \u001b[90m━━━━━━━━━━━━━━━━━━━━━━━━━━━━━━━━━━━━━━━━\u001b[0m \u001b[32m49.5/49.5 kB\u001b[0m \u001b[31m3.8 MB/s\u001b[0m eta \u001b[36m0:00:00\u001b[0m\n",
      "\u001b[?25hDownloading symengine-0.13.0-cp310-cp310-manylinux_2_17_x86_64.manylinux2014_x86_64.whl (49.7 MB)\n",
      "\u001b[2K   \u001b[90m━━━━━━━━━━━━━━━━━━━━━━━━━━━━━━━━━━━━━━━━\u001b[0m \u001b[32m49.7/49.7 MB\u001b[0m \u001b[31m18.9 MB/s\u001b[0m eta \u001b[36m0:00:00\u001b[0m\n",
      "\u001b[?25hDownloading pbr-6.1.0-py2.py3-none-any.whl (108 kB)\n",
      "\u001b[2K   \u001b[90m━━━━━━━━━━━━━━━━━━━━━━━━━━━━━━━━━━━━━━━━\u001b[0m \u001b[32m108.5/108.5 kB\u001b[0m \u001b[31m8.9 MB/s\u001b[0m eta \u001b[36m0:00:00\u001b[0m\n",
      "\u001b[?25hInstalling collected packages: symengine, rustworkx, pbr, dill, stevedore, qiskit, pyspnego, requests-ntlm, qiskit_ibm_provider\n",
      "Successfully installed dill-0.3.9 pbr-6.1.0 pyspnego-0.11.2 qiskit-1.3.1 qiskit_ibm_provider-0.11.0 requests-ntlm-1.3.0 rustworkx-0.15.1 stevedore-5.4.0 symengine-0.13.0\n"
     ]
    }
   ],
   "source": [
    "!pip install qiskit_ibm_provider"
   ]
  },
  {
   "cell_type": "code",
   "execution_count": null,
   "metadata": {
    "id": "H8Ld1IiIKrM4"
   },
   "outputs": [],
   "source": [
    "# Create circuit to test transpiler on\n",
    "from qiskit import QuantumCircuit, transpile\n",
    "from qiskit.circuit.library import GroverOperator, Diagonal\n",
    "\n",
    "# Use Statevector object to calculate the ideal output\n",
    "from qiskit.quantum_info import Statevector\n",
    "from qiskit.visualization import plot_histogram\n",
    "\n",
    "# Qiskit Runtime\n"
   ]
  },
  {
   "cell_type": "code",
   "execution_count": null,
   "metadata": {
    "colab": {
     "base_uri": "https://localhost:8080/",
     "height": 312
    },
    "id": "0x4c1OoFK1eI",
    "outputId": "7d9c4213-65a0-4ecc-889e-5d785db29145"
   },
   "outputs": [
    {
     "name": "stdout",
     "output_type": "stream",
     "text": [
      "     ┌─────────────────────────────────────────────┐\n",
      "q_0: ┤0                                            ├\n",
      "     │                                             │\n",
      "q_1: ┤1                                            ├\n",
      "     │  Diagonal(1,1,1,1,1,1,1,1,1,1,1,1,1,1,1,-1) │\n",
      "q_2: ┤2                                            ├\n",
      "     │                                             │\n",
      "q_3: ┤3                                            ├\n",
      "     └─────────────────────────────────────────────┘\n"
     ]
    },
    {
     "data": {
      "text/html": [
       "<pre style=\"word-wrap: normal;white-space: pre;background: #fff0;line-height: 1.1;font-family: &quot;Courier New&quot;,Courier,monospace\">     ┌───┐┌────┐\n",
       "q_0: ┤ H ├┤0   ├\n",
       "     ├───┤│    │\n",
       "q_1: ┤ H ├┤1   ├\n",
       "     ├───┤│  Q │\n",
       "q_2: ┤ H ├┤2   ├\n",
       "     ├───┤│    │\n",
       "q_3: ┤ H ├┤3   ├\n",
       "     └───┘└────┘</pre>"
      ],
      "text/plain": [
       "     ┌───┐┌────┐\n",
       "q_0: ┤ H ├┤0   ├\n",
       "     ├───┤│    │\n",
       "q_1: ┤ H ├┤1   ├\n",
       "     ├───┤│  Q │\n",
       "q_2: ┤ H ├┤2   ├\n",
       "     ├───┤│    │\n",
       "q_3: ┤ H ├┤3   ├\n",
       "     └───┘└────┘"
      ]
     },
     "execution_count": 4,
     "metadata": {},
     "output_type": "execute_result"
    }
   ],
   "source": [
    "oracle = Diagonal([1] * 15 + [-1])\n",
    "print(oracle)\n",
    "qc = QuantumCircuit(4)\n",
    "qc.h([0, 1,2,3])\n",
    "qc = qc.compose(GroverOperator(oracle))\n",
    "\n",
    "qc.draw()"
   ]
  },
  {
   "cell_type": "code",
   "execution_count": null,
   "metadata": {
    "colab": {
     "base_uri": "https://localhost:8080/",
     "height": 454
    },
    "id": "yZRC8R0sLaPe",
    "outputId": "2ad1ea52-aabd-4d9d-c9da-88cb79b03381"
   },
   "outputs": [
    {
     "data": {
      "image/png": "[encoded data removed]",
      "text/plain": [
       "<Figure size 640x480 with 1 Axes>"
      ]
     },
     "execution_count": 5,
     "metadata": {},
     "output_type": "execute_result"
    }
   ],
   "source": [
    "ideal_distribution = Statevector.from_instruction(qc).probabilities_dict()\n",
    "\n",
    "plot_histogram(ideal_distribution)"
   ]
  },
  {
   "cell_type": "code",
   "execution_count": 6,
   "metadata": {
    "colab": {
     "base_uri": "https://localhost:8080/"
    },
    "id": "B3P2yH8lvXU9",
    "outputId": "994c6a36-a777-4701-dc68-2737f357e6bf"
   },
   "outputs": [
    {
     "name": "stdout",
     "output_type": "stream",
     "text": [
      "Requirement already satisfied: qiskit in /usr/local/lib/python3.10/dist-packages (1.3.1)\n",
      "Requirement already satisfied: rustworkx>=0.15.0 in /usr/local/lib/python3.10/dist-packages (from qiskit) (0.15.1)\n",
      "Requirement already satisfied: numpy<3,>=1.17 in /usr/local/lib/python3.10/dist-packages (from qiskit) (1.26.4)\n",
      "Requirement already satisfied: scipy>=1.5 in /usr/local/lib/python3.10/dist-packages (from qiskit) (1.13.1)\n",
      "Requirement already satisfied: sympy>=1.3 in /usr/local/lib/python3.10/dist-packages (from qiskit) (1.13.1)\n",
      "Requirement already satisfied: dill>=0.3 in /usr/local/lib/python3.10/dist-packages (from qiskit) (0.3.9)\n",
      "Requirement already satisfied: python-dateutil>=2.8.0 in /usr/local/lib/python3.10/dist-packages (from qiskit) (2.8.2)\n",
      "Requirement already satisfied: stevedore>=3.0.0 in /usr/local/lib/python3.10/dist-packages (from qiskit) (5.4.0)\n",
      "Requirement already satisfied: typing-extensions in /usr/local/lib/python3.10/dist-packages (from qiskit) (4.12.2)\n",
      "Requirement already satisfied: symengine<0.14,>=0.11 in /usr/local/lib/python3.10/dist-packages (from qiskit) (0.13.0)\n",
      "Requirement already satisfied: six>=1.5 in /usr/local/lib/python3.10/dist-packages (from python-dateutil>=2.8.0->qiskit) (1.17.0)\n",
      "Requirement already satisfied: pbr>=2.0.0 in /usr/local/lib/python3.10/dist-packages (from stevedore>=3.0.0->qiskit) (6.1.0)\n",
      "Requirement already satisfied: mpmath<1.4,>=1.1.0 in /usr/local/lib/python3.10/dist-packages (from sympy>=1.3->qiskit) (1.3.0)\n"
     ]
    }
   ],
   "source": [
    "!pip install qiskit"
   ]
  },
  {
   "cell_type": "code",
   "execution_count": 7,
   "metadata": {
    "colab": {
     "base_uri": "https://localhost:8080/"
    },
    "id": "mFqlRqRSvnL3",
    "outputId": "bb8242ac-6894-4d5f-e8a9-6543c3bd4330"
   },
   "outputs": [
    {
     "name": "stdout",
     "output_type": "stream",
     "text": [
      "Collecting qiskit_algorithms\n",
      "  Downloading qiskit_algorithms-0.3.1-py3-none-any.whl.metadata (4.2 kB)\n",
      "Requirement already satisfied: qiskit>=0.44 in /usr/local/lib/python3.10/dist-packages (from qiskit_algorithms) (1.3.1)\n",
      "Requirement already satisfied: scipy>=1.4 in /usr/local/lib/python3.10/dist-packages (from qiskit_algorithms) (1.13.1)\n",
      "Requirement already satisfied: numpy>=1.17 in /usr/local/lib/python3.10/dist-packages (from qiskit_algorithms) (1.26.4)\n",
      "Requirement already satisfied: rustworkx>=0.15.0 in /usr/local/lib/python3.10/dist-packages (from qiskit>=0.44->qiskit_algorithms) (0.15.1)\n",
      "Requirement already satisfied: sympy>=1.3 in /usr/local/lib/python3.10/dist-packages (from qiskit>=0.44->qiskit_algorithms) (1.13.1)\n",
      "Requirement already satisfied: dill>=0.3 in /usr/local/lib/python3.10/dist-packages (from qiskit>=0.44->qiskit_algorithms) (0.3.9)\n",
      "Requirement already satisfied: python-dateutil>=2.8.0 in /usr/local/lib/python3.10/dist-packages (from qiskit>=0.44->qiskit_algorithms) (2.8.2)\n",
      "Requirement already satisfied: stevedore>=3.0.0 in /usr/local/lib/python3.10/dist-packages (from qiskit>=0.44->qiskit_algorithms) (5.4.0)\n",
      "Requirement already satisfied: typing-extensions in /usr/local/lib/python3.10/dist-packages (from qiskit>=0.44->qiskit_algorithms) (4.12.2)\n",
      "Requirement already satisfied: symengine<0.14,>=0.11 in /usr/local/lib/python3.10/dist-packages (from qiskit>=0.44->qiskit_algorithms) (0.13.0)\n",
      "Requirement already satisfied: six>=1.5 in /usr/local/lib/python3.10/dist-packages (from python-dateutil>=2.8.0->qiskit>=0.44->qiskit_algorithms) (1.17.0)\n",
      "Requirement already satisfied: pbr>=2.0.0 in /usr/local/lib/python3.10/dist-packages (from stevedore>=3.0.0->qiskit>=0.44->qiskit_algorithms) (6.1.0)\n",
      "Requirement already satisfied: mpmath<1.4,>=1.1.0 in /usr/local/lib/python3.10/dist-packages (from sympy>=1.3->qiskit>=0.44->qiskit_algorithms) (1.3.0)\n",
      "Downloading qiskit_algorithms-0.3.1-py3-none-any.whl (310 kB)\n",
      "\u001b[2K   \u001b[90m━━━━━━━━━━━━━━━━━━━━━━━━━━━━━━━━━━━━━━━━\u001b[0m \u001b[32m310.5/310.5 kB\u001b[0m \u001b[31m5.7 MB/s\u001b[0m eta \u001b[36m0:00:00\u001b[0m\n",
      "\u001b[?25hInstalling collected packages: qiskit_algorithms\n",
      "Successfully installed qiskit_algorithms-0.3.1\n"
     ]
    }
   ],
   "source": [
    "!pip install qiskit_algorithms"
   ]
  },
  {
   "cell_type": "code",
   "execution_count": 8,
   "metadata": {
    "colab": {
     "base_uri": "https://localhost:8080/"
    },
    "id": "05Bw6uitvvlb",
    "outputId": "3359128e-c8c7-4a47-d4e4-4f82d8be7361"
   },
   "outputs": [
    {
     "name": "stdout",
     "output_type": "stream",
     "text": [
      "Collecting qiskit-ibm-runtime\n",
      "  Downloading qiskit_ibm_runtime-0.34.0-py3-none-any.whl.metadata (3.0 kB)\n",
      "Requirement already satisfied: requests>=2.19 in /usr/local/lib/python3.10/dist-packages (from qiskit-ibm-runtime) (2.32.3)\n",
      "Requirement already satisfied: requests-ntlm>=1.1.0 in /usr/local/lib/python3.10/dist-packages (from qiskit-ibm-runtime) (1.3.0)\n",
      "Requirement already satisfied: numpy>=1.13 in /usr/local/lib/python3.10/dist-packages (from qiskit-ibm-runtime) (1.26.4)\n",
      "Requirement already satisfied: urllib3>=1.21.1 in /usr/local/lib/python3.10/dist-packages (from qiskit-ibm-runtime) (2.2.3)\n",
      "Requirement already satisfied: python-dateutil>=2.8.0 in /usr/local/lib/python3.10/dist-packages (from qiskit-ibm-runtime) (2.8.2)\n",
      "Requirement already satisfied: websocket-client>=1.5.1 in /usr/local/lib/python3.10/dist-packages (from qiskit-ibm-runtime) (1.8.0)\n",
      "Collecting ibm-platform-services>=0.22.6 (from qiskit-ibm-runtime)\n",
      "  Downloading ibm_platform_services-0.59.0-py3-none-any.whl.metadata (9.0 kB)\n",
      "Collecting pydantic<2.10,>=2.5.0 (from qiskit-ibm-runtime)\n",
      "  Downloading pydantic-2.9.2-py3-none-any.whl.metadata (149 kB)\n",
      "\u001b[2K     \u001b[90m━━━━━━━━━━━━━━━━━━━━━━━━━━━━━━━━━━━━━━━━\u001b[0m \u001b[32m149.4/149.4 kB\u001b[0m \u001b[31m3.7 MB/s\u001b[0m eta \u001b[36m0:00:00\u001b[0m\n",
      "\u001b[?25hRequirement already satisfied: qiskit>=1.1.0 in /usr/local/lib/python3.10/dist-packages (from qiskit-ibm-runtime) (1.3.1)\n",
      "Collecting ibm-cloud-sdk-core<4.0.0,>=3.22.0 (from ibm-platform-services>=0.22.6->qiskit-ibm-runtime)\n",
      "  Downloading ibm_cloud_sdk_core-3.22.0-py3-none-any.whl.metadata (8.6 kB)\n",
      "Requirement already satisfied: annotated-types>=0.6.0 in /usr/local/lib/python3.10/dist-packages (from pydantic<2.10,>=2.5.0->qiskit-ibm-runtime) (0.7.0)\n",
      "Collecting pydantic-core==2.23.4 (from pydantic<2.10,>=2.5.0->qiskit-ibm-runtime)\n",
      "  Downloading pydantic_core-2.23.4-cp310-cp310-manylinux_2_17_x86_64.manylinux2014_x86_64.whl.metadata (6.6 kB)\n",
      "Requirement already satisfied: typing-extensions>=4.6.1 in /usr/local/lib/python3.10/dist-packages (from pydantic<2.10,>=2.5.0->qiskit-ibm-runtime) (4.12.2)\n",
      "Requirement already satisfied: six>=1.5 in /usr/local/lib/python3.10/dist-packages (from python-dateutil>=2.8.0->qiskit-ibm-runtime) (1.17.0)\n",
      "Requirement already satisfied: rustworkx>=0.15.0 in /usr/local/lib/python3.10/dist-packages (from qiskit>=1.1.0->qiskit-ibm-runtime) (0.15.1)\n",
      "Requirement already satisfied: scipy>=1.5 in /usr/local/lib/python3.10/dist-packages (from qiskit>=1.1.0->qiskit-ibm-runtime) (1.13.1)\n",
      "Requirement already satisfied: sympy>=1.3 in /usr/local/lib/python3.10/dist-packages (from qiskit>=1.1.0->qiskit-ibm-runtime) (1.13.1)\n",
      "Requirement already satisfied: dill>=0.3 in /usr/local/lib/python3.10/dist-packages (from qiskit>=1.1.0->qiskit-ibm-runtime) (0.3.9)\n",
      "Requirement already satisfied: stevedore>=3.0.0 in /usr/local/lib/python3.10/dist-packages (from qiskit>=1.1.0->qiskit-ibm-runtime) (5.4.0)\n",
      "Requirement already satisfied: symengine<0.14,>=0.11 in /usr/local/lib/python3.10/dist-packages (from qiskit>=1.1.0->qiskit-ibm-runtime) (0.13.0)\n",
      "Requirement already satisfied: charset-normalizer<4,>=2 in /usr/local/lib/python3.10/dist-packages (from requests>=2.19->qiskit-ibm-runtime) (3.4.0)\n",
      "Requirement already satisfied: idna<4,>=2.5 in /usr/local/lib/python3.10/dist-packages (from requests>=2.19->qiskit-ibm-runtime) (3.10)\n",
      "Requirement already satisfied: certifi>=2017.4.17 in /usr/local/lib/python3.10/dist-packages (from requests>=2.19->qiskit-ibm-runtime) (2024.12.14)\n",
      "Requirement already satisfied: cryptography>=1.3 in /usr/local/lib/python3.10/dist-packages (from requests-ntlm>=1.1.0->qiskit-ibm-runtime) (43.0.3)\n",
      "Requirement already satisfied: pyspnego>=0.4.0 in /usr/local/lib/python3.10/dist-packages (from requests-ntlm>=1.1.0->qiskit-ibm-runtime) (0.11.2)\n",
      "Requirement already satisfied: cffi>=1.12 in /usr/local/lib/python3.10/dist-packages (from cryptography>=1.3->requests-ntlm>=1.1.0->qiskit-ibm-runtime) (1.17.1)\n",
      "Requirement already satisfied: PyJWT<3.0.0,>=2.8.0 in /usr/local/lib/python3.10/dist-packages (from ibm-cloud-sdk-core<4.0.0,>=3.22.0->ibm-platform-services>=0.22.6->qiskit-ibm-runtime) (2.10.1)\n",
      "Requirement already satisfied: pbr>=2.0.0 in /usr/local/lib/python3.10/dist-packages (from stevedore>=3.0.0->qiskit>=1.1.0->qiskit-ibm-runtime) (6.1.0)\n",
      "Requirement already satisfied: mpmath<1.4,>=1.1.0 in /usr/local/lib/python3.10/dist-packages (from sympy>=1.3->qiskit>=1.1.0->qiskit-ibm-runtime) (1.3.0)\n",
      "Requirement already satisfied: pycparser in /usr/local/lib/python3.10/dist-packages (from cffi>=1.12->cryptography>=1.3->requests-ntlm>=1.1.0->qiskit-ibm-runtime) (2.22)\n",
      "Downloading qiskit_ibm_runtime-0.34.0-py3-none-any.whl (3.0 MB)\n",
      "\u001b[2K   \u001b[90m━━━━━━━━━━━━━━━━━━━━━━━━━━━━━━━━━━━━━━━━\u001b[0m \u001b[32m3.0/3.0 MB\u001b[0m \u001b[31m29.1 MB/s\u001b[0m eta \u001b[36m0:00:00\u001b[0m\n",
      "\u001b[?25hDownloading ibm_platform_services-0.59.0-py3-none-any.whl (340 kB)\n",
      "\u001b[2K   \u001b[90m━━━━━━━━━━━━━━━━━━━━━━━━━━━━━━━━━━━━━━━━\u001b[0m \u001b[32m340.8/340.8 kB\u001b[0m \u001b[31m18.8 MB/s\u001b[0m eta \u001b[36m0:00:00\u001b[0m\n",
      "\u001b[?25hDownloading pydantic-2.9.2-py3-none-any.whl (434 kB)\n",
      "\u001b[2K   \u001b[90m━━━━━━━━━━━━━━━━━━━━━━━━━━━━━━━━━━━━━━━━\u001b[0m \u001b[32m434.9/434.9 kB\u001b[0m \u001b[31m15.2 MB/s\u001b[0m eta \u001b[36m0:00:00\u001b[0m\n",
      "\u001b[?25hDownloading pydantic_core-2.23.4-cp310-cp310-manylinux_2_17_x86_64.manylinux2014_x86_64.whl (2.1 MB)\n",
      "\u001b[2K   \u001b[90m━━━━━━━━━━━━━━━━━━━━━━━━━━━━━━━━━━━━━━━━\u001b[0m \u001b[32m2.1/2.1 MB\u001b[0m \u001b[31m42.9 MB/s\u001b[0m eta \u001b[36m0:00:00\u001b[0m\n",
      "\u001b[?25hDownloading ibm_cloud_sdk_core-3.22.0-py3-none-any.whl (69 kB)\n",
      "\u001b[2K   \u001b[90m━━━━━━━━━━━━━━━━━━━━━━━━━━━━━━━━━━━━━━━━\u001b[0m \u001b[32m69.4/69.4 kB\u001b[0m \u001b[31m5.7 MB/s\u001b[0m eta \u001b[36m0:00:00\u001b[0m\n",
      "\u001b[?25hInstalling collected packages: pydantic-core, pydantic, ibm-cloud-sdk-core, ibm-platform-services, qiskit-ibm-runtime\n",
      "  Attempting uninstall: pydantic-core\n",
      "    Found existing installation: pydantic_core 2.27.1\n",
      "    Uninstalling pydantic_core-2.27.1:\n",
      "      Successfully uninstalled pydantic_core-2.27.1\n",
      "  Attempting uninstall: pydantic\n",
      "    Found existing installation: pydantic 2.10.3\n",
      "    Uninstalling pydantic-2.10.3:\n",
      "      Successfully uninstalled pydantic-2.10.3\n",
      "Successfully installed ibm-cloud-sdk-core-3.22.0 ibm-platform-services-0.59.0 pydantic-2.9.2 pydantic-core-2.23.4 qiskit-ibm-runtime-0.34.0\n"
     ]
    }
   ],
   "source": [
    "!pip install qiskit-ibm-runtime"
   ]
  },
  {
   "cell_type": "code",
   "execution_count": null,
   "metadata": {
    "colab": {
     "base_uri": "https://localhost:8080/"
    },
    "id": "Nh2zkSrMwBcq",
    "outputId": "248bcb83-92ef-4890-de06-006e202967e2"
   },
   "outputs": [
    {
     "name": "stdout",
     "output_type": "stream",
     "text": [
      "Collecting pylatexenc\n",
      "  Downloading pylatexenc-2.10.tar.gz (162 kB)\n",
      "\u001b[?25l     \u001b[90m━━━━━━━━━━━━━━━━━━━━━━━━━━━━━━━━━━━━━━━━\u001b[0m \u001b[32m0.0/162.6 kB\u001b[0m \u001b[31m?\u001b[0m eta \u001b[36m-:--:--\u001b[0m\r",
      "\u001b[2K     \u001b[91m━━━━━━━━━━━━━━━━━━━━━━━━━━━━━━━━━━━━━\u001b[0m\u001b[91m╸\u001b[0m\u001b[90m━━\u001b[0m \u001b[32m153.6/162.6 kB\u001b[0m \u001b[31m5.7 MB/s\u001b[0m eta \u001b[36m0:00:01\u001b[0m\r",
      "\u001b[2K     \u001b[90m━━━━━━━━━━━━━━━━━━━━━━━━━━━━━━━━━━━━━━━━\u001b[0m \u001b[32m162.6/162.6 kB\u001b[0m \u001b[31m4.0 MB/s\u001b[0m eta \u001b[36m0:00:00\u001b[0m\n",
      "\u001b[?25h  Preparing metadata (setup.py) ... \u001b[?25l\u001b[?25hdone\n",
      "Building wheels for collected packages: pylatexenc\n",
      "  Building wheel for pylatexenc (setup.py) ... \u001b[?25l\u001b[?25hdone\n",
      "  Created wheel for pylatexenc: filename=pylatexenc-2.10-py3-none-any.whl size=136816 sha256=b07b6159efedeb81ec72a943bb9dc9e398ffae690902c3df752229bb333d1a72\n",
      "  Stored in directory: /root/.cache/pip/wheels/d3/31/8b/e09b0386afd80cfc556c00408c9aeea5c35c4d484a9c762fd5\n",
      "Successfully built pylatexenc\n",
      "Installing collected packages: pylatexenc\n",
      "Successfully installed pylatexenc-2.10\n"
     ]
    }
   ],
   "source": [
    "!pip install pylatexenc"
   ]
  },
  {
   "cell_type": "code",
   "execution_count": null,
   "metadata": {
    "colab": {
     "base_uri": "https://localhost:8080/"
    },
    "id": "EgC2qxpowN_R",
    "outputId": "7ac2c133-12a4-4b0f-cb14-0aa1c6d635c9"
   },
   "outputs": [
    {
     "name": "stdout",
     "output_type": "stream",
     "text": [
      "Collecting qiskit-machine-learning[sparse]\n",
      "  Downloading qiskit_machine_learning-0.8.2-py3-none-any.whl.metadata (13 kB)\n",
      "Requirement already satisfied: qiskit>=1.0 in /usr/local/lib/python3.10/dist-packages (from qiskit-machine-learning[sparse]) (1.3.1)\n",
      "Requirement already satisfied: scipy>=1.4 in /usr/local/lib/python3.10/dist-packages (from qiskit-machine-learning[sparse]) (1.13.1)\n",
      "Requirement already satisfied: numpy>=1.17 in /usr/local/lib/python3.10/dist-packages (from qiskit-machine-learning[sparse]) (1.26.4)\n",
      "Requirement already satisfied: psutil>=5 in /usr/local/lib/python3.10/dist-packages (from qiskit-machine-learning[sparse]) (5.9.5)\n",
      "Requirement already satisfied: scikit-learn>=1.2 in /usr/local/lib/python3.10/dist-packages (from qiskit-machine-learning[sparse]) (1.6.0)\n",
      "Requirement already satisfied: setuptools>=40.1 in /usr/local/lib/python3.10/dist-packages (from qiskit-machine-learning[sparse]) (75.1.0)\n",
      "Requirement already satisfied: dill>=0.3.4 in /usr/local/lib/python3.10/dist-packages (from qiskit-machine-learning[sparse]) (0.3.9)\n",
      "Collecting sparse (from qiskit-machine-learning[sparse])\n",
      "  Downloading sparse-0.15.4-py2.py3-none-any.whl.metadata (4.5 kB)\n",
      "Requirement already satisfied: rustworkx>=0.15.0 in /usr/local/lib/python3.10/dist-packages (from qiskit>=1.0->qiskit-machine-learning[sparse]) (0.15.1)\n",
      "Requirement already satisfied: sympy>=1.3 in /usr/local/lib/python3.10/dist-packages (from qiskit>=1.0->qiskit-machine-learning[sparse]) (1.13.1)\n",
      "Requirement already satisfied: python-dateutil>=2.8.0 in /usr/local/lib/python3.10/dist-packages (from qiskit>=1.0->qiskit-machine-learning[sparse]) (2.8.2)\n",
      "Requirement already satisfied: stevedore>=3.0.0 in /usr/local/lib/python3.10/dist-packages (from qiskit>=1.0->qiskit-machine-learning[sparse]) (5.4.0)\n",
      "Requirement already satisfied: typing-extensions in /usr/local/lib/python3.10/dist-packages (from qiskit>=1.0->qiskit-machine-learning[sparse]) (4.12.2)\n",
      "Requirement already satisfied: symengine<0.14,>=0.11 in /usr/local/lib/python3.10/dist-packages (from qiskit>=1.0->qiskit-machine-learning[sparse]) (0.13.0)\n",
      "Requirement already satisfied: joblib>=1.2.0 in /usr/local/lib/python3.10/dist-packages (from scikit-learn>=1.2->qiskit-machine-learning[sparse]) (1.4.2)\n",
      "Requirement already satisfied: threadpoolctl>=3.1.0 in /usr/local/lib/python3.10/dist-packages (from scikit-learn>=1.2->qiskit-machine-learning[sparse]) (3.5.0)\n",
      "Requirement already satisfied: numba>=0.49 in /usr/local/lib/python3.10/dist-packages (from sparse->qiskit-machine-learning[sparse]) (0.60.0)\n",
      "Requirement already satisfied: llvmlite<0.44,>=0.43.0dev0 in /usr/local/lib/python3.10/dist-packages (from numba>=0.49->sparse->qiskit-machine-learning[sparse]) (0.43.0)\n",
      "Requirement already satisfied: six>=1.5 in /usr/local/lib/python3.10/dist-packages (from python-dateutil>=2.8.0->qiskit>=1.0->qiskit-machine-learning[sparse]) (1.17.0)\n",
      "Requirement already satisfied: pbr>=2.0.0 in /usr/local/lib/python3.10/dist-packages (from stevedore>=3.0.0->qiskit>=1.0->qiskit-machine-learning[sparse]) (6.1.0)\n",
      "Requirement already satisfied: mpmath<1.4,>=1.1.0 in /usr/local/lib/python3.10/dist-packages (from sympy>=1.3->qiskit>=1.0->qiskit-machine-learning[sparse]) (1.3.0)\n",
      "Downloading qiskit_machine_learning-0.8.2-py3-none-any.whl (231 kB)\n",
      "\u001b[2K   \u001b[90m━━━━━━━━━━━━━━━━━━━━━━━━━━━━━━━━━━━━━━━━\u001b[0m \u001b[32m231.6/231.6 kB\u001b[0m \u001b[31m6.1 MB/s\u001b[0m eta \u001b[36m0:00:00\u001b[0m\n",
      "\u001b[?25hDownloading sparse-0.15.4-py2.py3-none-any.whl (237 kB)\n",
      "\u001b[2K   \u001b[90m━━━━━━━━━━━━━━━━━━━━━━━━━━━━━━━━━━━━━━━━\u001b[0m \u001b[32m237.3/237.3 kB\u001b[0m \u001b[31m17.6 MB/s\u001b[0m eta \u001b[36m0:00:00\u001b[0m\n",
      "\u001b[?25hInstalling collected packages: sparse, qiskit-machine-learning\n",
      "Successfully installed qiskit-machine-learning-0.8.2 sparse-0.15.4\n"
     ]
    }
   ],
   "source": [
    "!pip install 'qiskit-machine-learning[sparse]'"
   ]
  },
  {
   "cell_type": "code",
   "execution_count": null,
   "metadata": {
    "colab": {
     "base_uri": "https://localhost:8080/"
    },
    "id": "1VneFoNgwb4G",
    "outputId": "da8d4b02-fa0f-48b7-cb2a-7f9ec48599cc"
   },
   "outputs": [
    {
     "name": "stdout",
     "output_type": "stream",
     "text": [
      "Collecting qiskit-aer\n",
      "  Downloading qiskit_aer-0.15.1-cp310-cp310-manylinux_2_17_x86_64.manylinux2014_x86_64.whl.metadata (8.0 kB)\n",
      "Requirement already satisfied: qiskit>=1.1.0 in /usr/local/lib/python3.10/dist-packages (from qiskit-aer) (1.3.1)\n",
      "Requirement already satisfied: numpy>=1.16.3 in /usr/local/lib/python3.10/dist-packages (from qiskit-aer) (1.26.4)\n",
      "Requirement already satisfied: scipy>=1.0 in /usr/local/lib/python3.10/dist-packages (from qiskit-aer) (1.13.1)\n",
      "Requirement already satisfied: psutil>=5 in /usr/local/lib/python3.10/dist-packages (from qiskit-aer) (5.9.5)\n",
      "Requirement already satisfied: rustworkx>=0.15.0 in /usr/local/lib/python3.10/dist-packages (from qiskit>=1.1.0->qiskit-aer) (0.15.1)\n",
      "Requirement already satisfied: sympy>=1.3 in /usr/local/lib/python3.10/dist-packages (from qiskit>=1.1.0->qiskit-aer) (1.13.1)\n",
      "Requirement already satisfied: dill>=0.3 in /usr/local/lib/python3.10/dist-packages (from qiskit>=1.1.0->qiskit-aer) (0.3.9)\n",
      "Requirement already satisfied: python-dateutil>=2.8.0 in /usr/local/lib/python3.10/dist-packages (from qiskit>=1.1.0->qiskit-aer) (2.8.2)\n",
      "Requirement already satisfied: stevedore>=3.0.0 in /usr/local/lib/python3.10/dist-packages (from qiskit>=1.1.0->qiskit-aer) (5.4.0)\n",
      "Requirement already satisfied: typing-extensions in /usr/local/lib/python3.10/dist-packages (from qiskit>=1.1.0->qiskit-aer) (4.12.2)\n",
      "Requirement already satisfied: symengine<0.14,>=0.11 in /usr/local/lib/python3.10/dist-packages (from qiskit>=1.1.0->qiskit-aer) (0.13.0)\n",
      "Requirement already satisfied: six>=1.5 in /usr/local/lib/python3.10/dist-packages (from python-dateutil>=2.8.0->qiskit>=1.1.0->qiskit-aer) (1.17.0)\n",
      "Requirement already satisfied: pbr>=2.0.0 in /usr/local/lib/python3.10/dist-packages (from stevedore>=3.0.0->qiskit>=1.1.0->qiskit-aer) (6.1.0)\n",
      "Requirement already satisfied: mpmath<1.4,>=1.1.0 in /usr/local/lib/python3.10/dist-packages (from sympy>=1.3->qiskit>=1.1.0->qiskit-aer) (1.3.0)\n",
      "Downloading qiskit_aer-0.15.1-cp310-cp310-manylinux_2_17_x86_64.manylinux2014_x86_64.whl (12.3 MB)\n",
      "\u001b[2K   \u001b[90m━━━━━━━━━━━━━━━━━━━━━━━━━━━━━━━━━━━━━━━━\u001b[0m \u001b[32m12.3/12.3 MB\u001b[0m \u001b[31m77.9 MB/s\u001b[0m eta \u001b[36m0:00:00\u001b[0m\n",
      "\u001b[?25hInstalling collected packages: qiskit-aer\n",
      "Successfully installed qiskit-aer-0.15.1\n"
     ]
    }
   ],
   "source": [
    "!pip install qiskit-aer"
   ]
  },
  {
   "cell_type": "code",
   "execution_count": null,
   "metadata": {
    "colab": {
     "base_uri": "https://localhost:8080/",
     "height": 423
    },
    "id": "6kfrMb1yj6gY",
    "outputId": "4ecf0cf4-41fb-4619-c7b3-89b8ff32e828"
   },
   "outputs": [
    {
     "data": {
      "image/png": "[encoded data removed]",
      "text/plain": [
       "<Figure size 2252.61x618.722 with 1 Axes>"
      ]
     },
     "execution_count": 22,
     "metadata": {},
     "output_type": "execute_result"
    }
   ],
   "source": [
    "import numpy as np\n",
    "from qiskit.circuit import ParameterVector\n",
    "from qiskit import QuantumCircuit\n",
    "import numpy as np\n",
    "\n",
    "from qiskit import QuantumCircuit\n",
    "\n",
    "# 10-parameter variational quantum model\n",
    "# define your parameters\n",
    "x = ParameterVector('x', 2)\n",
    "teta=ParameterVector('teta',10)\n",
    "# define your parameters\n",
    "def ZZFeatureMap_10_parametros(feature_dimension=2, reps=1, theta_param=np.pi/2, x=x, teta=teta):\n",
    "    circuit = QuantumCircuit(feature_dimension)\n",
    "#1.06324998,  0.49609634\n",
    "    for i in range(reps):\n",
    "        if i == 0:\n",
    "            circuit.h(range(feature_dimension))\n",
    "\n",
    "        for j in range(feature_dimension):\n",
    "            circuit.p(theta_param * x[j] * 1, j)\n",
    "\n",
    "        circuit.cx(0, 1)\n",
    "\n",
    "        circuit.p(theta_param * (np.pi - x[0] *0.49609634) * (np.pi - x[1] *1.06324998), 1)\n",
    "\n",
    "        circuit.cx(0, 1)\n",
    "\n",
    "        # Ensure that the indices are within the range of feature_dimension\n",
    "        if feature_dimension > 1:\n",
    "            circuit.ry(teta[0], 0)\n",
    "            circuit.ry(teta[1], 1)\n",
    "\n",
    "        if feature_dimension > 1:\n",
    "            circuit.cx(0, 1)\n",
    "            circuit.ry(teta[2], 0)\n",
    "            circuit.ry(teta[3], 1)\n",
    "        if feature_dimension > 1:\n",
    "            circuit.cx(0, 1)\n",
    "            circuit.ry(teta[4], 0)\n",
    "            circuit.ry(teta[5], 1)\n",
    "            circuit.cx(0, 1)\n",
    "        if feature_dimension > 1:\n",
    "            circuit.cx(0, 1)\n",
    "            circuit.ry(teta[6], 0)\n",
    "            circuit.ry(teta[7], 1)\n",
    "            circuit.cx(0, 1)\n",
    "            circuit.ry(teta[8], 0)\n",
    "            circuit.ry(teta[9], 1)\n",
    "            circuit.cx(0, 1)\n",
    "            circuit.measure_all()\n",
    "\n",
    "    return circuit\n",
    "\n",
    "feature_map = ZZFeatureMap_10_parametros(feature_dimension=2, reps=1, theta_param=2, x=x,teta=teta)\n",
    "#print(feature_map)\n",
    "\n",
    "\n",
    "feature_map.decompose().draw(\"mpl\")"
   ]
  },
  {
   "cell_type": "code",
   "execution_count": null,
   "metadata": {
    "colab": {
     "base_uri": "https://localhost:8080/",
     "height": 212
    },
    "id": "z1ae7aCSxTR7",
    "outputId": "9ba9b078-f17c-4e40-9202-e9df8e81257b"
   },
   "outputs": [
    {
     "data": {
      "image/png": "[encoded data removed]",
      "text/plain": [
       "<Figure size 2252.61x284.278 with 1 Axes>"
      ]
     },
     "execution_count": 13,
     "metadata": {},
     "output_type": "execute_result"
    }
   ],
   "source": [
    "\n",
    "#FakeProviderForBackendV2()\tFake provider containing fake V2 backends.\n",
    "#FakeProvider()\tFake provider containing fake V1 backends.\n",
    "# https://docs.quantum.ibm.com/api/qiskit-ibm-runtime/fake_provider\n",
    "\n",
    "from qiskit import QuantumCircuit\n",
    "from qiskit import transpile\n",
    "from qiskit.visualization import plot_histogram\n",
    "from qiskit_ibm_runtime.fake_provider import FakeManilaV2,FakeBrisbane,FakeKyoto,FakeOsaka\n",
    "\n",
    "#FakeKyoto()\tA fake 127 qubit backend.\n",
    "  #FakeMontrealV2()\tA fake 27 qubit backend.\n",
    "# FakeMumbaiV2()\tA fake 27 qubit backend.\n",
    "#FakeNairobiV2()\tA fake 7 qubit backend.\n",
    "#FakeOsaka()\tA fake 127 qubit backend.\n",
    "# FakeOslo()\tA fake 7 qubit backend.\n",
    "import numpy as np\n",
    "from qiskit.circuit import ParameterVector\n",
    "\n",
    "import numpy as np\n",
    "# 11-parameter variational quantum model\n",
    "# define your parameters\n",
    "x = ParameterVector('x', 2)\n",
    "teta=ParameterVector('teta',11)\n",
    "# define your parameters\n",
    "def ZZFeatureMap_11_parametros_MODI(feature_dimension=2, reps=1, x=x, teta=teta):\n",
    "    circuit = QuantumCircuit(feature_dimension)\n",
    "#1.06324998,  0.49609634\n",
    "#0.6810406 ,  0.93371965\n",
    "#opt_var7=np.array([0.68958857, 0.93659037])#0.765\n",
    "    for i in range(reps):\n",
    "        if i == 0:\n",
    "            circuit.h(range(feature_dimension))\n",
    "\n",
    "        for j in range(feature_dimension):\n",
    "            circuit.p( x[j] * 1, j)\n",
    "\n",
    "        circuit.cx(0, 1)\n",
    "\n",
    "        circuit.p( (x[0]*teta[10]) * (x[1]), 1)\n",
    "\n",
    "        circuit.cx(0, 1)\n",
    "\n",
    "        # Ensure that the indices are within the range of feature_dimension\n",
    "        if feature_dimension > 1:\n",
    "            circuit.ry(teta[0], 0)\n",
    "            circuit.ry(teta[1], 1)\n",
    "\n",
    "        if feature_dimension > 1:\n",
    "            circuit.cx(0, 1)\n",
    "            circuit.ry(teta[2], 0)\n",
    "            circuit.ry(teta[3], 1)\n",
    "        if feature_dimension > 1:\n",
    "            circuit.cx(0, 1)\n",
    "            circuit.ry(teta[4], 0)\n",
    "            circuit.ry(teta[5], 1)\n",
    "            circuit.cx(0, 1)\n",
    "        if feature_dimension > 1:\n",
    "\n",
    "            circuit.ry(teta[6], 0)\n",
    "            circuit.ry(teta[7], 1)\n",
    "            circuit.cx(0, 1)\n",
    "            circuit.ry(teta[8], 0)\n",
    "            circuit.ry(teta[9], 1)\n",
    "            circuit.cx(0, 1)\n",
    "            circuit.measure_all()\n",
    "\n",
    "    return circuit\n",
    "\n",
    "feature_map = ZZFeatureMap_11_parametros_MODI(feature_dimension=2, reps=1, x=x,teta=teta)\n",
    "#print(feature_map)\n",
    "feature_map.decompose().draw(\"mpl\")\n"
   ]
  },
  {
   "cell_type": "code",
   "execution_count": 10,
   "metadata": {
    "colab": {
     "base_uri": "https://localhost:8080/"
    },
    "id": "U1NI-K_vxYjQ",
    "outputId": "a4a1145c-27fc-4b26-df4b-14570f10bed0"
   },
   "outputs": [
    {
     "name": "stdout",
     "output_type": "stream",
     "text": [
      "[1 0 1 1 1 0 0 1 1 0 0 1 1 0 0 0 0 0 0 0 0 0 0 1 1 1 0 0 0 0 0 0 0 1 1 0 0\n",
      " 1 0 1 1 1 1 0 1 0 0 1 0 0 1 1 1 1 1 1 0 1 0 1 1 0 0 1 0 0 1 1 0 1 0 1 1 0\n",
      " 1 0 0 0 0 1 0 0 0 0 0 1 0 0 1 0 0 0 1 0 0 0 0 1 0 1 1 1 0 0 1 0 1 1 0 1 0\n",
      " 0 1 0 0 1 0 1 1 0 0 0 1 0 0 0 0 0 0 0 1 0 0 1 1 1 0 1 1 1 0 0 0 1 0 1 0 1\n",
      " 1 0 1 0 1 1 1 1 1 0 0 0 1 1 0 1 0 0 0 1 0 0 0 1 1 1 1 0 0 1 0 1 0 0 1 1 1\n",
      " 0 0 1 0 1 1 1 1 0 1 1 1 0 1 1 1 0 1 0 1 1 1 0 1 1 0 0 0 0 1 1 1 0 1 1 0 0\n",
      " 0 1 0 1 0 0 0 0 1 1 1 1 1 0 0 1 1 1 1 1 0 0 1 1 1 1 0 0 1 0 0 0 0 0 1 0 1\n",
      " 1 0 0 0 1 0 1 0 0 1 1 1 0 0 0 0 0 0 1 0 1 1 0 0 0 1 1 0 1 1 0 0 1 1 1 1 1\n",
      " 0 0 0 1 0 1 0 1 0 0 0 1 1 1 0 1 0 1 0 0 0 0 0 0 0 0 0 1 1 0 0 0 0 0 0 1 0\n",
      " 0 0 1 0 0 1 1 0 1 0 0 1 1 0 1 0 0 0 0 1 0 1 0 0 0 1 0 0 0 0 1 1 1 1 0 0 0\n",
      " 0 1 0 0 0 0 0 1 0 0 1 0 1 0 1 0 0 0 1 1 0 1 1 0 0 0 1 0 1 0 0 0 0 0 1 0 1\n",
      " 1 1 1 1 0 1 0 1 0 1 0 0 1 1 1 0 0 0 1 0 0 1 1 1 1 1 0 1 0 0 1 0 0 1 0 1 0\n",
      " 1 1 0 0 0 1 0 0 0 0 0 1 0 0 1 0 0 0 0 0 0 0 1 0 0 0 1 1 1 1 1 1 0 1 0 0 1\n",
      " 1 0 0 1 0 1 0 0 1 0 0 1 0 1 0 0 1 0 0 0 0 1 1 0 0 0 0 1 0 1 1 0 0 0 0 0 1\n",
      " 1 0 1 1 1 1 0 0 1 1 0 0 0 1 1 1 0 0 0 1 0 0 1 1 0 1 0 0 0 0 1 0 0 0 1 1 0\n",
      " 1 1 1 1 1 0 0 0 0 0 0 1 0 1 0 0 0 1 1 0 0 1 1 0 0 1 1 0 1 0 1 1 0 0 0 1 0\n",
      " 1 0 0 0 0 0 1 1 0 1 1 0 0 1 0 0 0 1 0 0 0 1 1 0 0 0 0 0 1 0 0 1 0 0 0 1 0\n",
      " 1 1 1 0 1 0 0 0 1 0 0 0 1 1 0 0 0 0 0 0 0 1 0 0 0 1 0 1 0 1 0 0 0 0 0 0 0\n",
      " 0 0 0 1 0 1 1 0 1 0 0 0 0 0 0 0 0 0 1 0 0 0 0 0 1 0 0]\n",
      "Count the number of elements that are 0 : 403\n",
      " Count the number of elements that are 1: 290\n"
     ]
    }
   ],
   "source": [
    "import qiskit_algorithms\n",
    "from qiskit_algorithms.optimizers import SPSA,COBYLA\n",
    "\n",
    "from qiskit import QuantumCircuit\n",
    "\n",
    "from qiskit.circuit.library import ZZFeatureMap, RealAmplitudes\n",
    "from qiskit.quantum_info import Statevector\n",
    "\n",
    "import numpy as np\n",
    "import pandas as pd\n",
    "import matplotlib.pyplot as plt\n",
    "\n",
    "from sklearn.preprocessing import MinMaxScaler\n",
    "from sklearn.model_selection import train_test_split\n",
    "from sklearn.utils import shuffle\n",
    "\n",
    "import warnings\n",
    "warnings.filterwarnings(\"ignore\")\n",
    "\n",
    "\n",
    "\n",
    "\n",
    "import numpy as np\n",
    "import pandas as pd\n",
    "import matplotlib.pyplot as plt\n",
    "\n",
    "from sklearn.preprocessing import MinMaxScaler\n",
    "from sklearn.model_selection import train_test_split\n",
    "from sklearn.utils import shuffle\n",
    "\n",
    "import warnings\n",
    "warnings.filterwarnings(\"ignore\")\n",
    "# constants\n",
    "n = 2\n",
    "RANDOM_STATE = 42\n",
    "LR = 1e-3\n",
    "class_labels = ['0', '1']\n",
    "\n",
    "\n",
    "# Normalizing data from 0 to 2pi\n",
    "\n",
    "def normalizeData(DATA_PATH = \"./FEATURE_RESULTS/FEATURE_resultante_DP_NODP.csv\"):\n",
    "    \"\"\"\n",
    "    Normalizes the data\n",
    "    \"\"\"\n",
    "    # Reads the data mean_coords_x,  mean_coords_y  centroid_y_roi, mean_coords_x\n",
    "    data = pd.read_csv(DATA_PATH)\n",
    "    data = shuffle(data, random_state=RANDOM_STATE)\n",
    "    X, Y = data[['area_pixels', ' mean_coords_x']].values, data[' class'].values\n",
    "    #X, Y = data[[' mean_coords_x', ' centroid_y_roi']].values, data[' class'].values\n",
    "    #X, Y = data[[' mean_coords_x', ' mean_coords_y']].values, data[' class'].values\n",
    "    # normalize the data\n",
    "    scaler = MinMaxScaler(feature_range=(-0 * np.pi, 2 * np.pi))\n",
    "    X = scaler.fit_transform(X)\n",
    "    X_train, X_test, Y_train, Y_test = train_test_split(X, Y, test_size=0.2, random_state=RANDOM_STATE)\n",
    "    return X_train, X_test, Y_train, Y_test\n",
    "\n",
    "\n",
    "\n",
    "\n",
    "\n",
    "import qiskit_algorithms\n",
    "from qiskit_algorithms.optimizers import SPSA\n",
    "\n",
    "from qiskit import QuantumCircuit\n",
    "\n",
    "from qiskit.circuit.library import ZZFeatureMap, RealAmplitudes\n",
    "from qiskit.quantum_info import Statevector\n",
    "\n",
    "import numpy as np\n",
    "import pandas as pd\n",
    "import matplotlib.pyplot as plt\n",
    "\n",
    "from sklearn.preprocessing import MinMaxScaler\n",
    "from sklearn.model_selection import train_test_split\n",
    "\n",
    "from sklearn.utils import shuffle\n",
    "\n",
    "import warnings\n",
    "warnings.filterwarnings(\"ignore\")\n",
    "\n",
    "TRAIN_DATA, TEST_DATA, TRAIN_LABELS, TEST_LABELS = normalizeData()\n",
    "# Replace all occurrences of 2 with 1\n",
    "TRAIN_LABELS = np.where(TRAIN_LABELS == 2, 0, TRAIN_LABELS)\n",
    "TEST_LABELS = np.where(TEST_LABELS == 2, 0, TEST_LABELS)\n",
    "print(TRAIN_LABELS)\n",
    "# \n",
    "# Count the number of elements that are 0\n",
    "num_zeros = np.count_nonzero(TRAIN_LABELS == 0)\n",
    "\n",
    "# Count the number of elements that are  1\n",
    "num_unos = np.count_nonzero(TRAIN_LABELS == 1)\n",
    "\n",
    "\n",
    "\n",
    "print(\"Count the number of elements that are 0 :\", num_zeros)\n",
    "print(\" Count the number of elements that are 1:\", num_unos)\n"
   ]
  },
  {
   "cell_type": "code",
   "execution_count": null,
   "metadata": {
    "colab": {
     "base_uri": "https://localhost:8080/"
    },
    "id": "yXLMSrzkiZ7t",
    "outputId": "919bb024-c4b8-4434-9dfd-6e7ba026ad33"
   },
   "outputs": [
    {
     "data": {
      "text/plain": [
       "array([1, 1, 0, 0, 1, 1, 0, 1, 0, 0, 1, 1, 1, 1, 0, 0, 1, 0, 1, 0, 0, 1,\n",
       "       0, 1, 0, 1, 1, 0, 1, 0, 0, 1, 1, 1, 1, 1, 0, 0, 0, 0, 0, 1, 0, 1,\n",
       "       1, 0, 1, 0, 1, 0, 1, 1, 1, 0, 1, 0, 0, 0, 1, 0, 1, 0, 1, 1, 1, 1,\n",
       "       0, 0, 0, 0, 0, 1, 1, 1, 1, 0, 0, 1, 0, 1, 1, 0, 1, 0, 0, 1, 0, 1,\n",
       "       0, 0, 1, 0, 1, 0, 1, 1, 1, 0, 0, 0, 1, 0, 1, 0, 0, 0, 0, 0, 0, 0,\n",
       "       0, 1, 0, 0, 0, 1, 0, 0, 0, 0, 1, 1, 0, 0, 1, 1, 0, 0, 0, 0, 1, 1,\n",
       "       1, 0, 1, 0, 1, 0, 1, 0, 0, 1, 1, 1, 1, 1, 0, 0, 0, 0, 1, 0, 0, 0,\n",
       "       1, 1, 0, 1, 1, 0, 0, 1, 0, 0, 1, 0, 0, 1, 0, 1, 0, 0, 0, 1])"
      ]
     },
     "execution_count": 27,
     "metadata": {},
     "output_type": "execute_result"
    }
   ],
   "source": [
    "TEST_LABELS"
   ]
  },
  {
   "cell_type": "code",
   "execution_count": 2,
   "metadata": {
    "colab": {
     "base_uri": "https://localhost:8080/"
    },
    "id": "3YBKfbFE0yly",
    "outputId": "f9468d6c-cd55-48bc-a6c4-f12d1f73e2eb"
   },
   "outputs": [
    {
     "name": "stdout",
     "output_type": "stream",
     "text": [
      "Mounted at /content/drive\n"
     ]
    }
   ],
   "source": [
    "from google.colab import drive\n",
    "drive.mount('/content/drive')"
   ]
  },
  {
   "cell_type": "code",
   "execution_count": null,
   "metadata": {
    "colab": {
     "base_uri": "https://localhost:8080/"
    },
    "id": "zWvvdH5uzIWv",
    "outputId": "fd02d652-cfdc-44c6-ec42-2b06736542b9"
   },
   "outputs": [
    {
     "name": "stdout",
     "output_type": "stream",
     "text": [
      "        ┌───┐┌─────────┐                                   ┌─────────────┐     »\n",
      "   q_0: ┤ H ├┤ P(x[0]) ├──■─────────────────────────────■──┤ Ry(teta[0]) ├──■──»\n",
      "        ├───┤├─────────┤┌─┴─┐┌───────────────────────┐┌─┴─┐├─────────────┤┌─┴─┐»\n",
      "   q_1: ┤ H ├┤ P(x[1]) ├┤ X ├┤ P(teta[10]*x[0]*x[1]) ├┤ X ├┤ Ry(teta[1]) ├┤ X ├»\n",
      "        └───┘└─────────┘└───┘└───────────────────────┘└───┘└─────────────┘└───┘»\n",
      "meas: 2/═══════════════════════════════════════════════════════════════════════»\n",
      "                                                                               »\n",
      "«        ┌─────────────┐     ┌─────────────┐     ┌─────────────┐     »\n",
      "«   q_0: ┤ Ry(teta[2]) ├──■──┤ Ry(teta[4]) ├──■──┤ Ry(teta[6]) ├──■──»\n",
      "«        ├─────────────┤┌─┴─┐├─────────────┤┌─┴─┐├─────────────┤┌─┴─┐»\n",
      "«   q_1: ┤ Ry(teta[3]) ├┤ X ├┤ Ry(teta[5]) ├┤ X ├┤ Ry(teta[7]) ├┤ X ├»\n",
      "«        └─────────────┘└───┘└─────────────┘└───┘└─────────────┘└───┘»\n",
      "«meas: 2/════════════════════════════════════════════════════════════»\n",
      "«                                                                    »\n",
      "«        ┌─────────────┐      ░ ┌─┐   \n",
      "«   q_0: ┤ Ry(teta[8]) ├──■───░─┤M├───\n",
      "«        ├─────────────┤┌─┴─┐ ░ └╥┘┌─┐\n",
      "«   q_1: ┤ Ry(teta[9]) ├┤ X ├─░──╫─┤M├\n",
      "«        └─────────────┘└───┘ ░  ║ └╥┘\n",
      "«meas: 2/════════════════════════╩══╩═\n",
      "«                                0  1 \n"
     ]
    }
   ],
   "source": [
    "import numpy as np\n",
    "from qiskit.circuit import ParameterVector\n",
    "from qiskit import QuantumCircuit\n",
    "import numpy as np\n",
    "#from qiskit import BasicAer, execute\n",
    "\n",
    "from qiskit_ibm_runtime import QiskitRuntimeService\n",
    "\n",
    "# define your parameters\n",
    "x = ParameterVector('x', 2)\n",
    "teta=ParameterVector('teta',11)\n",
    "teta10=1.52596629\n",
    "\n",
    "\n",
    "#Functions used in the optimization process of circuit parameters\n",
    "\n",
    "def ZZFeatureMap_11_parametros_MODI(feature_dimension=2, reps=1, x=x, teta=teta):\n",
    "    circuit = QuantumCircuit(feature_dimension)\n",
    "#1.06324998,  0.49609634\n",
    "#0.6810406 ,  0.93371965\n",
    "#opt_var7=np.array([0.68958857, 0.93659037])#0.765\n",
    "    for i in range(reps):\n",
    "        if i == 0:\n",
    "            circuit.h(range(feature_dimension))\n",
    "\n",
    "        for j in range(feature_dimension):\n",
    "            circuit.p( x[j] * 1, j)\n",
    "\n",
    "        circuit.cx(0, 1)\n",
    "\n",
    "        circuit.p( (x[0]*teta[10]) * (x[1]), 1)\n",
    "\n",
    "        circuit.cx(0, 1)\n",
    "\n",
    "        # Ensure that the indices are within the range of feature_dimension\n",
    "        if feature_dimension > 1:\n",
    "            circuit.ry(teta[0], 0)\n",
    "            circuit.ry(teta[1], 1)\n",
    "\n",
    "        if feature_dimension > 1:\n",
    "            circuit.cx(0, 1)\n",
    "            circuit.ry(teta[2], 0)\n",
    "            circuit.ry(teta[3], 1)\n",
    "        if feature_dimension > 1:\n",
    "            circuit.cx(0, 1)\n",
    "            circuit.ry(teta[4], 0)\n",
    "            circuit.ry(teta[5], 1)\n",
    "            circuit.cx(0, 1)\n",
    "        if feature_dimension > 1:\n",
    "\n",
    "            circuit.ry(teta[6], 0)\n",
    "            circuit.ry(teta[7], 1)\n",
    "            circuit.cx(0, 1)\n",
    "            circuit.ry(teta[8], 0)\n",
    "            circuit.ry(teta[9], 1)\n",
    "            circuit.cx(0, 1)\n",
    "            circuit.measure_all()\n",
    "\n",
    "    return circuit\n",
    "feature_map = ZZFeatureMap_11_parametros_MODI(feature_dimension=2, reps=1, x=x,teta=teta)\n",
    "print(feature_map)\n",
    "feature_map.draw('mpl')\n",
    "\n",
    "\n",
    "\n",
    "def classification_probability(data, variational):\n",
    "    \"\"\"Classify data points using given parameters.\n",
    "    Args:\n",
    "        data (list): Set of data points to classify\n",
    "        variational (list): Parameters for `VAR_FORM`\n",
    "    Returns:\n",
    "    #results = execute(circuits, backend, shots=shots_per_execution).result()\n",
    "    job = backend.run(circuits,shots=4000)\n",
    "    #counts = job.result().get_counts()\n",
    "    #######33\n",
    "    results = job.result()\n",
    "        list[dict]: Probability of circuit classifying\n",
    "                    each data point as 0 or 1.\n",
    "    shots_per_execution = 100\"\"\"\n",
    "    shots_per_execution = 50\n",
    "    circuits = [circuit_instance_MIO(d, variational) for d in data]\n",
    "    #backend = FakeManilaV2()\n",
    "    backend = FakeOsaka()\n",
    "    #results = execute(circuits, backend, shots=shots_per_execution).result()\n",
    "    #results = execute(circuits, backend, shots=shots_per_execution).result()\n",
    "    job = backend.run(circuits,shots=100)\n",
    "#counts = job.result().get_counts()\n",
    "    classification = [\n",
    "        label_probability(job.result().get_counts(c)) for c in circuits]\n",
    "    return classification\n",
    "\n",
    "def parity(bitstring):\n",
    "    \"\"\"Returns 1 if parity of `bitstring` is even, otherwise 0.\"\"\"\n",
    "    hamming_weight = sum(int(k) for k in list(bitstring))\n",
    "    return (hamming_weight+1) % 2\n",
    "def label_probability(results):\n",
    "    \"\"\"Converts a dict of bitstrings and their counts,\n",
    "    to parities and their counts\"\"\"\n",
    "    shots = sum(results.values())\n",
    "    probabilities = {0: 0, 1: 0}\n",
    "    for bitstring, counts in results.items():\n",
    "        label = parity(bitstring)\n",
    "        probabilities[label] += counts / shots\n",
    "    return probabilities\n",
    "\n",
    "def cross_entropy_loss(classification, expected):\n",
    "\n",
    "    p = classification.get(expected)  # Prob. of correct classification\n",
    "    return -np.log(p + 1e-10)\n",
    "\n",
    "\n",
    "\n",
    "def cost_function(data, labels, variational):\n",
    "    \"\"\"Evaluates performance of our circuit with `variational`\n",
    "    parameters on `data`.\n",
    "\n",
    "    Args:\n",
    "        data (list): List of data points to classify\n",
    "        labels (list): List of correct labels for each data point\n",
    "        variational (list): Parameters to use in circuit\n",
    "\n",
    "    Returns:\n",
    "        float: Cost (metric of performance)\n",
    "    \"\"\"\n",
    "    classifications = classification_probability(data, variational)\n",
    "    cost = 0\n",
    "    for i, classification in enumerate(classifications):\n",
    "        cost += cross_entropy_loss(classification, labels[i])\n",
    "    cost /= len(data)\n",
    "    return cost\n",
    "\n",
    "import time\n",
    "\n",
    "\n",
    "\n",
    "\n",
    "\n",
    "\n",
    "\n",
    "\n",
    "class OptimizerLog:\n",
    "    \"\"\"Log to store optimizer's intermediate results\"\"\"\n",
    "    def __init__(self):\n",
    "        self.evaluations = []\n",
    "        self.parameters = []\n",
    "        self.costs = []\n",
    "\n",
    "    def update(self, parameter):\n",
    "        \"\"\"Save intermediate results.\"\"\"\n",
    "        evaluation = len(self.evaluations) + 1  # Assuming evaluations are sequential\n",
    "        cost = objective_function(parameter)\n",
    "        self.evaluations.append(evaluation)\n",
    "        self.parameters.append(parameter)\n",
    "        self.costs.append(cost)\n",
    "\n",
    "\n",
    "\n",
    "\n",
    "\n",
    "def marcar_probabilidades_altas(probabilidades, umbral=0.91):\n",
    "    INDICE_CLASE_0 = []\n",
    "    INDICE_CLASE_1 = []\n",
    "\n",
    "    for idx, prob_dict in enumerate(probabilidades):\n",
    "        # Obtener la clase con la probabilidad más alta\n",
    "        clase_elegida = max(prob_dict, key=prob_dict.get)\n",
    "\n",
    "        # Marcar el elemento si la probabilidad es mayor que el umbral\n",
    "        if prob_dict[clase_elegida] > umbral:\n",
    "            if clase_elegida == 0:\n",
    "                INDICE_CLASE_0.append(idx)\n",
    "            elif clase_elegida == 1:\n",
    "                INDICE_CLASE_1.append(idx)\n",
    "\n",
    "    return INDICE_CLASE_0, INDICE_CLASE_1\n",
    "\n",
    "\n"
   ]
  },
  {
   "cell_type": "code",
   "execution_count": null,
   "metadata": {
    "colab": {
     "base_uri": "https://localhost:8080/"
    },
    "id": "hrRgZ4vhztfy",
    "outputId": "a92204de-9637-4506-b5a7-d336dda93915"
   },
   "outputs": [
    {
     "name": "stdout",
     "output_type": "stream",
     "text": [
      "Tiempo de ejecución: 1679.867520570755 segundos\n",
      "{   'fun': 0.4633378087513245,\n",
      "    'jac': None,\n",
      "    'nfev': 100,\n",
      "    'nit': None,\n",
      "    'njev': None,\n",
      "    'x': array([ 0.88107158,  5.34857287, -2.68008328, -3.0875298 , -6.47556594,\n",
      "       -0.99679796, -0.98433294,  8.79611478,  4.15260632,  7.95524071,\n",
      "        1.46057183])}\n"
     ]
    }
   ],
   "source": [
    "# Set up the optimizationfrom qiskit_algorithms.optimizers import SPSA  optimizer = COBYLA(maxiter=40)\n",
    "#from qiskit.algorithms.optimizers import\n",
    "import qiskit_algorithms\n",
    "from qiskit_algorithms.optimizers import SPSA,COBYLA,ADAM\n",
    "log = OptimizerLog()\n",
    "#optimizer = SPSA(maxiter=200,callback=callback_graph)\n",
    "\n",
    "bounds = [(0, 3), (0, 2)]\n",
    "optimizer = SPSA(maxiter=100)\n",
    "#optimizer = SPSA(maxiter=50, learning_rate=0.05, perturbation=0.05)\n",
    "\n",
    "#optimizer=COBYLA(maxiter=40 rhobeg=2.0,callback=log.update)\n",
    "optimizer = COBYLA(maxiter=100,callback=log.update)\n",
    "#optimizer =ADAM(maxiter=5)\n",
    "#optimizer = SPSA(maxiter=50)\n",
    "def circuit_instance_MIO(data, variational):\n",
    "    \"\"\"Assigns parameter values to `AD_HOC_CIRCUIT`.\n",
    "    Args:\n",
    "        data (list): Data values for the feature map\n",
    "        variational (list): Parameter values for `VAR_FORM`\n",
    "    Returns:\n",
    "        QuantumCircuit: `AD_HOC_CIRCUIT` with parameters assigned\n",
    "    \"\"\"\n",
    "\n",
    "    return feature_map.assign_parameters({x:data,teta:variational})\n",
    "\n",
    "\n",
    "# It is uncommented according to the circuit used 10 or 11 parameters\n",
    "\n",
    "#feature_map =ZZFeatureMap_11_parametros_MODI(feature_dimension=2, reps=1, x=x,teta=teta)\n",
    "\n",
    "feature_map = ZZFeatureMap_10_parametros(feature_dimension=2, reps=1, theta_param=2, x=x,teta=teta)\n",
    "\n",
    "\n",
    "\n",
    "\n",
    "\n",
    "\n",
    "\n",
    "\n",
    "\n",
    "# optimal value obtained WITH A MEAN P OF 0.9 for DP_NODP\n",
    "opt_var=np.array([-1.36465941,  0.72901008,  0.46274449, -0.22550087, 0.71628267, -5.0369175 ,  0.25267942,  3.20192607,  2.22427876,  2.87675972])\n",
    "\n",
    "\n",
    "\n",
    "\n",
    "def objective_function(variational):\n",
    "    \"\"\"Cost function of circuit parameters on training data.\n",
    "    The optimizer will attempt to minimize this.\"\"\"\n",
    "    return cost_function(TRAIN_DATA# clear objective value history\n",
    "\n",
    "objective_func_vals = []\n",
    "# Run the optimization\n",
    "bounds = [(0, 1.1), (0, 1.1)]\n",
    "\n",
    "\n",
    "# Record the start time\n",
    "\n",
    "\n",
    "inicio_tiempo = time.time()\n",
    "\n",
    "# PARAA 10 PARA\n",
    "opt_var=np.array([-0.28500921,  3.49039855,  1.85757059,  0.09167011, -3.19778968,\n",
    "       -6.05658208,  2.21860378,  5.5063756 ,  4.54796396,  2.70080547,\n",
    "        1.55475791])\n",
    "\n",
    "initial_point_FIN=np.array([-1.36465941,  0.72901008,  0.46274449, -0.22550087, 0.71628267, -5.0369175 ,  0.25267942,  3.20192607,  2.22427876,  2.87675972])\n",
    "\n",
    "\n",
    "# for 10 PARAM. intial value\n",
    "opt_var=np.array([-0.28500921,  3.49039855,  1.85757059,  0.09167011, -3.19778968,\n",
    "       -6.05658208,  2.21860378,  5.5063756 ,  4.54796396,  2.70080547,\n",
    "        1.55475791])\n",
    "\n",
    "initial_point=opt_var\n",
    "result = optimizer.minimize(objective_function, initial_point)\n",
    "\n",
    "# Record the completion time\n",
    "fin_tiempo = time.time()\n",
    "\n",
    "# Calculate the time difference\n",
    "tiempo_ejecucion = fin_tiempo - inicio_tiempo\n",
    "\n",
    "# Print the execution time\n",
    "print(f\"Time of the execution: {tiempo_ejecucion} s\")\n",
    "\n",
    "\n",
    "\n",
    "#final param for DP_NODP\n",
    "feature_map = ZZFeatureMap_10_parametros(feature_dimension=2, reps=1, theta_param=2, x=x,teta=teta)\n",
    "opt_var_10parametros=np.array([-1.36465941,  0.72901008,  0.46274449, -0.22550087, 0.71628267, -5.0369175 ,  0.25267942,  3.20192607,  2.22427876,  2.87675972])\n",
    "\n",
    "\n",
    "print(result)\n",
    "opt_var=result.x\n"
   ]
  },
  {
   "cell_type": "code",
   "execution_count": null,
   "metadata": {
    "colab": {
     "base_uri": "https://localhost:8080/",
     "height": 466
    },
    "id": "VNK94eDO0h76",
    "outputId": "fd6ffc2f-fd1d-4143-ff7c-e81f78e62c40"
   },
   "outputs": [
    {
     "data": {
      "text/plain": [
       "Text(0, 0.5, 'Cost')"
      ]
     },
     "execution_count": 50,
     "metadata": {},
     "output_type": "execute_result"
    },
    {
     "data": {
      "image/png": "[encoded data removed]",
      "text/plain": [
       "<Figure size 640x480 with 1 Axes>"
      ]
     },
     "metadata": {},
     "output_type": "display_data"
    }
   ],
   "source": [
    "import matplotlib.pyplot as plt\n",
    "import numpy as np\n",
    "\n",
    "# Suppose you have a 'log' object with attributes 'evaluations' and 'costs'\n",
    "# log = ... 'evaluations' y 'costs'\n",
    "# log = ...\n",
    "\n",
    "# Crear la figura\n",
    "fig = plt.figure()\n",
    "\n",
    "# Graficar los datos\n",
    "plt.plot(log.evaluations, log.costs)\n",
    "plt.xlabel('Steps')\n",
    "plt.ylabel('Cost')"
   ]
  },
  {
   "cell_type": "code",
   "execution_count": 11,
   "metadata": {
    "colab": {
     "base_uri": "https://localhost:8080/"
    },
    "id": "Z3hhRSSu0tlW",
    "outputId": "ba464a60-034b-4276-b685-78338d1d9dae"
   },
   "outputs": [
    {
     "name": "stdout",
     "output_type": "stream",
     "text": [
      "The average probability of matching is for train : 0.8903318903318903\n",
      "The average probability of matching is for test : 0.9195402298850575\n"
     ]
    }
   ],
   "source": [
    "import numpy as np\n",
    "from qiskit.circuit import ParameterVector\n",
    "from qiskit import QuantumCircuit\n",
    "import numpy as np\n",
    "\n",
    "from qiskit import QuantumCircuit\n",
    "# define your parameters\n",
    "x = ParameterVector('x', 2)\n",
    "teta=ParameterVector('teta',10)\n",
    "# define your parameters\n",
    "def ZZFeatureMap_10_parametros(feature_dimension=2, reps=1, theta_param=np.pi/2, x=x, teta=teta):\n",
    "    circuit = QuantumCircuit(feature_dimension)\n",
    "#1.06324998,  0.49609634\n",
    "    for i in range(reps):\n",
    "        if i == 0:\n",
    "            circuit.h(range(feature_dimension))\n",
    "\n",
    "        for j in range(feature_dimension):\n",
    "            circuit.p(theta_param * x[j] * 1, j)\n",
    "\n",
    "        circuit.cx(0, 1)\n",
    "\n",
    "        circuit.p(theta_param * (np.pi - x[0] *0.49609634) * (np.pi - x[1] *1.06324998), 1)\n",
    "\n",
    "        circuit.cx(0, 1)\n",
    "\n",
    "        # Ensure that the indices are within the range of feature_dimension\n",
    "        if feature_dimension > 1:\n",
    "            circuit.ry(teta[0], 0)\n",
    "            circuit.ry(teta[1], 1)\n",
    "\n",
    "        if feature_dimension > 1:\n",
    "            circuit.cx(0, 1)\n",
    "            circuit.ry(teta[2], 0)\n",
    "            circuit.ry(teta[3], 1)\n",
    "        if feature_dimension > 1:\n",
    "            circuit.cx(0, 1)\n",
    "            circuit.ry(teta[4], 0)\n",
    "            circuit.ry(teta[5], 1)\n",
    "            circuit.cx(0, 1)\n",
    "        if feature_dimension > 1:\n",
    "            circuit.cx(0, 1)\n",
    "            circuit.ry(teta[6], 0)\n",
    "            circuit.ry(teta[7], 1)\n",
    "            circuit.cx(0, 1)\n",
    "            circuit.ry(teta[8], 0)\n",
    "            circuit.ry(teta[9], 1)\n",
    "            circuit.cx(0, 1)\n",
    "            circuit.measure_all()\n",
    "\n",
    "    return circuit\n",
    "\n",
    "feature_map = ZZFeatureMap_10_parametros(feature_dimension=2, reps=1, theta_param=2, x=x,teta=teta)\n",
    "#print(feature_map)\n",
    "\n",
    "feature_map.decompose().draw()\n",
    "\n",
    "from qiskit import QuantumCircuit\n",
    "from qiskit import transpile\n",
    "from qiskit.visualization import plot_histogram\n",
    "from qiskit_ibm_runtime.fake_provider import FakeManilaV2,FakeBrisbane,FakeKyoto,FakeOsaka\n",
    "backend = FakeOsaka()\n",
    "\n",
    "\n",
    "\n",
    "def circuit_instance_MIO(data, variational):\n",
    "    \"\"\"Assigns parameter values to `AD_HOC_CIRCUIT`.\n",
    "    Args:\n",
    "        data (list): Data values for the feature map\n",
    "        variational (list): Parameter values for `VAR_FORM`\n",
    "    Returns:\n",
    "        QuantumCircuit: `AD_HOC_CIRCUIT` with parameters assigned\n",
    "    \"\"\"\n",
    "\n",
    "    return feature_map.assign_parameters({x:data,teta:variational})\n",
    "\n",
    "\n",
    "\n",
    "\n",
    "\n",
    "def classification_probability(data, variational):\n",
    "    \"\"\"Classify data points using given parameters.\n",
    "    Args:\n",
    "        data (list): Set of data points to classify\n",
    "        variational (list): Parameters for `VAR_FORM`\n",
    "    Returns:\n",
    "    #results = execute(circuits, backend, shots=shots_per_execution).result()\n",
    "    job = backend.run(circuits,shots=4000)\n",
    "    #counts = job.result().get_counts()\n",
    "    #######33\n",
    "    results = job.result()\n",
    "        list[dict]: Probability of circuit classifying\n",
    "                    each data point as 0 or 1.\n",
    "    shots_per_execution = 100\"\"\"\n",
    "    shots = 2000\n",
    "    circuits = [circuit_instance_MIO(d, variational) for d in data]\n",
    "    #backend = FakeManilaV2()\n",
    "    backend = FakeOsaka()\n",
    "    #results = execute(circuits, backend, shots=shots_per_execution).result()\n",
    "    #results = execute(circuits, backend, shots=shots_per_execution).result()\n",
    "    job = backend.run(circuits,shots=shots)\n",
    "#counts = job.result().get_counts()\n",
    "    classification = [\n",
    "        label_probability(job.result().get_counts(c)) for c in circuits]\n",
    "    return classification\n",
    "\n",
    "def parity(bitstring):\n",
    "    \"\"\"Returns 1 if parity of `bitstring` is even, otherwise 0.\"\"\"\n",
    "    hamming_weight = sum(int(k) for k in list(bitstring))\n",
    "    return (hamming_weight+1) % 2\n",
    "def label_probability(results):\n",
    "    \"\"\"Converts a dict of bitstrings and their counts,\n",
    "    to parities and their counts\"\"\"\n",
    "    shots = sum(results.values())\n",
    "    probabilities = {0: 0, 1: 0}\n",
    "    for bitstring, counts in results.items():\n",
    "        label = parity(bitstring)\n",
    "        probabilities[label] += counts / shots\n",
    "    return probabilities\n",
    "\n",
    "def cross_entropy_loss(classification, expected):\n",
    "    \"\"\"Calculate accuracy of predictions using cross entropy loss.\n",
    "    Args:\n",
    "        classification (dict): Dict where keys are possible classes,\n",
    "                               and values are the probability our\n",
    "                               circuit chooses that class.\n",
    "        expected (int): Correct classification of the data point.\n",
    "\n",
    "    Returns:\n",
    "        float: Cross entropy loss\n",
    "    \"\"\"\n",
    "    p = classification.get(expected)  # Prob. of correct classification\n",
    "    return -np.log(p + 1e-10)\n",
    "\n",
    "\n",
    "\n",
    "\n",
    "\n",
    "\n",
    "\n",
    "def comparar_probabilidades(probabilidades, labels):\n",
    "    if len(probabilidades) != len(labels):\n",
    "        raise ValueError(\"Lists of probabilities and labels must be the same length.\")\n",
    "\n",
    "    coincidencias = 0\n",
    "\n",
    "    for prob_dict, label in zip(probabilidades, labels):\n",
    "        # Get the class with the highest probability\n",
    "        clase_predicha = max(prob_dict, key=prob_dict.get)\n",
    "\n",
    "        # Check if the predicted class matches the actual label\n",
    "        if clase_predicha == label:\n",
    "            coincidencias += 1\n",
    "\n",
    "    probabilidad_media = coincidencias / len(labels)\n",
    "    return probabilidad_media\n",
    "\n",
    "\n",
    "\n",
    "\n",
    "\n",
    "feature_map = ZZFeatureMap_10_parametros(feature_dimension=2, reps=1, theta_param=2, x=x,teta=teta)\n",
    "\n",
    "opt_var=np.array([-1.36465941,  0.72901008,  0.46274449, -0.22550087, 0.71628267, -5.0369175 ,  0.25267942,  3.20192607,  2.22427876,  2.87675972])\n",
    "\n",
    "\"\"\" In this final part we can calculate the accuracy with this set of parameters after the optimization process.\n",
    "\"\"\"\n",
    "resultado = comparar_probabilidades(classification_probability(TRAIN_DATA,opt_var), TRAIN_LABELS)\n",
    "\n",
    "print(f\"The average probability of matching is for train : {resultado}\")\n",
    "\n",
    "resultado = comparar_probabilidades(classification_probability(TEST_DATA,opt_var), TEST_LABELS)\n",
    "print(f\"The average probability of matching is for test : {resultado}\")\n",
    "\n",
    "\n",
    "\n",
    "\n",
    "\n",
    "\n",
    "\n"
   ]
  }
 ],
 "metadata": {
  "colab": {
   "provenance": []
  },
  "kernelspec": {
   "display_name": "Python 3 (ipykernel)",
   "language": "python",
   "name": "python3"
  },
  "language_info": {
   "codemirror_mode": {
    "name": "ipython",
    "version": 3
   },
   "file_extension": ".py",
   "mimetype": "text/x-python",
   "name": "python",
   "nbconvert_exporter": "python",
   "pygments_lexer": "ipython3",
   "version": "3.10.12"
  }
 },
 "nbformat": 4,
 "nbformat_minor": 4
}
